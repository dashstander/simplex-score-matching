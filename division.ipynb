{
 "cells": [
  {
   "cell_type": "markdown",
   "id": "PygxzxvjMmsX",
   "metadata": {
    "id": "PygxzxvjMmsX"
   },
   "source": [
    "## Install Packages\n",
    "\n"
   ]
  },
  {
   "cell_type": "code",
   "execution_count": 1,
   "id": "r7tPOPKX3T_b",
   "metadata": {
    "colab": {
     "base_uri": "https://localhost:8080/",
     "height": 1000
    },
    "id": "r7tPOPKX3T_b",
    "outputId": "2869fd69-1cee-4b61-998e-dde479d7df7b"
   },
   "outputs": [
    {
     "name": "stdout",
     "output_type": "stream",
     "text": [
      "Processing ./geomstats\n",
      "  Preparing metadata (setup.py) ... \u001b[?25ldone\n",
      "\u001b[?25hRequirement already satisfied: joblib>=0.14.1 in /Users/dashiell/miniconda3/envs/ssm/lib/python3.10/site-packages (from geomstats==2.5.0) (1.1.0)\n",
      "Requirement already satisfied: matplotlib>=3.3.4 in /Users/dashiell/miniconda3/envs/ssm/lib/python3.10/site-packages (from geomstats==2.5.0) (3.5.3)\n",
      "Requirement already satisfied: numpy>=1.18.1 in /Users/dashiell/miniconda3/envs/ssm/lib/python3.10/site-packages (from geomstats==2.5.0) (1.23.3)\n",
      "Requirement already satisfied: pandas>=1.1.5 in /Users/dashiell/miniconda3/envs/ssm/lib/python3.10/site-packages (from geomstats==2.5.0) (1.4.4)\n",
      "Collecting scikit-learn>=0.22.1\n",
      "  Using cached scikit_learn-1.1.2-cp310-cp310-macosx_12_0_arm64.whl (7.7 MB)\n",
      "Collecting scipy<1.9,>=1.4.1\n",
      "  Downloading scipy-1.8.1-cp310-cp310-macosx_12_0_arm64.whl (28.7 MB)\n",
      "\u001b[2K     \u001b[38;2;114;156;31m━━━━━━━━━━━━━━━━━━━━━━━━━━━━━━━━━━━━━━━\u001b[0m \u001b[32m28.7/28.7 MB\u001b[0m \u001b[31m631.2 kB/s\u001b[0m eta \u001b[36m0:00:00\u001b[0mm eta \u001b[36m0:00:01\u001b[0m[36m0:00:02\u001b[0m\n",
      "\u001b[?25hRequirement already satisfied: python-dateutil>=2.7 in /Users/dashiell/miniconda3/envs/ssm/lib/python3.10/site-packages (from matplotlib>=3.3.4->geomstats==2.5.0) (2.8.2)\n",
      "Requirement already satisfied: packaging>=20.0 in /Users/dashiell/miniconda3/envs/ssm/lib/python3.10/site-packages (from matplotlib>=3.3.4->geomstats==2.5.0) (21.3)\n",
      "Requirement already satisfied: kiwisolver>=1.0.1 in /Users/dashiell/miniconda3/envs/ssm/lib/python3.10/site-packages (from matplotlib>=3.3.4->geomstats==2.5.0) (1.4.4)\n",
      "Requirement already satisfied: cycler>=0.10 in /Users/dashiell/miniconda3/envs/ssm/lib/python3.10/site-packages (from matplotlib>=3.3.4->geomstats==2.5.0) (0.11.0)\n",
      "Requirement already satisfied: fonttools>=4.22.0 in /Users/dashiell/miniconda3/envs/ssm/lib/python3.10/site-packages (from matplotlib>=3.3.4->geomstats==2.5.0) (4.37.1)\n",
      "Requirement already satisfied: pillow>=6.2.0 in /Users/dashiell/miniconda3/envs/ssm/lib/python3.10/site-packages (from matplotlib>=3.3.4->geomstats==2.5.0) (9.2.0)\n",
      "Requirement already satisfied: pyparsing>=2.2.1 in /Users/dashiell/miniconda3/envs/ssm/lib/python3.10/site-packages (from matplotlib>=3.3.4->geomstats==2.5.0) (3.0.9)\n",
      "Requirement already satisfied: pytz>=2020.1 in /Users/dashiell/miniconda3/envs/ssm/lib/python3.10/site-packages (from pandas>=1.1.5->geomstats==2.5.0) (2022.2.1)\n",
      "Collecting threadpoolctl>=2.0.0\n",
      "  Using cached threadpoolctl-3.1.0-py3-none-any.whl (14 kB)\n",
      "Requirement already satisfied: six>=1.5 in /Users/dashiell/miniconda3/envs/ssm/lib/python3.10/site-packages (from python-dateutil>=2.7->matplotlib>=3.3.4->geomstats==2.5.0) (1.16.0)\n",
      "Building wheels for collected packages: geomstats\n",
      "  Building wheel for geomstats (setup.py) ... \u001b[?25ldone\n",
      "\u001b[?25h  Created wheel for geomstats: filename=geomstats-2.5.0-py3-none-any.whl size=10076101 sha256=ef9922ac35e2222ddafb61c0ced2ebd825ac8ab6b3ebbf699a6e035c964b1031\n",
      "  Stored in directory: /private/var/folders/6s/zv4ygprx6jvg4d7jsgbjfc1r0000gn/T/pip-ephem-wheel-cache-_lzahqoi/wheels/e2/40/0b/00724ed1f42afc9561b29ee17a11a7912fb957685eb9614a91\n",
      "Successfully built geomstats\n",
      "Installing collected packages: threadpoolctl, scipy, scikit-learn, geomstats\n",
      "  Attempting uninstall: scipy\n",
      "    Found existing installation: scipy 1.9.1\n",
      "    Uninstalling scipy-1.9.1:\n",
      "      Successfully uninstalled scipy-1.9.1\n",
      "Successfully installed geomstats-2.5.0 scikit-learn-1.1.2 scipy-1.8.1 threadpoolctl-3.1.0\n",
      "Collecting jax\n",
      "  Downloading jax-0.3.17.tar.gz (1.1 MB)\n",
      "\u001b[2K     \u001b[38;2;114;156;31m━━━━━━━━━━━━━━━━━━━━━━━━━━━━━━━━━━━━━━━━\u001b[0m \u001b[32m1.1/1.1 MB\u001b[0m \u001b[31m909.2 kB/s\u001b[0m eta \u001b[36m0:00:00\u001b[0mm eta \u001b[36m0:00:01\u001b[0m6m0:00:01\u001b[0m\n",
      "\u001b[?25h  Preparing metadata (setup.py) ... \u001b[?25ldone\n",
      "\u001b[?25hRequirement already satisfied: matplotlib in /Users/dashiell/miniconda3/envs/ssm/lib/python3.10/site-packages (3.5.3)\n",
      "Collecting diffrax\n",
      "  Downloading diffrax-0.2.1-py3-none-any.whl (140 kB)\n",
      "\u001b[2K     \u001b[38;2;114;156;31m━━━━━━━━━━━━━━━━━━━━━━━━━━━━━━━━━━━━━\u001b[0m \u001b[32m140.7/140.7 kB\u001b[0m \u001b[31m262.4 kB/s\u001b[0m eta \u001b[36m0:00:00\u001b[0m kB/s\u001b[0m eta \u001b[36m0:00:01\u001b[0m:01\u001b[0m\n",
      "\u001b[?25hCollecting flax\n",
      "  Downloading flax-0.6.0-py3-none-any.whl (180 kB)\n",
      "\u001b[2K     \u001b[38;2;114;156;31m━━━━━━━━━━━━━━━━━━━━━━━━━━━━━━━━━━━━━\u001b[0m \u001b[32m180.1/180.1 kB\u001b[0m \u001b[31m385.1 kB/s\u001b[0m eta \u001b[36m0:00:00\u001b[0m1m363.6 kB/s\u001b[0m eta \u001b[36m0:00:01\u001b[0m\n",
      "\u001b[?25hCollecting einops\n",
      "  Using cached einops-0.4.1-py3-none-any.whl (28 kB)\n",
      "Requirement already satisfied: tqdm in /Users/dashiell/miniconda3/envs/ssm/lib/python3.10/site-packages (4.64.1)\n",
      "Collecting wandb\n",
      "  Downloading wandb-0.13.3-py2.py3-none-any.whl (1.8 MB)\n",
      "\u001b[2K     \u001b[38;2;114;156;31m━━━━━━━━━━━━━━━━━━━━━━━━━━━━━━━━━━━━━━━━\u001b[0m \u001b[32m1.8/1.8 MB\u001b[0m \u001b[31m1.2 MB/s\u001b[0m eta \u001b[36m0:00:00\u001b[0mm eta \u001b[36m0:00:01\u001b[0m[36m0:00:01\u001b[0m0m\n",
      "\u001b[?25hRequirement already satisfied: seaborn in /Users/dashiell/miniconda3/envs/ssm/lib/python3.10/site-packages (0.12.0)\n",
      "Collecting absl-py\n",
      "  Downloading absl_py-1.2.0-py3-none-any.whl (123 kB)\n",
      "\u001b[2K     \u001b[38;2;114;156;31m━━━━━━━━━━━━━━━━━━━━━━━━━━━━━━━━━━━━━━━\u001b[0m \u001b[32m123.4/123.4 kB\u001b[0m \u001b[31m1.2 MB/s\u001b[0m eta \u001b[36m0:00:00\u001b[0m[31m1.5 MB/s\u001b[0m eta \u001b[36m0:00:01\u001b[0m\n",
      "\u001b[?25hRequirement already satisfied: numpy>=1.20 in /Users/dashiell/miniconda3/envs/ssm/lib/python3.10/site-packages (from jax) (1.23.3)\n",
      "Collecting opt_einsum\n",
      "  Using cached opt_einsum-3.3.0-py3-none-any.whl (65 kB)\n",
      "Requirement already satisfied: scipy>=1.5 in /Users/dashiell/miniconda3/envs/ssm/lib/python3.10/site-packages (from jax) (1.8.1)\n",
      "Requirement already satisfied: typing_extensions in /Users/dashiell/miniconda3/envs/ssm/lib/python3.10/site-packages (from jax) (4.3.0)\n",
      "Collecting etils[epath]\n",
      "  Downloading etils-0.8.0-py3-none-any.whl (127 kB)\n",
      "\u001b[2K     \u001b[38;2;114;156;31m━━━━━━━━━━━━━━━━━━━━━━━━━━━━━━━━━━━━━━━\u001b[0m \u001b[32m127.2/127.2 kB\u001b[0m \u001b[31m1.1 MB/s\u001b[0m eta \u001b[36m0:00:00\u001b[0m[31m1.5 MB/s\u001b[0m eta \u001b[36m0:00:01\u001b[0m\n",
      "\u001b[?25hRequirement already satisfied: cycler>=0.10 in /Users/dashiell/miniconda3/envs/ssm/lib/python3.10/site-packages (from matplotlib) (0.11.0)\n",
      "Requirement already satisfied: python-dateutil>=2.7 in /Users/dashiell/miniconda3/envs/ssm/lib/python3.10/site-packages (from matplotlib) (2.8.2)\n",
      "Requirement already satisfied: kiwisolver>=1.0.1 in /Users/dashiell/miniconda3/envs/ssm/lib/python3.10/site-packages (from matplotlib) (1.4.4)\n",
      "Requirement already satisfied: packaging>=20.0 in /Users/dashiell/miniconda3/envs/ssm/lib/python3.10/site-packages (from matplotlib) (21.3)\n",
      "Requirement already satisfied: fonttools>=4.22.0 in /Users/dashiell/miniconda3/envs/ssm/lib/python3.10/site-packages (from matplotlib) (4.37.1)\n",
      "Requirement already satisfied: pillow>=6.2.0 in /Users/dashiell/miniconda3/envs/ssm/lib/python3.10/site-packages (from matplotlib) (9.2.0)\n",
      "Requirement already satisfied: pyparsing>=2.2.1 in /Users/dashiell/miniconda3/envs/ssm/lib/python3.10/site-packages (from matplotlib) (3.0.9)\n",
      "Collecting equinox>=0.5.4\n",
      "  Downloading equinox-0.8.0-py3-none-any.whl (67 kB)\n",
      "\u001b[2K     \u001b[38;2;114;156;31m━━━━━━━━━━━━━━━━━━━━━━━━━━━━━━━━━━━━━━━━\u001b[0m \u001b[32m67.4/67.4 kB\u001b[0m \u001b[31m1.2 MB/s\u001b[0m eta \u001b[36m0:00:00\u001b[0m MB/s\u001b[0m eta \u001b[36m0:00:01\u001b[0m\n",
      "\u001b[?25hCollecting msgpack\n",
      "  Downloading msgpack-1.0.4-cp310-cp310-macosx_11_0_arm64.whl (69 kB)\n",
      "\u001b[2K     \u001b[38;2;114;156;31m━━━━━━━━━━━━━━━━━━━━━━━━━━━━━━━━━━━━━━━━\u001b[0m \u001b[32m69.5/69.5 kB\u001b[0m \u001b[31m1.2 MB/s\u001b[0m eta \u001b[36m0:00:00\u001b[0m MB/s\u001b[0m eta \u001b[36m0:00:01\u001b[0m\n",
      "\u001b[?25hCollecting optax\n",
      "  Downloading optax-0.1.3-py3-none-any.whl (145 kB)\n",
      "\u001b[2K     \u001b[38;2;114;156;31m━━━━━━━━━━━━━━━━━━━━━━━━━━━━━━━━━━━━━━━\u001b[0m \u001b[32m145.1/145.1 kB\u001b[0m \u001b[31m1.2 MB/s\u001b[0m eta \u001b[36m0:00:00\u001b[0m MB/s\u001b[0m eta \u001b[36m0:00:01\u001b[0m:01\u001b[0m\n",
      "\u001b[?25hRequirement already satisfied: PyYAML>=5.4.1 in /Users/dashiell/miniconda3/envs/ssm/lib/python3.10/site-packages (from flax) (6.0)\n",
      "Collecting rich~=11.1\n",
      "  Downloading rich-11.2.0-py3-none-any.whl (217 kB)\n",
      "\u001b[2K     \u001b[38;2;114;156;31m━━━━━━━━━━━━━━━━━━━━━━━━━━━━━━━━━━━━━━━\u001b[0m \u001b[32m217.3/217.3 kB\u001b[0m \u001b[31m1.2 MB/s\u001b[0m eta \u001b[36m0:00:00\u001b[0mm eta \u001b[36m0:00:01\u001b[0m[36m0:00:01\u001b[0m\n",
      "\u001b[?25hCollecting GitPython>=1.0.0\n",
      "  Using cached GitPython-3.1.27-py3-none-any.whl (181 kB)\n",
      "Requirement already satisfied: six>=1.13.0 in /Users/dashiell/miniconda3/envs/ssm/lib/python3.10/site-packages (from wandb) (1.16.0)\n",
      "Collecting pathtools\n",
      "  Using cached pathtools-0.1.2-py3-none-any.whl\n",
      "Collecting sentry-sdk>=1.0.0\n",
      "  Downloading sentry_sdk-1.9.8-py2.py3-none-any.whl (158 kB)\n",
      "\u001b[2K     \u001b[38;2;114;156;31m━━━━━━━━━━━━━━━━━━━━━━━━━━━━━━━━━━━━━━━\u001b[0m \u001b[32m158.7/158.7 kB\u001b[0m \u001b[31m1.2 MB/s\u001b[0m eta \u001b[36m0:00:00\u001b[0m[31m1.5 MB/s\u001b[0m eta \u001b[36m0:00:01\u001b[0m\n",
      "\u001b[?25hCollecting setproctitle\n",
      "  Using cached setproctitle-1.3.2-cp310-cp310-macosx_10_9_universal2.whl (16 kB)\n",
      "Collecting docker-pycreds>=0.4.0\n",
      "  Using cached docker_pycreds-0.4.0-py2.py3-none-any.whl (9.0 kB)\n",
      "Requirement already satisfied: requests<3,>=2.0.0 in /Users/dashiell/miniconda3/envs/ssm/lib/python3.10/site-packages (from wandb) (2.28.1)\n",
      "Requirement already satisfied: Click!=8.0.0,>=7.0 in /Users/dashiell/miniconda3/envs/ssm/lib/python3.10/site-packages (from wandb) (8.1.3)\n",
      "Requirement already satisfied: setuptools in /Users/dashiell/miniconda3/envs/ssm/lib/python3.10/site-packages (from wandb) (65.3.0)\n",
      "Collecting promise<3,>=2.0\n",
      "  Using cached promise-2.3-py3-none-any.whl\n",
      "Requirement already satisfied: psutil>=5.0.0 in /Users/dashiell/miniconda3/envs/ssm/lib/python3.10/site-packages (from wandb) (5.9.2)\n",
      "Collecting shortuuid>=0.5.0\n",
      "  Using cached shortuuid-1.0.9-py3-none-any.whl (9.4 kB)\n",
      "Requirement already satisfied: protobuf<4.0dev,>=3.12.0 in /Users/dashiell/miniconda3/envs/ssm/lib/python3.10/site-packages (from wandb) (3.20.1)\n",
      "Requirement already satisfied: pandas>=0.25 in /Users/dashiell/miniconda3/envs/ssm/lib/python3.10/site-packages (from seaborn) (1.4.4)\n",
      "Collecting jaxtyping>=0.2.5\n",
      "  Downloading jaxtyping-0.2.6-py3-none-any.whl (17 kB)\n",
      "Collecting gitdb<5,>=4.0.1\n",
      "  Using cached gitdb-4.0.9-py3-none-any.whl (63 kB)\n",
      "Requirement already satisfied: pytz>=2020.1 in /Users/dashiell/miniconda3/envs/ssm/lib/python3.10/site-packages (from pandas>=0.25->seaborn) (2022.2.1)\n",
      "Requirement already satisfied: charset-normalizer<3,>=2 in /Users/dashiell/miniconda3/envs/ssm/lib/python3.10/site-packages (from requests<3,>=2.0.0->wandb) (2.1.1)\n",
      "Requirement already satisfied: idna<4,>=2.5 in /Users/dashiell/miniconda3/envs/ssm/lib/python3.10/site-packages (from requests<3,>=2.0.0->wandb) (3.3)\n",
      "Requirement already satisfied: certifi>=2017.4.17 in /Users/dashiell/miniconda3/envs/ssm/lib/python3.10/site-packages (from requests<3,>=2.0.0->wandb) (2022.6.15.1)\n",
      "Requirement already satisfied: urllib3<1.27,>=1.21.1 in /Users/dashiell/miniconda3/envs/ssm/lib/python3.10/site-packages (from requests<3,>=2.0.0->wandb) (1.26.11)\n",
      "Requirement already satisfied: colorama<0.5.0,>=0.4.0 in /Users/dashiell/miniconda3/envs/ssm/lib/python3.10/site-packages (from rich~=11.1->flax) (0.4.5)\n",
      "Requirement already satisfied: pygments<3.0.0,>=2.6.0 in /Users/dashiell/miniconda3/envs/ssm/lib/python3.10/site-packages (from rich~=11.1->flax) (2.13.0)\n",
      "Collecting commonmark<0.10.0,>=0.9.0\n",
      "  Using cached commonmark-0.9.1-py2.py3-none-any.whl (51 kB)\n",
      "Requirement already satisfied: importlib_resources in /Users/dashiell/miniconda3/envs/ssm/lib/python3.10/site-packages (from etils[epath]->jax) (5.9.0)\n",
      "Requirement already satisfied: zipp in /Users/dashiell/miniconda3/envs/ssm/lib/python3.10/site-packages (from etils[epath]->jax) (3.8.1)\n",
      "Collecting chex>=0.0.4\n",
      "  Downloading chex-0.1.5-py3-none-any.whl (85 kB)\n",
      "\u001b[2K     \u001b[38;2;114;156;31m━━━━━━━━━━━━━━━━━━━━━━━━━━━━━━━━━━━━━━━━\u001b[0m \u001b[32m85.3/85.3 kB\u001b[0m \u001b[31m1.2 MB/s\u001b[0m eta \u001b[36m0:00:00\u001b[0m[31m1.9 MB/s\u001b[0m eta \u001b[36m0:00:01\u001b[0m\n",
      "\u001b[?25hCollecting jaxlib>=0.1.37\n",
      "  Downloading jaxlib-0.3.15-cp310-none-macosx_11_0_arm64.whl (54.6 MB)\n",
      "\u001b[2K     \u001b[38;2;114;156;31m━━━━━━━━━━━━━━━━━━━━━━━━━━━━━━━━━━━━━━━━\u001b[0m \u001b[32m54.6/54.6 MB\u001b[0m \u001b[31m1.1 MB/s\u001b[0m eta \u001b[36m0:00:00\u001b[0mm eta \u001b[36m0:00:01\u001b[0mm[36m0:00:02\u001b[0m\n",
      "\u001b[?25hCollecting toolz>=0.9.0\n",
      "  Downloading toolz-0.12.0-py3-none-any.whl (55 kB)\n",
      "\u001b[2K     \u001b[38;2;114;156;31m━━━━━━━━━━━━━━━━━━━━━━━━━━━━━━━━━━━━━━━\u001b[0m \u001b[32m55.8/55.8 kB\u001b[0m \u001b[31m293.4 kB/s\u001b[0m eta \u001b[36m0:00:00\u001b[0m1m275.1 kB/s\u001b[0m eta \u001b[36m0:00:01\u001b[0m\n",
      "\u001b[?25hCollecting dm-tree>=0.1.5\n",
      "  Downloading dm_tree-0.1.7-cp310-cp310-macosx_11_0_arm64.whl (104 kB)\n",
      "\u001b[2K     \u001b[38;2;114;156;31m━━━━━━━━━━━━━━━━━━━━━━━━━━━━━━━━━━━━━\u001b[0m \u001b[32m105.0/105.0 kB\u001b[0m \u001b[31m188.4 kB/s\u001b[0m eta \u001b[36m0:00:00\u001b[0m[36m0:00:01\u001b[0m[36m0:00:01\u001b[0m:01\u001b[0m\n",
      "\u001b[?25hCollecting smmap<6,>=3.0.1\n",
      "  Using cached smmap-5.0.0-py3-none-any.whl (24 kB)\n",
      "Collecting typeguard>=2.13.3\n",
      "  Using cached typeguard-2.13.3-py3-none-any.whl (17 kB)\n",
      "Building wheels for collected packages: jax\n",
      "  Building wheel for jax (setup.py) ... \u001b[?25ldone\n",
      "\u001b[?25h  Created wheel for jax: filename=jax-0.3.17-py3-none-any.whl size=1217851 sha256=473a895c71f775f798858d77521e2dcf4711b62dc6a4d0bb3070d13510b86ebf\n",
      "  Stored in directory: /Users/dashiell/Library/Caches/pip/wheels/e9/bc/9a/3977c64e34db4863a5385cc29ad82b00235255cc4eaa1edb21\n",
      "Successfully built jax\n",
      "Installing collected packages: pathtools, msgpack, einops, dm-tree, commonmark, typeguard, toolz, smmap, shortuuid, setproctitle, sentry-sdk, rich, promise, opt_einsum, etils, docker-pycreds, absl-py, jaxlib, gitdb, GitPython, wandb, jax, jaxtyping, chex, optax, equinox, flax, diffrax\n",
      "Successfully installed GitPython-3.1.27 absl-py-1.2.0 chex-0.1.5 commonmark-0.9.1 diffrax-0.2.1 dm-tree-0.1.7 docker-pycreds-0.4.0 einops-0.4.1 equinox-0.8.0 etils-0.8.0 flax-0.6.0 gitdb-4.0.9 jax-0.3.17 jaxlib-0.3.15 jaxtyping-0.2.6 msgpack-1.0.4 opt_einsum-3.3.0 optax-0.1.3 pathtools-0.1.2 promise-2.3 rich-11.2.0 sentry-sdk-1.9.8 setproctitle-1.3.2 shortuuid-1.0.9 smmap-5.0.0 toolz-0.12.0 typeguard-2.13.3 wandb-0.13.3\n"
     ]
    }
   ],
   "source": [
    "# ! git clone https://github.com/oxcsml/geomstats.git\n",
    "! pip3 install ./geomstats\n",
    "! pip3 install jax matplotlib diffrax flax einops tqdm wandb seaborn\n",
    "#! pip3 install matplotlib==3.1.3 "
   ]
  },
  {
   "cell_type": "code",
   "execution_count": 2,
   "id": "myhzClUKwvA7",
   "metadata": {
    "id": "myhzClUKwvA7"
   },
   "outputs": [],
   "source": [
    "%matplotlib inline"
   ]
  },
  {
   "cell_type": "markdown",
   "id": "D8HkohuYKP8L",
   "metadata": {
    "id": "D8HkohuYKP8L"
   },
   "source": [
    "## Data\n",
    "\n",
    "Setting up the utilities to generate random real numbers $\\nu \\in (0, 10)$ as well as a random maximum denominator $q_{max}$ are sampled. Once these are chosen, two integers $p, q$ with $ q \\le q_{max}$ are chosen such that $\\frac{p}{q} \\approx \\nu$.\n",
    "\n",
    "Currently representing the integers $p, q$ in binary. This may be subject to change. "
   ]
  },
  {
   "cell_type": "code",
   "execution_count": 3,
   "id": "ee58e7b4-81fb-4635-af65-fd9bbd8c7d2e",
   "metadata": {
    "id": "ee58e7b4-81fb-4635-af65-fd9bbd8c7d2e"
   },
   "outputs": [],
   "source": [
    "from dataclasses import dataclass\n",
    "from fractions import Fraction\n",
    "from random import choice, choices\n",
    "import numpy as np\n",
    "\n",
    "\n",
    "def int_to_binary(x, width=14):\n",
    "    return np.array(list(np.binary_repr(x, width=width)), dtype=np.uint8)\n",
    "\n",
    "\n",
    "@dataclass\n",
    "class RationalApprox:\n",
    "    target_real: str\n",
    "    frac: Fraction\n",
    "    dtype = np.uint32\n",
    "\n",
    "    @property\n",
    "    def numerator(self):\n",
    "        return self.frac.numerator\n",
    "\n",
    "    @property\n",
    "    def denominator(self):\n",
    "        return self.frac.denominator\n",
    "\n",
    "    def approximation(self):\n",
    "        num = self.frac.numerator * 1.\n",
    "        denom = self.frac.denominator\n",
    "        return num / denom\n",
    "\n",
    "    def to_numpy(self):\n",
    "        num = int_to_binary(self.numerator)\n",
    "        denom = int_to_binary(self.denominator)\n",
    "        return np.stack((num, denom))\n",
    "\n",
    "    def for_batch(self):\n",
    "        return self.target_real, self.to_numpy()\n",
    "\n",
    "\n",
    "def rand_frac(decimal_places=15, max_denom=1024):\n",
    "    # TODO: Refactor this to be in terms of numpy or jax rng for proper reproducibility\n",
    "    digits = ['0', '1', '2', '3', '4', '5', '6', '7', '8', '9']\n",
    "    leading_digit = choices(digits, weights=[4, 1, 1, 1, 1, 1, 1, 1, 1, 1])[0]\n",
    "    remaining = ''.join(choices(digits, k=decimal_places))\n",
    "    number = f'{leading_digit}.{remaining}'\n",
    "    return RationalApprox(number, Fraction(number).limit_denominator(max_denom))\n",
    "\n",
    "\n",
    "def make_batch(batch_size=128):\n",
    "    denominators = [4, 8, 16, 32, 64, 128, 256, 512, 1024]\n",
    "    numbers = [rand_frac(max_denom=choice(denominators)).for_batch() for _ in range(batch_size)]\n",
    "    dec_strings, fractions = zip(*numbers)\n",
    "    return np.array(dec_strings, dtype=np.float32), np.stack(fractions, axis=0)"
   ]
  },
  {
   "cell_type": "markdown",
   "id": "0KJkVFAWMZBZ",
   "metadata": {
    "id": "0KJkVFAWMZBZ"
   },
   "source": [
    "## Manifold Random Walks\n"
   ]
  },
  {
   "cell_type": "code",
   "execution_count": 4,
   "id": "CzNNIUSUIeYq",
   "metadata": {
    "id": "CzNNIUSUIeYq"
   },
   "outputs": [],
   "source": [
    "import os\n",
    "\n",
    "os.environ[\"GEOMSTATS_BACKEND\"] = \"jax\"\n",
    "\n",
    "import jax\n",
    "import jax.numpy as jnp\n",
    "import diffrax"
   ]
  },
  {
   "cell_type": "code",
   "execution_count": 5,
   "id": "VxgDNeu6WCBL",
   "metadata": {
    "colab": {
     "base_uri": "https://localhost:8080/"
    },
    "id": "VxgDNeu6WCBL",
    "outputId": "71e47f71-b84c-45e0-fc89-2846b0dd1e2f"
   },
   "outputs": [
    {
     "name": "stderr",
     "output_type": "stream",
     "text": [
      "INFO:absl:Unable to initialize backend 'tpu_driver': NOT_FOUND: Unable to find driver in registry given worker: \n",
      "INFO:absl:Unable to initialize backend 'cuda': FAILED_PRECONDITION: No visible GPU devices.\n",
      "INFO:absl:Unable to initialize backend 'rocm': NOT_FOUND: Could not find registered platform with name: \"rocm\". Available platform names are: Interpreter CUDA Host\n",
      "INFO:absl:Unable to initialize backend 'tpu': module 'jaxlib.xla_extension' has no attribute 'get_tpu_client'\n",
      "WARNING:absl:No GPU/TPU found, falling back to CPU. (Set TF_CPP_MIN_LOG_LEVEL=0 and rerun for more info.)\n",
      "INFO:root:Using jax backend\n"
     ]
    }
   ],
   "source": [
    "from diffrax import diffeqsolve, ControlTerm, Euler, MultiTerm, ODETerm, SaveAt, VirtualBrownianTree\n",
    "import geomstats.visualization as visualization\n",
    "from geomstats.geometry.hypersphere import Hypersphere\n",
    "from geomstats.geometry.product_manifold import ProductSameManifold, ProductSameRiemannianMetric\n",
    "import geomstats.backend as gs"
   ]
  },
  {
   "cell_type": "code",
   "execution_count": 6,
   "id": "ybkqgQ9V4tfI",
   "metadata": {
    "id": "ybkqgQ9V4tfI"
   },
   "outputs": [],
   "source": [
    "def geodesic_random_walk(manif, num_steps, time, rng_key, x0=None):\n",
    "    step_size = time / num_steps\n",
    "    gamma = jnp.sqrt(step_size)\n",
    "    tangent_dim = manif.embedding_space.dim\n",
    "    if x0 is None:\n",
    "        rng_key, x0_key = jax.random.split(rng_key)\n",
    "        x0 = manif.random_uniform(state=x0_key)\n",
    "    def grw_step(carry, rv):\n",
    "        tangent_rv = gamma * manif.to_tangent(rv, x)\n",
    "        x_new = manif.exp(tangent_rv, carry)\n",
    "        return x_new, x_new\n",
    "    rvs = jax.random.normal(rng_key, (num_steps, tangent_dim))\n",
    "    return jax.lax.scan(grw_step, x0, rvs)"
   ]
  },
  {
   "cell_type": "code",
   "execution_count": 9,
   "id": "vjCQVytF4whJ",
   "metadata": {
    "id": "vjCQVytF4whJ"
   },
   "outputs": [],
   "source": [
    "x = jnp.array([1., 0., 0.])\n",
    "key = jax.random.PRNGKey(314)\n",
    "key, subkey = jax.random.split(key)\n",
    "manif = Hypersphere(2)\n",
    "grw = geodesic_random_walk(manif, 1000, 8, subkey, x0=x)"
   ]
  },
  {
   "cell_type": "code",
   "execution_count": 10,
   "id": "IIxysTqj_IEi",
   "metadata": {
    "colab": {
     "base_uri": "https://localhost:8080/"
    },
    "id": "IIxysTqj_IEi",
    "outputId": "550b61cd-0454-4b2b-8ddf-54a1e089476d"
   },
   "outputs": [
    {
     "data": {
      "text/plain": [
       "(DeviceArray([ 0.00349199, -0.67380184,  0.7389034 ], dtype=float32),\n",
       " DeviceArray([[ 9.9960518e-01,  2.8096525e-02, -1.0146119e-04],\n",
       "              [ 9.9198759e-01,  3.8272552e-02, -1.2039840e-01],\n",
       "              [ 9.8407435e-01, -5.4092366e-02, -1.6932705e-01],\n",
       "              ...,\n",
       "              [ 3.6974836e-03, -6.0509509e-01,  7.9614425e-01],\n",
       "              [ 3.5356847e-03, -6.7413783e-01,  7.3859668e-01],\n",
       "              [ 3.4919900e-03, -6.7380184e-01,  7.3890340e-01]],            dtype=float32))"
      ]
     },
     "execution_count": 10,
     "metadata": {},
     "output_type": "execute_result"
    }
   ],
   "source": [
    "grw"
   ]
  },
  {
   "cell_type": "code",
   "execution_count": 11,
   "id": "Q7msEWuUADcI",
   "metadata": {
    "colab": {
     "base_uri": "https://localhost:8080/"
    },
    "id": "Q7msEWuUADcI",
    "outputId": "07b76c1a-e5f3-4036-c4c3-069e5cd811df"
   },
   "outputs": [
    {
     "name": "stderr",
     "output_type": "stream",
     "text": [
      "INFO:numexpr.utils:NumExpr defaulting to 2 threads.\n"
     ]
    }
   ],
   "source": [
    "import geomstats.visualization as visualization\n",
    "#import matplotlib.animation as animation\n",
    "import matplotlib.pyplot as plt\n",
    "import matplotlib.colors as mcolors\n",
    "import seaborn as sns\n",
    "\n",
    "\n",
    "def remove_background(ax):\n",
    "    ax.set_axis_off()\n",
    "    ax.xaxis.pane.fill = False\n",
    "    ax.yaxis.pane.fill = False\n",
    "    ax.zaxis.pane.fill = False\n",
    "    ax.grid(False)\n",
    "    ax.set_xticks([])\n",
    "    ax.set_yticks([])\n",
    "    ax.set_zticks([])\n",
    "    return ax\n",
    "\n",
    "\n",
    "def latlon_from_cartesian(points):\n",
    "    r = jnp.linalg.norm(points, axis=-1)\n",
    "    x = points[..., 0]\n",
    "    y = points[..., 1]\n",
    "    z = points[..., 2]\n",
    "\n",
    "    lat = -jnp.arcsin(z / r)\n",
    "    lon = jnp.arctan2(y, x)\n",
    "    # lon = jnp.where(lon > 0, lon - math.pi, lon + math.pi)\n",
    "    return jnp.concatenate([jnp.expand_dims(lat, -1), jnp.expand_dims(lon, -1)], axis=-1)\n",
    "\n",
    "\n",
    "def cartesian_from_latlong(points):\n",
    "    lat = points[..., 0]\n",
    "    lon = points[..., 1]\n",
    "\n",
    "    x = jnp.cos(lat) * jnp.cos(lon)\n",
    "    y = jnp.cos(lat) * jnp.sin(lon)\n",
    "    z = jnp.sin(lat)\n",
    "\n",
    "    return jnp.stack([x, y, z], axis=-1)\n",
    "\n",
    "\n",
    "def get_spherical_grid(N, eps=0.0):\n",
    "    lat = jnp.linspace(-90 + eps, 90 - eps, N // 2)\n",
    "    lon = jnp.linspace(-180 + eps, 180 - eps, N)\n",
    "    Lat, Lon = jnp.meshgrid(lat, lon)\n",
    "    latlon_xs = jnp.concatenate([Lat.reshape(-1, 1), Lon.reshape(-1, 1)], axis=-1)\n",
    "    spherical_xs = jnp.pi * (latlon_xs / 180.0) + jnp.array([jnp.pi / 2, jnp.pi])[None, :]\n",
    "    xs = Hypersphere(2).spherical_to_extrinsic(spherical_xs)\n",
    "    return xs, lat, lon\n",
    "\n",
    "\n",
    "def plot_3d(x0s, xts, size, prob):\n",
    "    fig = plt.figure(figsize=(size, size))\n",
    "    ax = fig.add_subplot(111, projection=\"3d\")\n",
    "    ax = remove_background(ax)\n",
    "    fig.subplots_adjust(left=-0.2, bottom=-0.2, right=1.2, top=1.2, wspace=0, hspace=0)\n",
    "    # ax.view_init(elev=30, azim=45)\n",
    "    ax.view_init(elev=0, azim=0)\n",
    "    cmap = sns.cubehelix_palette(as_cmap=True)\n",
    "    sphere = visualization.Sphere()\n",
    "    sphere.draw(ax, color=\"red\", marker=\".\")\n",
    "    # sphere_plot(ax)\n",
    "    # sphere.plot_heatmap(ax, pdf, n_points=16000, alpha=0.2, cmap=cmap)\n",
    "    for k, (x0, xt) in enumerate(zip(x0s, xts)):\n",
    "        if x0 is not None:\n",
    "            cax = ax.scatter(x0[:, 0], x0[:, 1], x0[:, 2], s=50, color=\"green\")\n",
    "        if xt is not None:\n",
    "            x, y, z = xt[:, 0], xt[:, 1], xt[:, 2]\n",
    "            c = prob if prob is not None else np.ones([*xt.shape[:-1]])\n",
    "            cax = ax.scatter(x, y, z, s=50, vmin=0.0, vmax=2.0, c=c, cmap=cmap)\n",
    "        # if grad is not None:\n",
    "        #     u, v, w = grad[:, 0], grad[:, 1], grad[:, 2]\n",
    "        #     quiver = ax.quiver(\n",
    "        #         x, y, z, u, v, w, length=0.2, lw=2, normalize=False, cmap=cmap\n",
    "        #     )\n",
    "        #     quiver.set_array(c)\n",
    "\n",
    "    plt.colorbar(cax)\n",
    "    # plt.savefig(out, dpi=dpi, bbox_inches=\"tight\", transparent=True)\n",
    "    plt.close(fig)\n",
    "    return fig"
   ]
  },
  {
   "cell_type": "code",
   "execution_count": 16,
   "id": "zSzSZeBSKYE2",
   "metadata": {
    "id": "zSzSZeBSKYE2"
   },
   "outputs": [],
   "source": [
    "size = 7\n",
    "plt.switch_backend(\"agg\")\n",
    "fig = plt.figure(figsize=(size, size))\n",
    "ax = fig.add_subplot(111, projection=\"3d\")\n",
    "ax = remove_background(ax)\n"
   ]
  },
  {
   "cell_type": "code",
   "execution_count": 17,
   "id": "mxPWKMM_phbY",
   "metadata": {
    "id": "mxPWKMM_phbY"
   },
   "outputs": [],
   "source": [
    "path = grw[1]"
   ]
  },
  {
   "cell_type": "code",
   "execution_count": 21,
   "id": "KWDKcHLcKdnA",
   "metadata": {
    "id": "KWDKcHLcKdnA"
   },
   "outputs": [],
   "source": [
    "%matplotlib inline\n",
    "fig.subplots_adjust(left=-0.2, bottom=-0.2, right=1.2, top=1.2, wspace=0, hspace=0)\n",
    "    # ax.view_init(elev=30, azim=45)\n",
    "ax.view_init(elev=0, azim=0)\n",
    "cmap = sns.cubehelix_palette(as_cmap=True)\n",
    "\n",
    "\n",
    "ax.scatter(path[:, 0], path[:, 1], path[:, 2])\n",
    "plt.show()"
   ]
  },
  {
   "cell_type": "code",
   "execution_count": 22,
   "id": "KRQHrH9OjmAY",
   "metadata": {
    "colab": {
     "base_uri": "https://localhost:8080/"
    },
    "id": "KRQHrH9OjmAY",
    "outputId": "3875f3fd-f395-41f8-8af4-b1f57d4c1417"
   },
   "outputs": [
    {
     "data": {
      "text/plain": [
       "DeviceArray([[ 9.9960518e-01,  2.8096525e-02, -1.0146119e-04],\n",
       "             [ 9.9198759e-01,  3.8272552e-02, -1.2039840e-01],\n",
       "             [ 9.8407435e-01, -5.4092366e-02, -1.6932705e-01],\n",
       "             ...,\n",
       "             [ 3.6974836e-03, -6.0509509e-01,  7.9614425e-01],\n",
       "             [ 3.5356847e-03, -6.7413783e-01,  7.3859668e-01],\n",
       "             [ 3.4919900e-03, -6.7380184e-01,  7.3890340e-01]],            dtype=float32)"
      ]
     },
     "execution_count": 22,
     "metadata": {},
     "output_type": "execute_result"
    }
   ],
   "source": [
    "path"
   ]
  },
  {
   "cell_type": "code",
   "execution_count": null,
   "id": "AOu1pKhEp0Zu",
   "metadata": {
    "id": "AOu1pKhEp0Zu"
   },
   "outputs": [],
   "source": []
  }
 ],
 "metadata": {
  "colab": {
   "provenance": [],
   "toc_visible": true
  },
  "kernelspec": {
   "display_name": "Python [conda env:ssm]",
   "language": "python",
   "name": "conda-env-ssm-py"
  },
  "language_info": {
   "codemirror_mode": {
    "name": "ipython",
    "version": 3
   },
   "file_extension": ".py",
   "mimetype": "text/x-python",
   "name": "python",
   "nbconvert_exporter": "python",
   "pygments_lexer": "ipython3",
   "version": "3.10.6"
  }
 },
 "nbformat": 4,
 "nbformat_minor": 5
}
