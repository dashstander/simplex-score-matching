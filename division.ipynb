{
  "cells": [
    {
      "cell_type": "markdown",
      "source": [
        "## Install Packages\n",
        "\n"
      ],
      "metadata": {
        "id": "PygxzxvjMmsX"
      },
      "id": "PygxzxvjMmsX"
    },
    {
      "cell_type": "code",
      "source": [
        "! git clone https://github.com/oxcsml/geomstats.git\n",
        "! pip3 install ./geomstats\n",
        "! pip3 install diffrax flax einops tqdm wandb seaborn\n",
        "! pip3 install matplotlib==3.1.3 "
      ],
      "metadata": {
        "id": "r7tPOPKX3T_b",
        "outputId": "2869fd69-1cee-4b61-998e-dde479d7df7b",
        "colab": {
          "base_uri": "https://localhost:8080/",
          "height": 1000
        }
      },
      "id": "r7tPOPKX3T_b",
      "execution_count": 1,
      "outputs": [
        {
          "output_type": "stream",
          "name": "stdout",
          "text": [
            "fatal: destination path 'geomstats' already exists and is not an empty directory.\n",
            "Looking in indexes: https://pypi.org/simple, https://us-python.pkg.dev/colab-wheels/public/simple/\n",
            "Processing ./geomstats\n",
            "\u001b[33m  DEPRECATION: A future pip version will change local packages to be built in-place without first copying to a temporary directory. We recommend you use --use-feature=in-tree-build to test your packages with this new behavior before it becomes the default.\n",
            "   pip 21.3 will remove support for this functionality. You can find discussion regarding this at https://github.com/pypa/pip/issues/7555.\u001b[0m\n",
            "Requirement already satisfied: joblib>=0.14.1 in /usr/local/lib/python3.7/dist-packages (from geomstats==2.3.1) (1.1.0)\n",
            "Collecting matplotlib>=3.3.4\n",
            "  Using cached matplotlib-3.5.3-cp37-cp37m-manylinux_2_5_x86_64.manylinux1_x86_64.whl (11.2 MB)\n",
            "Requirement already satisfied: numpy>=1.18.1 in /usr/local/lib/python3.7/dist-packages (from geomstats==2.3.1) (1.21.6)\n",
            "Requirement already satisfied: pandas>=1.1.5 in /usr/local/lib/python3.7/dist-packages (from geomstats==2.3.1) (1.3.5)\n",
            "Requirement already satisfied: scikit-learn>=0.22.1 in /usr/local/lib/python3.7/dist-packages (from geomstats==2.3.1) (1.0.2)\n",
            "Requirement already satisfied: scipy>=1.4.1 in /usr/local/lib/python3.7/dist-packages (from geomstats==2.3.1) (1.7.3)\n",
            "Requirement already satisfied: fonttools>=4.22.0 in /usr/local/lib/python3.7/dist-packages (from matplotlib>=3.3.4->geomstats==2.3.1) (4.37.3)\n",
            "Requirement already satisfied: pillow>=6.2.0 in /usr/local/lib/python3.7/dist-packages (from matplotlib>=3.3.4->geomstats==2.3.1) (7.1.2)\n",
            "Requirement already satisfied: python-dateutil>=2.7 in /usr/local/lib/python3.7/dist-packages (from matplotlib>=3.3.4->geomstats==2.3.1) (2.8.2)\n",
            "Requirement already satisfied: pyparsing>=2.2.1 in /usr/local/lib/python3.7/dist-packages (from matplotlib>=3.3.4->geomstats==2.3.1) (3.0.9)\n",
            "Requirement already satisfied: packaging>=20.0 in /usr/local/lib/python3.7/dist-packages (from matplotlib>=3.3.4->geomstats==2.3.1) (21.3)\n",
            "Requirement already satisfied: kiwisolver>=1.0.1 in /usr/local/lib/python3.7/dist-packages (from matplotlib>=3.3.4->geomstats==2.3.1) (1.4.4)\n",
            "Requirement already satisfied: cycler>=0.10 in /usr/local/lib/python3.7/dist-packages (from matplotlib>=3.3.4->geomstats==2.3.1) (0.11.0)\n",
            "Requirement already satisfied: typing-extensions in /usr/local/lib/python3.7/dist-packages (from kiwisolver>=1.0.1->matplotlib>=3.3.4->geomstats==2.3.1) (4.3.0)\n",
            "Requirement already satisfied: pytz>=2017.3 in /usr/local/lib/python3.7/dist-packages (from pandas>=1.1.5->geomstats==2.3.1) (2022.2.1)\n",
            "Requirement already satisfied: six>=1.5 in /usr/local/lib/python3.7/dist-packages (from python-dateutil>=2.7->matplotlib>=3.3.4->geomstats==2.3.1) (1.15.0)\n",
            "Requirement already satisfied: threadpoolctl>=2.0.0 in /usr/local/lib/python3.7/dist-packages (from scikit-learn>=0.22.1->geomstats==2.3.1) (3.1.0)\n",
            "Building wheels for collected packages: geomstats\n",
            "  Building wheel for geomstats (setup.py) ... \u001b[?25l\u001b[?25hdone\n",
            "  Created wheel for geomstats: filename=geomstats-2.3.1-py3-none-any.whl size=10127853 sha256=ec9233ee68b131b0879caf8549cf8c2e4e9f00992a0fa15b3b44f4e00c8e1279\n",
            "  Stored in directory: /tmp/pip-ephem-wheel-cache-q3zdpyh7/wheels/22/6c/b1/888e1e67ab40ce4c0a79fe262cbe8f9736a455dda6f08544fc\n",
            "Successfully built geomstats\n",
            "Installing collected packages: matplotlib, geomstats\n",
            "  Attempting uninstall: matplotlib\n",
            "    Found existing installation: matplotlib 3.1.3\n",
            "    Uninstalling matplotlib-3.1.3:\n",
            "      Successfully uninstalled matplotlib-3.1.3\n",
            "  Attempting uninstall: geomstats\n",
            "    Found existing installation: geomstats 2.3.1\n",
            "    Uninstalling geomstats-2.3.1:\n",
            "      Successfully uninstalled geomstats-2.3.1\n",
            "Successfully installed geomstats-2.3.1 matplotlib-3.5.3\n"
          ]
        },
        {
          "output_type": "display_data",
          "data": {
            "application/vnd.colab-display-data+json": {
              "pip_warning": {
                "packages": [
                  "matplotlib",
                  "mpl_toolkits"
                ]
              }
            }
          },
          "metadata": {}
        },
        {
          "output_type": "stream",
          "name": "stdout",
          "text": [
            "Looking in indexes: https://pypi.org/simple, https://us-python.pkg.dev/colab-wheels/public/simple/\n",
            "Requirement already satisfied: diffrax in /usr/local/lib/python3.7/dist-packages (0.2.1)\n",
            "Requirement already satisfied: flax in /usr/local/lib/python3.7/dist-packages (0.6.0)\n",
            "Requirement already satisfied: einops in /usr/local/lib/python3.7/dist-packages (0.4.1)\n",
            "Requirement already satisfied: tqdm in /usr/local/lib/python3.7/dist-packages (4.64.1)\n",
            "Requirement already satisfied: wandb in /usr/local/lib/python3.7/dist-packages (0.13.3)\n",
            "Requirement already satisfied: seaborn in /usr/local/lib/python3.7/dist-packages (0.11.2)\n",
            "Requirement already satisfied: equinox>=0.5.4 in /usr/local/lib/python3.7/dist-packages (from diffrax) (0.8.0)\n",
            "Requirement already satisfied: jax>=0.3.4 in /usr/local/lib/python3.7/dist-packages (from diffrax) (0.3.17)\n",
            "Requirement already satisfied: jaxtyping>=0.2.5 in /usr/local/lib/python3.7/dist-packages (from equinox>=0.5.4->diffrax) (0.2.6)\n",
            "Requirement already satisfied: numpy>=1.20 in /usr/local/lib/python3.7/dist-packages (from jax>=0.3.4->diffrax) (1.21.6)\n",
            "Requirement already satisfied: etils[epath] in /usr/local/lib/python3.7/dist-packages (from jax>=0.3.4->diffrax) (0.7.1)\n",
            "Requirement already satisfied: typing-extensions in /usr/local/lib/python3.7/dist-packages (from jax>=0.3.4->diffrax) (4.3.0)\n",
            "Requirement already satisfied: opt-einsum in /usr/local/lib/python3.7/dist-packages (from jax>=0.3.4->diffrax) (3.3.0)\n",
            "Requirement already satisfied: scipy>=1.5 in /usr/local/lib/python3.7/dist-packages (from jax>=0.3.4->diffrax) (1.7.3)\n",
            "Requirement already satisfied: absl-py in /usr/local/lib/python3.7/dist-packages (from jax>=0.3.4->diffrax) (1.2.0)\n",
            "Requirement already satisfied: typeguard>=2.13.3 in /usr/local/lib/python3.7/dist-packages (from jaxtyping>=0.2.5->equinox>=0.5.4->diffrax) (2.13.3)\n",
            "Requirement already satisfied: matplotlib in /usr/local/lib/python3.7/dist-packages (from flax) (3.5.3)\n",
            "Requirement already satisfied: rich~=11.1 in /usr/local/lib/python3.7/dist-packages (from flax) (11.2.0)\n",
            "Requirement already satisfied: optax in /usr/local/lib/python3.7/dist-packages (from flax) (0.1.3)\n",
            "Requirement already satisfied: msgpack in /usr/local/lib/python3.7/dist-packages (from flax) (1.0.4)\n",
            "Requirement already satisfied: PyYAML>=5.4.1 in /usr/local/lib/python3.7/dist-packages (from flax) (6.0)\n",
            "Requirement already satisfied: commonmark<0.10.0,>=0.9.0 in /usr/local/lib/python3.7/dist-packages (from rich~=11.1->flax) (0.9.1)\n",
            "Requirement already satisfied: pygments<3.0.0,>=2.6.0 in /usr/local/lib/python3.7/dist-packages (from rich~=11.1->flax) (2.6.1)\n",
            "Requirement already satisfied: colorama<0.5.0,>=0.4.0 in /usr/local/lib/python3.7/dist-packages (from rich~=11.1->flax) (0.4.5)\n",
            "Requirement already satisfied: docker-pycreds>=0.4.0 in /usr/local/lib/python3.7/dist-packages (from wandb) (0.4.0)\n",
            "Requirement already satisfied: promise<3,>=2.0 in /usr/local/lib/python3.7/dist-packages (from wandb) (2.3)\n",
            "Requirement already satisfied: sentry-sdk>=1.0.0 in /usr/local/lib/python3.7/dist-packages (from wandb) (1.9.0)\n",
            "Requirement already satisfied: six>=1.13.0 in /usr/local/lib/python3.7/dist-packages (from wandb) (1.15.0)\n",
            "Requirement already satisfied: pathtools in /usr/local/lib/python3.7/dist-packages (from wandb) (0.1.2)\n",
            "Requirement already satisfied: requests<3,>=2.0.0 in /usr/local/lib/python3.7/dist-packages (from wandb) (2.23.0)\n",
            "Requirement already satisfied: GitPython>=1.0.0 in /usr/local/lib/python3.7/dist-packages (from wandb) (3.1.27)\n",
            "Requirement already satisfied: shortuuid>=0.5.0 in /usr/local/lib/python3.7/dist-packages (from wandb) (1.0.9)\n",
            "Requirement already satisfied: psutil>=5.0.0 in /usr/local/lib/python3.7/dist-packages (from wandb) (5.4.8)\n",
            "Requirement already satisfied: setproctitle in /usr/local/lib/python3.7/dist-packages (from wandb) (1.3.2)\n",
            "Requirement already satisfied: protobuf<4.0dev,>=3.12.0 in /usr/local/lib/python3.7/dist-packages (from wandb) (3.17.3)\n",
            "Requirement already satisfied: Click!=8.0.0,>=7.0 in /usr/local/lib/python3.7/dist-packages (from wandb) (7.1.2)\n",
            "Requirement already satisfied: setuptools in /usr/local/lib/python3.7/dist-packages (from wandb) (57.4.0)\n",
            "Requirement already satisfied: gitdb<5,>=4.0.1 in /usr/local/lib/python3.7/dist-packages (from GitPython>=1.0.0->wandb) (4.0.9)\n",
            "Requirement already satisfied: smmap<6,>=3.0.1 in /usr/local/lib/python3.7/dist-packages (from gitdb<5,>=4.0.1->GitPython>=1.0.0->wandb) (5.0.0)\n",
            "Requirement already satisfied: urllib3!=1.25.0,!=1.25.1,<1.26,>=1.21.1 in /usr/local/lib/python3.7/dist-packages (from requests<3,>=2.0.0->wandb) (1.24.3)\n",
            "Requirement already satisfied: chardet<4,>=3.0.2 in /usr/local/lib/python3.7/dist-packages (from requests<3,>=2.0.0->wandb) (3.0.4)\n",
            "Requirement already satisfied: certifi>=2017.4.17 in /usr/local/lib/python3.7/dist-packages (from requests<3,>=2.0.0->wandb) (2022.6.15)\n",
            "Requirement already satisfied: idna<3,>=2.5 in /usr/local/lib/python3.7/dist-packages (from requests<3,>=2.0.0->wandb) (2.10)\n",
            "Requirement already satisfied: pandas>=0.23 in /usr/local/lib/python3.7/dist-packages (from seaborn) (1.3.5)\n",
            "Requirement already satisfied: pillow>=6.2.0 in /usr/local/lib/python3.7/dist-packages (from matplotlib->flax) (7.1.2)\n",
            "Requirement already satisfied: fonttools>=4.22.0 in /usr/local/lib/python3.7/dist-packages (from matplotlib->flax) (4.37.3)\n",
            "Requirement already satisfied: pyparsing>=2.2.1 in /usr/local/lib/python3.7/dist-packages (from matplotlib->flax) (3.0.9)\n",
            "Requirement already satisfied: packaging>=20.0 in /usr/local/lib/python3.7/dist-packages (from matplotlib->flax) (21.3)\n",
            "Requirement already satisfied: kiwisolver>=1.0.1 in /usr/local/lib/python3.7/dist-packages (from matplotlib->flax) (1.4.4)\n",
            "Requirement already satisfied: cycler>=0.10 in /usr/local/lib/python3.7/dist-packages (from matplotlib->flax) (0.11.0)\n",
            "Requirement already satisfied: python-dateutil>=2.7 in /usr/local/lib/python3.7/dist-packages (from matplotlib->flax) (2.8.2)\n",
            "Requirement already satisfied: pytz>=2017.3 in /usr/local/lib/python3.7/dist-packages (from pandas>=0.23->seaborn) (2022.2.1)\n",
            "Requirement already satisfied: zipp in /usr/local/lib/python3.7/dist-packages (from etils[epath]->jax>=0.3.4->diffrax) (3.8.1)\n",
            "Requirement already satisfied: importlib_resources in /usr/local/lib/python3.7/dist-packages (from etils[epath]->jax>=0.3.4->diffrax) (5.9.0)\n",
            "Requirement already satisfied: jaxlib>=0.1.37 in /usr/local/lib/python3.7/dist-packages (from optax->flax) (0.3.15+cuda11.cudnn805)\n",
            "Requirement already satisfied: chex>=0.0.4 in /usr/local/lib/python3.7/dist-packages (from optax->flax) (0.1.5)\n",
            "Requirement already satisfied: toolz>=0.9.0 in /usr/local/lib/python3.7/dist-packages (from chex>=0.0.4->optax->flax) (0.12.0)\n",
            "Requirement already satisfied: dm-tree>=0.1.5 in /usr/local/lib/python3.7/dist-packages (from chex>=0.0.4->optax->flax) (0.1.7)\n",
            "Looking in indexes: https://pypi.org/simple, https://us-python.pkg.dev/colab-wheels/public/simple/\n",
            "Collecting matplotlib==3.1.3\n",
            "  Using cached matplotlib-3.1.3-cp37-cp37m-manylinux1_x86_64.whl (13.1 MB)\n",
            "Requirement already satisfied: kiwisolver>=1.0.1 in /usr/local/lib/python3.7/dist-packages (from matplotlib==3.1.3) (1.4.4)\n",
            "Requirement already satisfied: numpy>=1.11 in /usr/local/lib/python3.7/dist-packages (from matplotlib==3.1.3) (1.21.6)\n",
            "Requirement already satisfied: python-dateutil>=2.1 in /usr/local/lib/python3.7/dist-packages (from matplotlib==3.1.3) (2.8.2)\n",
            "Requirement already satisfied: pyparsing!=2.0.4,!=2.1.2,!=2.1.6,>=2.0.1 in /usr/local/lib/python3.7/dist-packages (from matplotlib==3.1.3) (3.0.9)\n",
            "Requirement already satisfied: cycler>=0.10 in /usr/local/lib/python3.7/dist-packages (from matplotlib==3.1.3) (0.11.0)\n",
            "Requirement already satisfied: typing-extensions in /usr/local/lib/python3.7/dist-packages (from kiwisolver>=1.0.1->matplotlib==3.1.3) (4.3.0)\n",
            "Requirement already satisfied: six>=1.5 in /usr/local/lib/python3.7/dist-packages (from python-dateutil>=2.1->matplotlib==3.1.3) (1.15.0)\n",
            "Installing collected packages: matplotlib\n",
            "  Attempting uninstall: matplotlib\n",
            "    Found existing installation: matplotlib 3.5.3\n",
            "    Uninstalling matplotlib-3.5.3:\n",
            "      Successfully uninstalled matplotlib-3.5.3\n",
            "\u001b[31mERROR: pip's dependency resolver does not currently take into account all the packages that are installed. This behaviour is the source of the following dependency conflicts.\n",
            "geomstats 2.3.1 requires matplotlib>=3.3.4, but you have matplotlib 3.1.3 which is incompatible.\u001b[0m\n",
            "Successfully installed matplotlib-3.1.3\n"
          ]
        },
        {
          "output_type": "display_data",
          "data": {
            "application/vnd.colab-display-data+json": {
              "pip_warning": {
                "packages": [
                  "matplotlib",
                  "mpl_toolkits"
                ]
              }
            }
          },
          "metadata": {}
        }
      ]
    },
    {
      "cell_type": "code",
      "source": [
        "%matplotlib inline"
      ],
      "metadata": {
        "id": "myhzClUKwvA7"
      },
      "id": "myhzClUKwvA7",
      "execution_count": 2,
      "outputs": []
    },
    {
      "cell_type": "markdown",
      "source": [
        "## Data\n",
        "\n",
        "Setting up the utilities to generate random real numbers $\\nu \\in (0, 10)$ as well as a random maximum denominator $q_{max}$ are sampled. Once these are chosen, two integers $p, q$ with $ q \\le q_{max}$ are chosen such that $\\frac{p}{q} \\approx \\nu$.\n",
        "\n",
        "Currently representing the integers $p, q$ in binary. This may be subject to change. "
      ],
      "metadata": {
        "id": "D8HkohuYKP8L"
      },
      "id": "D8HkohuYKP8L"
    },
    {
      "cell_type": "code",
      "execution_count": 3,
      "id": "ee58e7b4-81fb-4635-af65-fd9bbd8c7d2e",
      "metadata": {
        "id": "ee58e7b4-81fb-4635-af65-fd9bbd8c7d2e"
      },
      "outputs": [],
      "source": [
        "from dataclasses import dataclass\n",
        "from fractions import Fraction\n",
        "from random import choice, choices\n",
        "import numpy as np\n",
        "\n",
        "\n",
        "def int_to_binary(x, width=14):\n",
        "    return np.array(list(np.binary_repr(x, width=width)), dtype=np.uint8)\n",
        "\n",
        "\n",
        "@dataclass\n",
        "class RationalApprox:\n",
        "    target_real: str\n",
        "    frac: Fraction\n",
        "    dtype = np.uint32\n",
        "\n",
        "    @property\n",
        "    def numerator(self):\n",
        "        return self.frac.numerator\n",
        "\n",
        "    @property\n",
        "    def denominator(self):\n",
        "        return self.frac.denominator\n",
        "\n",
        "    def approximation(self):\n",
        "        num = self.frac.numerator * 1.\n",
        "        denom = self.frac.denominator\n",
        "        return num / denom\n",
        "\n",
        "    def to_numpy(self):\n",
        "        num = int_to_binary(self.numerator)\n",
        "        denom = int_to_binary(self.denominator)\n",
        "        return np.stack((num, denom))\n",
        "\n",
        "    def for_batch(self):\n",
        "        return self.target_real, self.to_numpy()\n",
        "\n",
        "\n",
        "def rand_frac(decimal_places=15, max_denom=1024):\n",
        "    # TODO: Refactor this to be in terms of numpy or jax rng for proper reproducibility\n",
        "    digits = ['0', '1', '2', '3', '4', '5', '6', '7', '8', '9']\n",
        "    leading_digit = choices(digits, weights=[4, 1, 1, 1, 1, 1, 1, 1, 1, 1])[0]\n",
        "    remaining = ''.join(choices(digits, k=decimal_places))\n",
        "    number = f'{leading_digit}.{remaining}'\n",
        "    return RationalApprox(number, Fraction(number).limit_denominator(max_denom))\n",
        "\n",
        "\n",
        "def make_batch(batch_size=128):\n",
        "    denominators = [4, 8, 16, 32, 64, 128, 256, 512, 1024]\n",
        "    numbers = [rand_frac(max_denom=choice(denominators)).for_batch() for _ in range(batch_size)]\n",
        "    dec_strings, fractions = zip(*numbers)\n",
        "    return np.array(dec_strings, dtype=np.float32), np.stack(fractions, axis=0)"
      ]
    },
    {
      "cell_type": "markdown",
      "source": [
        "## Manifold Random Walks\n"
      ],
      "metadata": {
        "id": "0KJkVFAWMZBZ"
      },
      "id": "0KJkVFAWMZBZ"
    },
    {
      "cell_type": "code",
      "source": [
        "import os\n",
        "\n",
        "os.environ[\"GEOMSTATS_BACKEND\"] = \"jax\"\n",
        "\n",
        "import jax\n",
        "import jax.numpy as jnp\n",
        "import diffrax"
      ],
      "metadata": {
        "id": "CzNNIUSUIeYq"
      },
      "id": "CzNNIUSUIeYq",
      "execution_count": 4,
      "outputs": []
    },
    {
      "cell_type": "code",
      "source": [
        "from diffrax import diffeqsolve, ControlTerm, Euler, MultiTerm, ODETerm, SaveAt, VirtualBrownianTree\n",
        "import geomstats.visualization as visualization\n",
        "from geomstats.geometry.hypersphere import Hypersphere\n",
        "from geomstats.geometry.product_manifold import ProductSameManifold, ProductSameRiemannianMetric\n",
        "import geomstats.backend as gs"
      ],
      "metadata": {
        "id": "VxgDNeu6WCBL",
        "outputId": "71e47f71-b84c-45e0-fc89-2846b0dd1e2f",
        "colab": {
          "base_uri": "https://localhost:8080/"
        }
      },
      "id": "VxgDNeu6WCBL",
      "execution_count": 5,
      "outputs": [
        {
          "output_type": "stream",
          "name": "stderr",
          "text": [
            "INFO:absl:Unable to initialize backend 'tpu_driver': NOT_FOUND: Unable to find driver in registry given worker: \n",
            "INFO:absl:Unable to initialize backend 'cuda': FAILED_PRECONDITION: No visible GPU devices.\n",
            "INFO:absl:Unable to initialize backend 'rocm': NOT_FOUND: Could not find registered platform with name: \"rocm\". Available platform names are: Interpreter CUDA Host\n",
            "INFO:absl:Unable to initialize backend 'tpu': module 'jaxlib.xla_extension' has no attribute 'get_tpu_client'\n",
            "WARNING:absl:No GPU/TPU found, falling back to CPU. (Set TF_CPP_MIN_LOG_LEVEL=0 and rerun for more info.)\n",
            "INFO:root:Using jax backend\n"
          ]
        }
      ]
    },
    {
      "cell_type": "code",
      "source": [
        "def geodesic_random_walk(manif, num_steps, time, rng_key, x0=None):\n",
        "    step_size = time / num_steps\n",
        "    gamma = jnp.sqrt(step_size)\n",
        "    tangent_dim = manif.embedding_space.dim\n",
        "    if x0 is None:\n",
        "        rng_key, x0_key = jax.random.split(rng_key)\n",
        "        x0 = manif.random_uniform(state=x0_key)\n",
        "    def grw_step(carry, rv):\n",
        "        tangent_rv = gamma * manif.to_tangent(rv, x)\n",
        "        x_new = manif.exp(tangent_rv, carry)\n",
        "        return x_new, x_new\n",
        "    rvs = jax.random.normal(rng_key, (num_steps, tangent_dim))\n",
        "    return jax.lax.scan(grw_step, x0, rvs)"
      ],
      "metadata": {
        "id": "ybkqgQ9V4tfI"
      },
      "id": "ybkqgQ9V4tfI",
      "execution_count": 6,
      "outputs": []
    },
    {
      "cell_type": "code",
      "source": [
        "x = jnp.array([1., 0., 0.])\n",
        "key = jax.random.PRNGKey(314)\n",
        "key, subkey = jax.random.split(key)\n",
        "manif = Hypersphere(2)\n",
        "grw = geodesic_random_walk(manif, 1000, 8, subkey, x0=x)"
      ],
      "metadata": {
        "id": "vjCQVytF4whJ"
      },
      "id": "vjCQVytF4whJ",
      "execution_count": 9,
      "outputs": []
    },
    {
      "cell_type": "code",
      "source": [
        "grw"
      ],
      "metadata": {
        "id": "IIxysTqj_IEi",
        "outputId": "550b61cd-0454-4b2b-8ddf-54a1e089476d",
        "colab": {
          "base_uri": "https://localhost:8080/"
        }
      },
      "id": "IIxysTqj_IEi",
      "execution_count": 10,
      "outputs": [
        {
          "output_type": "execute_result",
          "data": {
            "text/plain": [
              "(DeviceArray([ 0.00349199, -0.67380184,  0.7389034 ], dtype=float32),\n",
              " DeviceArray([[ 9.9960518e-01,  2.8096525e-02, -1.0146119e-04],\n",
              "              [ 9.9198759e-01,  3.8272552e-02, -1.2039840e-01],\n",
              "              [ 9.8407435e-01, -5.4092366e-02, -1.6932705e-01],\n",
              "              ...,\n",
              "              [ 3.6974836e-03, -6.0509509e-01,  7.9614425e-01],\n",
              "              [ 3.5356847e-03, -6.7413783e-01,  7.3859668e-01],\n",
              "              [ 3.4919900e-03, -6.7380184e-01,  7.3890340e-01]],            dtype=float32))"
            ]
          },
          "metadata": {},
          "execution_count": 10
        }
      ]
    },
    {
      "cell_type": "code",
      "source": [
        "import geomstats.visualization as visualization\n",
        "#import matplotlib.animation as animation\n",
        "import matplotlib.pyplot as plt\n",
        "import matplotlib.colors as mcolors\n",
        "import seaborn as sns\n",
        "\n",
        "\n",
        "def remove_background(ax):\n",
        "    ax.set_axis_off()\n",
        "    ax.xaxis.pane.fill = False\n",
        "    ax.yaxis.pane.fill = False\n",
        "    ax.zaxis.pane.fill = False\n",
        "    ax.grid(False)\n",
        "    ax.set_xticks([])\n",
        "    ax.set_yticks([])\n",
        "    ax.set_zticks([])\n",
        "    return ax\n",
        "\n",
        "\n",
        "def latlon_from_cartesian(points):\n",
        "    r = jnp.linalg.norm(points, axis=-1)\n",
        "    x = points[..., 0]\n",
        "    y = points[..., 1]\n",
        "    z = points[..., 2]\n",
        "\n",
        "    lat = -jnp.arcsin(z / r)\n",
        "    lon = jnp.arctan2(y, x)\n",
        "    # lon = jnp.where(lon > 0, lon - math.pi, lon + math.pi)\n",
        "    return jnp.concatenate([jnp.expand_dims(lat, -1), jnp.expand_dims(lon, -1)], axis=-1)\n",
        "\n",
        "\n",
        "def cartesian_from_latlong(points):\n",
        "    lat = points[..., 0]\n",
        "    lon = points[..., 1]\n",
        "\n",
        "    x = jnp.cos(lat) * jnp.cos(lon)\n",
        "    y = jnp.cos(lat) * jnp.sin(lon)\n",
        "    z = jnp.sin(lat)\n",
        "\n",
        "    return jnp.stack([x, y, z], axis=-1)\n",
        "\n",
        "\n",
        "def get_spherical_grid(N, eps=0.0):\n",
        "    lat = jnp.linspace(-90 + eps, 90 - eps, N // 2)\n",
        "    lon = jnp.linspace(-180 + eps, 180 - eps, N)\n",
        "    Lat, Lon = jnp.meshgrid(lat, lon)\n",
        "    latlon_xs = jnp.concatenate([Lat.reshape(-1, 1), Lon.reshape(-1, 1)], axis=-1)\n",
        "    spherical_xs = jnp.pi * (latlon_xs / 180.0) + jnp.array([jnp.pi / 2, jnp.pi])[None, :]\n",
        "    xs = Hypersphere(2).spherical_to_extrinsic(spherical_xs)\n",
        "    return xs, lat, lon\n",
        "\n",
        "\n",
        "def plot_3d(x0s, xts, size, prob):\n",
        "    fig = plt.figure(figsize=(size, size))\n",
        "    ax = fig.add_subplot(111, projection=\"3d\")\n",
        "    ax = remove_background(ax)\n",
        "    fig.subplots_adjust(left=-0.2, bottom=-0.2, right=1.2, top=1.2, wspace=0, hspace=0)\n",
        "    # ax.view_init(elev=30, azim=45)\n",
        "    ax.view_init(elev=0, azim=0)\n",
        "    cmap = sns.cubehelix_palette(as_cmap=True)\n",
        "    sphere = visualization.Sphere()\n",
        "    sphere.draw(ax, color=\"red\", marker=\".\")\n",
        "    # sphere_plot(ax)\n",
        "    # sphere.plot_heatmap(ax, pdf, n_points=16000, alpha=0.2, cmap=cmap)\n",
        "    for k, (x0, xt) in enumerate(zip(x0s, xts)):\n",
        "        if x0 is not None:\n",
        "            cax = ax.scatter(x0[:, 0], x0[:, 1], x0[:, 2], s=50, color=\"green\")\n",
        "        if xt is not None:\n",
        "            x, y, z = xt[:, 0], xt[:, 1], xt[:, 2]\n",
        "            c = prob if prob is not None else np.ones([*xt.shape[:-1]])\n",
        "            cax = ax.scatter(x, y, z, s=50, vmin=0.0, vmax=2.0, c=c, cmap=cmap)\n",
        "        # if grad is not None:\n",
        "        #     u, v, w = grad[:, 0], grad[:, 1], grad[:, 2]\n",
        "        #     quiver = ax.quiver(\n",
        "        #         x, y, z, u, v, w, length=0.2, lw=2, normalize=False, cmap=cmap\n",
        "        #     )\n",
        "        #     quiver.set_array(c)\n",
        "\n",
        "    plt.colorbar(cax)\n",
        "    # plt.savefig(out, dpi=dpi, bbox_inches=\"tight\", transparent=True)\n",
        "    plt.close(fig)\n",
        "    return fig"
      ],
      "metadata": {
        "id": "Q7msEWuUADcI",
        "outputId": "07b76c1a-e5f3-4036-c4c3-069e5cd811df",
        "colab": {
          "base_uri": "https://localhost:8080/"
        }
      },
      "id": "Q7msEWuUADcI",
      "execution_count": 11,
      "outputs": [
        {
          "output_type": "stream",
          "name": "stderr",
          "text": [
            "INFO:numexpr.utils:NumExpr defaulting to 2 threads.\n"
          ]
        }
      ]
    },
    {
      "cell_type": "code",
      "source": [
        "size = 7\n",
        "plt.switch_backend(\"agg\")\n",
        "fig = plt.figure(figsize=(size, size))\n",
        "ax = fig.add_subplot(111, projection=\"3d\")\n",
        "ax = remove_background(ax)\n"
      ],
      "metadata": {
        "id": "zSzSZeBSKYE2"
      },
      "id": "zSzSZeBSKYE2",
      "execution_count": 16,
      "outputs": []
    },
    {
      "cell_type": "code",
      "source": [
        "path = grw[1]"
      ],
      "metadata": {
        "id": "mxPWKMM_phbY"
      },
      "id": "mxPWKMM_phbY",
      "execution_count": 17,
      "outputs": []
    },
    {
      "cell_type": "code",
      "source": [
        "%matplotlib inline\n",
        "fig.subplots_adjust(left=-0.2, bottom=-0.2, right=1.2, top=1.2, wspace=0, hspace=0)\n",
        "    # ax.view_init(elev=30, azim=45)\n",
        "ax.view_init(elev=0, azim=0)\n",
        "cmap = sns.cubehelix_palette(as_cmap=True)\n",
        "\n",
        "\n",
        "ax.scatter(path[:, 0], path[:, 1], path[:, 2])\n",
        "plt.show()"
      ],
      "metadata": {
        "id": "KWDKcHLcKdnA"
      },
      "id": "KWDKcHLcKdnA",
      "execution_count": 21,
      "outputs": []
    },
    {
      "cell_type": "code",
      "source": [
        "path"
      ],
      "metadata": {
        "id": "KRQHrH9OjmAY",
        "outputId": "3875f3fd-f395-41f8-8af4-b1f57d4c1417",
        "colab": {
          "base_uri": "https://localhost:8080/"
        }
      },
      "id": "KRQHrH9OjmAY",
      "execution_count": 22,
      "outputs": [
        {
          "output_type": "execute_result",
          "data": {
            "text/plain": [
              "DeviceArray([[ 9.9960518e-01,  2.8096525e-02, -1.0146119e-04],\n",
              "             [ 9.9198759e-01,  3.8272552e-02, -1.2039840e-01],\n",
              "             [ 9.8407435e-01, -5.4092366e-02, -1.6932705e-01],\n",
              "             ...,\n",
              "             [ 3.6974836e-03, -6.0509509e-01,  7.9614425e-01],\n",
              "             [ 3.5356847e-03, -6.7413783e-01,  7.3859668e-01],\n",
              "             [ 3.4919900e-03, -6.7380184e-01,  7.3890340e-01]],            dtype=float32)"
            ]
          },
          "metadata": {},
          "execution_count": 22
        }
      ]
    },
    {
      "cell_type": "code",
      "source": [],
      "metadata": {
        "id": "AOu1pKhEp0Zu"
      },
      "id": "AOu1pKhEp0Zu",
      "execution_count": null,
      "outputs": []
    }
  ],
  "metadata": {
    "kernelspec": {
      "display_name": "Python [conda env:root] *",
      "language": "python",
      "name": "conda-root-py"
    },
    "language_info": {
      "codemirror_mode": {
        "name": "ipython",
        "version": 3
      },
      "file_extension": ".py",
      "mimetype": "text/x-python",
      "name": "python",
      "nbconvert_exporter": "python",
      "pygments_lexer": "ipython3",
      "version": "3.8.11"
    },
    "colab": {
      "provenance": [],
      "toc_visible": true
    }
  },
  "nbformat": 4,
  "nbformat_minor": 5
}