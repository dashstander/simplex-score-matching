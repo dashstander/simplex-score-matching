{
 "cells": [
  {
   "cell_type": "code",
   "execution_count": 2,
   "id": "148f4196-bf70-4923-b045-1cba020a7825",
   "metadata": {},
   "outputs": [],
   "source": [
    "import jax\n",
    "import jax.numpy as jnp\n",
    "import sys\n",
    "from jax import random\n",
    "\n",
    "sys.path.append('/Users/dashiell/workspace/simplex-score-matching/src')\n",
    "\n",
    "from ssm.simplex_proj import vector_simplex_proj\n",
    "from ssm.visualize_simplex import rotate_simplex_to_xy\n",
    "\n",
    "\n",
    "key = random.PRNGKey(42)\n",
    "\n",
    "data = jnp.array([\n",
    "    \n",
    "    [79.07, 12.83, 8.10],\n",
    "    [31.74, 56.69, 11.57],\n",
    "    [18.61, 72.05, 9.34 ],\n",
    "    [49.51, 15.11, 35.38],\n",
    "    [29.22, 52.36, 18.42],\n",
    "    [21.99, 59.91, 18.10],\n",
    "    [11.74, 65.04, 23.22],\n",
    "    [24.47, 52.53, 23.00],\n",
    "    [5.14,  38.39, 56.47],\n",
    "    [15.54, 57.34, 27.11],\n",
    "    [57.17, 3.81,  39.02],\n",
    "    [52.25, 23.73, 24.02],\n",
    "    [77.40, 9.13,  13.47],\n",
    "    [10.54, 20.34, 69.12],\n",
    "    [46.14, 15.97, 37.89],\n",
    "    [16.29, 69.18, 14.53],\n",
    "    [32.27, 36.20, 31.53],\n",
    "    [40.73, 47.41, 11.86],\n",
    "    [49.29, 42.74,  7.97],\n",
    "    [61.39, 7.63,  30.88]\n",
    " ])\n"
   ]
  },
  {
   "cell_type": "code",
   "execution_count": 3,
   "id": "cb4b0605-d425-4171-8e97-a91fb929196b",
   "metadata": {},
   "outputs": [],
   "source": [
    "import numpy as np\n",
    "import matplotlib.pyplot as plt\n",
    "import chex\n",
    "\n",
    "def perturb(a: chex.Array, b: chex.Array) -> chex.Array:\n",
    "    \"\"\" Vector addition on the simplex with the Aitchison geometry\n",
    "    \"\"\"\n",
    "    x = jnp.multiply(a, b)\n",
    "    return x / jnp.sum(x)\n",
    "\n",
    "\n",
    "def apow(a, alpha) -> chex.Array:\n",
    "    \"\"\" Scalar multiplication on the simplex with the Aitchison geometry\n",
    "    \"\"\"\n",
    "    x =  a ** alpha\n",
    "    return x / jnp.sum(x)\n",
    "\n",
    "\n",
    "@jax.jit\n",
    "def _index_pairs(dim: int)-> chex.Array:\n",
    "    return jnp.array(list(itertools.combinations(range(dim), 2)))\n",
    "\n",
    "\n",
    "def circulant(x: chex.Array) -> chex.Array:\n",
    "    \"\"\" Takes a vector (i.e. shape \"(k,)\") and returns the circulant k x k matrix\n",
    "    # TODO: Can I use this to cleverly calculate the Aitchison inner product?\n",
    "    \"\"\"\n",
    "    chex.assert_rank()\n",
    "    size = x.size\n",
    "    circ = jnp.concatenate(\n",
    "        [jnp.roll(x, i)[None] for i in range(size)]\n",
    "    )\n",
    "    return circ.T\n",
    "\n",
    "\n",
    "@jax.jit\n",
    "def aitch_dot(a: chex.Array, b: chex.Array) -> chex.Scalar:\n",
    "    \"\"\" Inner product between two elements of the simplex with the Aitchison geometry\n",
    "    \"\"\"\n",
    "    d = a.size[-1]\n",
    "    indices =  jnp.array(_index_pairs(d))\n",
    "    def pairwise(val, pair):\n",
    "        i, j = pair[0], pair[1]\n",
    "        sum1 = jnp.log(a[i])/jnp.log(a[j]) * jnp.log(b[i])/jnp.log(b[j])\n",
    "        sum2 = jnp.log(a[j])/jnp.log(a[i]) * jnp.log(b[j])/jnp.log(b[i])\n",
    "        return val + sum1 + sum2\n",
    "    return jax.lax.scan(pairwise, 0., indices)\n",
    "\n",
    "\n",
    "\n",
    "def aitch_basis(dim: int):\n",
    "    total = dim - 1. + jnp.e\n",
    "    basis = jnp.ones((dim, dim))\n",
    "    i = jnp.diag_indices(dim)\n",
    "    return basis.at[i].set(jnp.e) / total\n",
    "\n",
    "\n",
    "\n",
    "\n",
    "def clr(x: chex.Array) -> chex.Array:\n",
    "    \"\"\" Centered log ration (clr) transform of a point on the simplex. Takes a point in the canonical basis to \n",
    "    \"\"\"\n",
    "    log_x = jnp.log(x)\n",
    "    geom_mean = jnp.exp(jnp.mean(log_x))\n",
    "    return jnp.log(x / geom_mean)\n",
    "\n",
    "def clr_inv(x: chex.Array) -> chex.Array:\n",
    "    \"\"\" The in\n",
    "    \"\"\"\n",
    "    return jax.nn.softmax(x)\n",
    "\n",
    "\n",
    "def ilr(x: chex.Array) -> chex.Array:\n",
    "    \"\"\"\n",
    "    \"\"\"\n",
    "    pass\n",
    "\n"
   ]
  },
  {
   "cell_type": "code",
   "execution_count": 4,
   "id": "1f20d5c8-ff48-4c7d-9d74-77569d9942de",
   "metadata": {},
   "outputs": [],
   "source": [
    "ab = aitch_basis(3)\n"
   ]
  },
  {
   "cell_type": "code",
   "execution_count": 5,
   "id": "e05a78c4-666c-4488-b045-a135ad727f07",
   "metadata": {},
   "outputs": [],
   "source": [
    "coeffs = jnp.matmul(jax.vmap(clr)(ab), clr(data[0]/data[0].sum()))\n",
    "x0 = apow(ab[0], coeffs[0])\n",
    "x1 = apow(ab[1], coeffs[1])\n",
    "x2 = apow(ab[2], coeffs[2])"
   ]
  },
  {
   "cell_type": "code",
   "execution_count": 6,
   "id": "1dc5e619-f289-4671-9a35-32a2929257d0",
   "metadata": {},
   "outputs": [
    {
     "name": "stdout",
     "output_type": "stream",
     "text": [
      "[0.6620683  0.16896585 0.16896585]\n",
      "[0.37939182 0.24121639 0.37939182]\n",
      "[0.4164238  0.4164238  0.16715245]\n"
     ]
    }
   ],
   "source": [
    "print(x0)\n",
    "print(x1)\n",
    "print(x2)"
   ]
  },
  {
   "cell_type": "code",
   "execution_count": 7,
   "id": "ad51df05-9267-4425-bc88-1d1021625e48",
   "metadata": {},
   "outputs": [],
   "source": [
    "import math\n",
    "from functools import cache\n",
    "\n",
    "@cache\n",
    "def _vector(dim: int, i: int):\n",
    "    x = jnp.zeros((dim,))\n",
    "    x = x.at[0:i].set(1/i).at[i].set(-1)\n",
    "    x *= jnp.sqrt(i / (i + 1))\n",
    "    return x\n",
    "\n",
    "\n",
    "@cache\n",
    "def ortho_basis_rn(dim: int):\n",
    "    vectors = [\n",
    "        _vector(dim, i)[None] for i in range(1, dim)\n",
    "    ]\n",
    "    return jnp.concatenate(vectors)\n",
    "\n",
    "@cache\n",
    "def ortho_basis_simn(dim: int):\n",
    "    return jax.vmap(clr_inv)(ortho_basis_rn(dim))\n",
    "    \n",
    "    \n",
    "def ilr(x):\n",
    "    \"\"\" x in Sim^D, this function sends it to R^(D-1) according to an orthonormal basis\n",
    "    \"\"\"\n",
    "    d = x.shape[-1]\n",
    "    ortho = ortho_basis_rn(d)\n",
    "    return jnp.matmul(ortho, clr(x))\n",
    "    \n",
    "def ilr_inv(y):\n",
    "    \"\"\" y in R^(D-1), this function sends it to Sim^D\n",
    "    \"\"\"\n",
    "    d = y.shape[-1]\n",
    "    basis = ortho_basis_simn(d + 1)\n",
    "    vals = []\n",
    "    for i in range(d):\n",
    "        vals.append(apow(basis[i], y[i]))\n",
    "    return jax.tree_util.tree_reduce(perturb, vals)\n",
    "\n",
    "\n",
    "def ilr_inv2(y):\n",
    "    d = y.shape[-1]\n",
    "    basis = ortho_basis_rn(d + 1)\n",
    "    return clr_inv(jnp.matmul(jnp.transpose(basis), y))\n",
    "    \n",
    "    \n",
    "def riemann_inv_metric(x):\n",
    "    \"\"\" The inverse metric tensor g^(-1) of the Riemannian metric on the simplex at point `x`. Also the Jacobian of the softmax at point `x`\n",
    "    \"\"\"\n",
    "    d = x.shape[-1]\n",
    "    \n",
    "    def same_ind(i, j):\n",
    "        return x[i] * (1. - x[i])\n",
    "\n",
    "    def diff_ind(i, j):\n",
    "        return -1. * x[i] * x[j]\n",
    "    \n",
    "    def _g(i):\n",
    "        ks = jnp.arange(d)\n",
    "        return jax.lax.map(\n",
    "            lambda j: jax.lax.cond(i == j, same_ind, diff_ind, i, j),\n",
    "            ks\n",
    "        )\n",
    "    return jax.lax.map(_g, jnp.arange(d))\n",
    "    "
   ]
  },
  {
   "cell_type": "code",
   "execution_count": 8,
   "id": "752c2b03-764e-4b3e-8008-24b50d410e9e",
   "metadata": {},
   "outputs": [
    {
     "data": {
      "text/plain": [
       "DeviceArray([0.98999995, 0.005     , 0.005     ], dtype=float32)"
      ]
     },
     "execution_count": 8,
     "metadata": {},
     "output_type": "execute_result"
    }
   ],
   "source": [
    "ilr_inv2(ilr(jnp.array([.99, .005, .005])))"
   ]
  },
  {
   "cell_type": "code",
   "execution_count": 81,
   "id": "bf69b6d4-af9e-42d3-9f8a-2012ade45ada",
   "metadata": {},
   "outputs": [
    {
     "data": {
      "text/plain": [
       "'\\ngamma = jnp.array([1/3, 1/3, 1/3])\\ngamma_rn = clr(gamma)\\nalpha = 0.1\\ndt = 0.1\\ndef _sde(xt, noise):\\n        #g_inv = riemann_inv_metric(xt)\\n        #rescaled_noise = clr_inv(jnp.matmul(g_inv, noise))\\n    x_ou = alpha * dt * (gamma_rn - clr(xt))\\n        #x_ou = apow(\\n        #    perturb(gamma, apow(xt, -1.)),\\n        #    alpha * dt\\n        #)\\n    new_loc = clr_inv(clr(xt) + x_ou + ilr_inv2(noise))\\n    return new_loc, new_loc\\n'"
      ]
     },
     "execution_count": 81,
     "metadata": {},
     "output_type": "execute_result"
    }
   ],
   "source": [
    "\n",
    "#start = jnp.array([0.2, 0.4, 0.4])\n",
    "key = jax.random.PRNGKey(52)\n",
    "dt = 1 / 100\n",
    "rand_increments = jax.random.normal(key, (100, 2))*jnp.sqrt(dt)\n",
    "simp_increments = jax.vmap(ilr_inv2)(rand_increments)\n",
    "\n",
    "\n",
    "\"\"\"\n",
    "def make_sde(alpha: float, gamma: float, dt: float):\n",
    "    \n",
    "    def _sde(xt, noise):\n",
    "        g_inv = riemann_inv_metric(xt)\n",
    "        rescaled_noise = clr_inv(jnp.matmul(g_inv, noise))\n",
    "        x_ou = apow(\n",
    "            perturb(gamma, apow(xt, -1.)),\n",
    "            alpha * dt\n",
    "        )\n",
    "        new_loc = perturb(xt, perturb(x_ou, rescaled_noise))\n",
    "        return new_loc, new_loc\n",
    "    \n",
    "    return _sde\n",
    "\"\"\"\n",
    "\n",
    "\n",
    "\n",
    "\n",
    "def make_sde(alpha, gamma, dt):\n",
    "    gamma_rn = clr(gamma)\n",
    "    def _sde(xt, noise):\n",
    "        #g_inv = riemann_inv_metric(xt)\n",
    "        #rescaled_noise = clr_inv(jnp.matmul(g_inv, noise))\n",
    "        x_ou = alpha * dt * (gamma_rn - clr(xt))\n",
    "        #x_ou = apow(\n",
    "        #    perturb(gamma, apow(xt, -1.)),\n",
    "        #    alpha * dt\n",
    "        #)\n",
    "        new_loc = clr_inv(clr(xt) + x_ou + ilr_inv2(noise))\n",
    "        return new_loc, new_loc\n",
    "    return _sde\n",
    "\n",
    "\"\"\"\n",
    "gamma = jnp.array([1/3, 1/3, 1/3])\n",
    "gamma_rn = clr(gamma)\n",
    "alpha = 0.1\n",
    "dt = 0.1\n",
    "def _sde(xt, noise):\n",
    "        #g_inv = riemann_inv_metric(xt)\n",
    "        #rescaled_noise = clr_inv(jnp.matmul(g_inv, noise))\n",
    "    x_ou = alpha * dt * (gamma_rn - clr(xt))\n",
    "        #x_ou = apow(\n",
    "        #    perturb(gamma, apow(xt, -1.)),\n",
    "        #    alpha * dt\n",
    "        #)\n",
    "    new_loc = clr_inv(clr(xt) + x_ou + ilr_inv2(noise))\n",
    "    return new_loc, new_loc\n",
    "\"\"\""
   ]
  },
  {
   "cell_type": "code",
   "execution_count": 82,
   "id": "b8f0d75c-4a20-4a82-a90b-84ba6e65a08a",
   "metadata": {},
   "outputs": [],
   "source": [
    "start = jnp.array([.99, .005, .005])\n",
    "sde = make_sde(4, jnp.array([1/3, 1/3, 1/3]), dt)\n",
    "fin, path = jax.lax.scan(sde, start, rand_increments)"
   ]
  },
  {
   "cell_type": "code",
   "execution_count": 83,
   "id": "25bb4940-2285-4e9f-8034-a5c46f309930",
   "metadata": {},
   "outputs": [
    {
     "data": {
      "text/plain": [
       "DeviceArray([[0.98890734, 0.00534671, 0.00574597],\n",
       "             [0.98600996, 0.00689468, 0.0070954 ],\n",
       "             [0.984014  , 0.00803659, 0.00794945],\n",
       "             [0.9808755 , 0.00962758, 0.00949689],\n",
       "             [0.97613305, 0.01187712, 0.01198976],\n",
       "             [0.9731802 , 0.0135543 , 0.01326548],\n",
       "             [0.96896094, 0.01547264, 0.01556641],\n",
       "             [0.9667978 , 0.01643479, 0.01676729],\n",
       "             [0.9592178 , 0.02016434, 0.02061797],\n",
       "             [0.9514018 , 0.02322921, 0.02536895],\n",
       "             [0.9458374 , 0.02632168, 0.02784103],\n",
       "             [0.9377714 , 0.03029337, 0.03193526],\n",
       "             [0.9298474 , 0.03353781, 0.0366148 ],\n",
       "             [0.92298937, 0.03674056, 0.04027017],\n",
       "             [0.91005546, 0.04273275, 0.04721185],\n",
       "             [0.9053889 , 0.04510065, 0.04951052],\n",
       "             [0.8930871 , 0.0523484 , 0.05456456],\n",
       "             [0.88755465, 0.05330424, 0.0591412 ],\n",
       "             [0.8829508 , 0.05621837, 0.06083088],\n",
       "             [0.8740217 , 0.06257756, 0.06340072],\n",
       "             [0.8559877 , 0.07215739, 0.07185495],\n",
       "             [0.8378756 , 0.08338302, 0.07874133],\n",
       "             [0.8225099 , 0.09225124, 0.08523896],\n",
       "             [0.8045444 , 0.10141439, 0.09404128],\n",
       "             [0.793661  , 0.10970576, 0.09663322],\n",
       "             [0.7752596 , 0.12466685, 0.10007355],\n",
       "             [0.76678103, 0.12679134, 0.10642768],\n",
       "             [0.75052565, 0.13868229, 0.11079204],\n",
       "             [0.72489643, 0.16136847, 0.11373505],\n",
       "             [0.71151376, 0.16199917, 0.12648706],\n",
       "             [0.7015193 , 0.17111674, 0.12736395],\n",
       "             [0.70056564, 0.17114472, 0.1282896 ],\n",
       "             [0.6982281 , 0.17419018, 0.12758167],\n",
       "             [0.6916352 , 0.18241176, 0.12595311],\n",
       "             [0.68898493, 0.18398485, 0.12703021],\n",
       "             [0.6700758 , 0.1937692 , 0.13615504],\n",
       "             [0.6776134 , 0.18256927, 0.13981737],\n",
       "             [0.6698582 , 0.19095108, 0.13919064],\n",
       "             [0.6582514 , 0.19398187, 0.14776674],\n",
       "             [0.6443162 , 0.19887991, 0.15680395],\n",
       "             [0.62439585, 0.21455143, 0.1610527 ],\n",
       "             [0.604434  , 0.21938147, 0.17618449],\n",
       "             [0.5878134 , 0.24040993, 0.17177673],\n",
       "             [0.58099514, 0.24187738, 0.17712753],\n",
       "             [0.5659455 , 0.24582584, 0.18822862],\n",
       "             [0.54814863, 0.26097712, 0.19087426],\n",
       "             [0.5342155 , 0.26280403, 0.2029804 ],\n",
       "             [0.519382  , 0.27814248, 0.20247556],\n",
       "             [0.50810057, 0.2775356 , 0.21436387],\n",
       "             [0.49144047, 0.28075075, 0.2278088 ],\n",
       "             [0.48908308, 0.28619555, 0.22472136],\n",
       "             [0.48341942, 0.29805294, 0.21852764],\n",
       "             [0.47355348, 0.30226025, 0.22418632],\n",
       "             [0.46730006, 0.30240136, 0.2302986 ],\n",
       "             [0.45789984, 0.30607837, 0.23602174],\n",
       "             [0.4583046 , 0.30903518, 0.2326601 ],\n",
       "             [0.44987246, 0.31824535, 0.23188226],\n",
       "             [0.45722196, 0.31310657, 0.22967148],\n",
       "             [0.43100172, 0.31556013, 0.25343814],\n",
       "             [0.43995783, 0.3056113 , 0.25443083],\n",
       "             [0.42966908, 0.29747155, 0.27285942],\n",
       "             [0.44038996, 0.28941515, 0.27019492],\n",
       "             [0.4411764 , 0.2799757 , 0.27884784],\n",
       "             [0.4433354 , 0.2776276 , 0.27903706],\n",
       "             [0.44433355, 0.2762537 , 0.27941278],\n",
       "             [0.43625563, 0.28076208, 0.28298232],\n",
       "             [0.42969996, 0.28858724, 0.2817128 ],\n",
       "             [0.41179103, 0.28378582, 0.30442312],\n",
       "             [0.39434752, 0.30132306, 0.30432945],\n",
       "             [0.38969883, 0.29652885, 0.31377235],\n",
       "             [0.37853172, 0.31507495, 0.30639338],\n",
       "             [0.37965208, 0.32697356, 0.29337436],\n",
       "             [0.36662158, 0.33916122, 0.2942172 ],\n",
       "             [0.36871064, 0.33686325, 0.2944261 ],\n",
       "             [0.35775414, 0.34690765, 0.29533818],\n",
       "             [0.34868237, 0.3446307 , 0.30668694],\n",
       "             [0.33793196, 0.35052907, 0.311539  ],\n",
       "             [0.33896363, 0.34431794, 0.3167184 ],\n",
       "             [0.32331485, 0.34168845, 0.3349967 ],\n",
       "             [0.31663987, 0.33450907, 0.34885105],\n",
       "             [0.31858462, 0.32453254, 0.35688287],\n",
       "             [0.30910182, 0.34312466, 0.34777355],\n",
       "             [0.31524017, 0.35103977, 0.3337201 ],\n",
       "             [0.31566414, 0.36546764, 0.3188682 ],\n",
       "             [0.31834128, 0.36924273, 0.31241596],\n",
       "             [0.32144296, 0.36504632, 0.31351072],\n",
       "             [0.31276238, 0.3724872 , 0.3147504 ],\n",
       "             [0.32385466, 0.3752763 , 0.3008691 ],\n",
       "             [0.3310159 , 0.36455378, 0.30443028],\n",
       "             [0.3281838 , 0.36645478, 0.30536142],\n",
       "             [0.33285433, 0.37013268, 0.29701298],\n",
       "             [0.32714167, 0.3651299 , 0.30772838],\n",
       "             [0.34026507, 0.36863396, 0.29110095],\n",
       "             [0.3355839 , 0.36847398, 0.29594216],\n",
       "             [0.33444905, 0.36697647, 0.29857445],\n",
       "             [0.34845367, 0.35398796, 0.29755834],\n",
       "             [0.3339625 , 0.36731848, 0.29871893],\n",
       "             [0.32934502, 0.3672962 , 0.30335876],\n",
       "             [0.32135695, 0.37139675, 0.30724627],\n",
       "             [0.32732326, 0.37335098, 0.29932573]], dtype=float32)"
      ]
     },
     "execution_count": 83,
     "metadata": {},
     "output_type": "execute_result"
    }
   ],
   "source": [
    "path"
   ]
  },
  {
   "cell_type": "code",
   "execution_count": 84,
   "id": "c3bde0db-c418-48e1-a807-e1f472bc28c2",
   "metadata": {},
   "outputs": [
    {
     "data": {
      "image/png": "[encoded data removed]",
      "text/plain": [
       "<Figure size 432x288 with 1 Axes>"
      ]
     },
     "metadata": {
      "needs_background": "light"
     },
     "output_type": "display_data"
    },
    {
     "data": {
      "text/plain": [
       "<Figure size 720x720 with 0 Axes>"
      ]
     },
     "metadata": {},
     "output_type": "display_data"
    }
   ],
   "source": [
    "sq32 = np.sqrt(3/2)\n",
    "sq22 = np.sqrt(2)/2\n",
    "triangle = np.array([[0, sq32], [-sq22, 0], [sq22, 0]])\n",
    "\n",
    "plt.figure()\n",
    "\n",
    "X = jax.vmap(rotate_simplex_to_xy)(path)\n",
    "plt.scatter(X[0:200000,0], X[0:200000,1], alpha=.2, s=.1)\n",
    "t1 = plt.Polygon(triangle, fill=False)\n",
    "plt.gca().add_patch(t1)\n",
    "plt.gca().set_aspect('equal')\n",
    "plt.figure(figsize=(10,10))\n",
    "plt.show()"
   ]
  },
  {
   "cell_type": "code",
   "execution_count": 455,
   "id": "66a9484d-aaa9-4e92-a43d-225e1fc5994f",
   "metadata": {},
   "outputs": [
    {
     "ename": "NameError",
     "evalue": "name 'batch_rotate' is not defined",
     "output_type": "error",
     "traceback": [
      "\u001b[0;31m---------------------------------------------------------------------------\u001b[0m",
      "\u001b[0;31mNameError\u001b[0m                                 Traceback (most recent call last)",
      "Input \u001b[0;32mIn [455]\u001b[0m, in \u001b[0;36m<cell line: 11>\u001b[0;34m()\u001b[0m\n\u001b[1;32m      9\u001b[0m \u001b[38;5;66;03m#path = get_simplex_path(10_000, 2, key)\u001b[39;00m\n\u001b[1;32m     10\u001b[0m simp3_unif \u001b[38;5;241m=\u001b[39m random\u001b[38;5;241m.\u001b[39mdirichlet(key, alpha\u001b[38;5;241m=\u001b[39mjnp\u001b[38;5;241m.\u001b[39mones(\u001b[38;5;241m3\u001b[39m), shape\u001b[38;5;241m=\u001b[39m(\u001b[38;5;241m10000\u001b[39m,))\n\u001b[0;32m---> 11\u001b[0m X \u001b[38;5;241m=\u001b[39m \u001b[43mbatch_rotate\u001b[49m(simp3_unif)\n\u001b[1;32m     12\u001b[0m plt\u001b[38;5;241m.\u001b[39mscatter(X[:,\u001b[38;5;241m0\u001b[39m], X[:,\u001b[38;5;241m1\u001b[39m], s\u001b[38;5;241m=\u001b[39m\u001b[38;5;241m1\u001b[39m, alpha\u001b[38;5;241m=\u001b[39m\u001b[38;5;241m0.5\u001b[39m)\n\u001b[1;32m     13\u001b[0m t1 \u001b[38;5;241m=\u001b[39m plt\u001b[38;5;241m.\u001b[39mPolygon(triangle, fill\u001b[38;5;241m=\u001b[39m\u001b[38;5;28;01mFalse\u001b[39;00m)\n",
      "\u001b[0;31mNameError\u001b[0m: name 'batch_rotate' is not defined"
     ]
    },
    {
     "data": {
      "text/plain": [
       "<Figure size 432x288 with 0 Axes>"
      ]
     },
     "metadata": {},
     "output_type": "display_data"
    }
   ],
   "source": [
    "key, subkey = random.split(key)\n",
    "\n",
    "random.dirichlet(key, alpha=jnp.ones(3), shape=(10000,))\n",
    "sq32 = np.sqrt(3/2)\n",
    "sq22 = np.sqrt(2)/2\n",
    "triangle = np.array([[0, sq32], [-sq22, 0], [sq22, 0]])\n",
    "\n",
    "plt.figure()\n",
    "#path = get_simplex_path(10_000, 2, key)\n",
    "simp3_unif = random.dirichlet(key, alpha=jnp.ones(3), shape=(10000,))\n",
    "X = batch_rotate(simp3_unif)\n",
    "plt.scatter(X[:,0], X[:,1], s=1, alpha=0.5)\n",
    "t1 = plt.Polygon(triangle, fill=False)\n",
    "plt.gca().add_patch(t1)\n",
    "plt.gca().set_aspect('equal')\n",
    "plt.show()"
   ]
  },
  {
   "cell_type": "code",
   "execution_count": 53,
   "id": "0b00efc6-7742-4a5b-b01d-2de2e57d90da",
   "metadata": {},
   "outputs": [
    {
     "data": {
      "text/plain": [
       "DeviceArray([ 4,  9, 16, 25], dtype=int32)"
      ]
     },
     "execution_count": 53,
     "metadata": {},
     "output_type": "execute_result"
    }
   ],
   "source": [
    "jnp.array([2, 3, 4, 5])**2"
   ]
  },
  {
   "cell_type": "code",
   "execution_count": 315,
   "id": "6dcdd4a5-8831-4c0b-a2d1-303d7dee24d1",
   "metadata": {},
   "outputs": [
    {
     "data": {
      "text/plain": [
       "DeviceArray([[[ 0.07407409, -0.03703704, -0.03703704],\n",
       "              [-0.03703704, -0.03703704,  0.07407407],\n",
       "              [-0.03703704,  0.07407407, -0.03703704]],\n",
       "\n",
       "             [[-0.03703704, -0.03703704,  0.07407407],\n",
       "              [-0.03703704,  0.07407409, -0.03703704],\n",
       "              [ 0.07407407, -0.03703704, -0.03703704]],\n",
       "\n",
       "             [[-0.03703704,  0.07407407, -0.03703704],\n",
       "              [ 0.07407407, -0.03703704, -0.03703704],\n",
       "              [-0.03703704, -0.03703704,  0.07407409]]], dtype=float32)"
      ]
     },
     "execution_count": 315,
     "metadata": {},
     "output_type": "execute_result"
    }
   ],
   "source": [
    "from jax import jacfwd, jacrev\n",
    "\n",
    "sfm = jax.nn.softmax\n",
    "\n",
    "jacfwd(jacrev(sfm))(jnp.array([1., 1., 1.]))"
   ]
  },
  {
   "cell_type": "code",
   "execution_count": 330,
   "id": "25bce401-d678-4fed-863d-c095fdadb836",
   "metadata": {},
   "outputs": [],
   "source": [
    "\n",
    "\n",
    "\n",
    "    "
   ]
  },
  {
   "cell_type": "code",
   "execution_count": 371,
   "id": "1b340620-b16e-48e4-b57e-059fbb088420",
   "metadata": {},
   "outputs": [
    {
     "data": {
      "text/plain": [
       "DeviceArray([-2.9802322e-08, -2.9802322e-08, -2.9802322e-08], dtype=float32)"
      ]
     },
     "execution_count": 371,
     "metadata": {},
     "output_type": "execute_result"
    }
   ],
   "source": [
    "riemann_inv_metric(jnp.array([1/3, 1/3, 1/3])).sum(1)"
   ]
  },
  {
   "cell_type": "code",
   "execution_count": 333,
   "id": "bee443a6-a6b1-4860-a6b6-8c5463ddb61a",
   "metadata": {},
   "outputs": [
    {
     "data": {
      "text/plain": [
       "DeviceArray(-12., dtype=float32)"
      ]
     },
     "execution_count": 333,
     "metadata": {},
     "output_type": "execute_result"
    }
   ],
   "source": [
    "x = jnp.array([2., 3., 4.])\n",
    "i = 1\n",
    "j = 2\n",
    "\n",
    "def same_ind(i, j, x):\n",
    "        return x[i] * (1. - x[i])\n",
    "\n",
    "def diff_ind(i, j, x):\n",
    "    return -1. * x[i] * x[j]\n",
    "jax.lax.cond(i == j, same_ind, diff_ind, i, j, x)"
   ]
  },
  {
   "cell_type": "code",
   "execution_count": 79,
   "id": "c6b29d8c-9103-4ce4-9fe1-bd33a04eb6a1",
   "metadata": {},
   "outputs": [
    {
     "data": {
      "text/plain": [
       "tensor(0.8000)"
      ]
     },
     "execution_count": 79,
     "metadata": {},
     "output_type": "execute_result"
    }
   ],
   "source": [
    "dist = 1 - x1.sum()\n"
   ]
  },
  {
   "cell_type": "code",
   "execution_count": 80,
   "id": "24d17ccd-6d68-443b-b554-1b2f63b3ea5d",
   "metadata": {},
   "outputs": [],
   "source": [
    "z = torch.zeros((3,))"
   ]
  },
  {
   "cell_type": "code",
   "execution_count": 81,
   "id": "02ecf2fd-c9fb-4e15-88a2-a2a95e26176e",
   "metadata": {},
   "outputs": [
    {
     "data": {
      "text/plain": [
       "tensor([0., 0., 0.])"
      ]
     },
     "execution_count": 81,
     "metadata": {},
     "output_type": "execute_result"
    }
   ],
   "source": [
    "z"
   ]
  },
  {
   "cell_type": "code",
   "execution_count": 85,
   "id": "ae305987-3c12-4f76-bb2c-b63ec86616b5",
   "metadata": {},
   "outputs": [
    {
     "data": {
      "text/plain": [
       "tensor([0., 2., 2.])"
      ]
     },
     "execution_count": 85,
     "metadata": {},
     "output_type": "execute_result"
    }
   ],
   "source": [
    "z.index_add_(0, torch.tensor([1, 2]), torch.tensor([2., 2.]))\n"
   ]
  },
  {
   "cell_type": "code",
   "execution_count": 90,
   "id": "a6c10a4e-483e-422f-85b1-a5f264bb8371",
   "metadata": {},
   "outputs": [
    {
     "data": {
      "text/plain": [
       "tensor([[1., 2., 3., 4.],\n",
       "        [1., 2., 3., 4.],\n",
       "        [1., 2., 3., 4.]])"
      ]
     },
     "execution_count": 90,
     "metadata": {},
     "output_type": "execute_result"
    }
   ],
   "source": [
    "z = torch.tensor([1., 2., 3., 4.])\n",
    "torch.tile(z, (3, 1))"
   ]
  },
  {
   "cell_type": "code",
   "execution_count": 92,
   "id": "f43ccf76-5cb6-4a86-9eec-ac324267ca65",
   "metadata": {},
   "outputs": [
    {
     "data": {
      "text/plain": [
       "tensor([[1., 0., 0., 0.],\n",
       "        [0., 1., 0., 0.],\n",
       "        [0., 0., 1., 0.],\n",
       "        [0., 0., 0., 1.]])"
      ]
     },
     "execution_count": 92,
     "metadata": {},
     "output_type": "execute_result"
    }
   ],
   "source": [
    "torch.eye(4)"
   ]
  },
  {
   "cell_type": "code",
   "execution_count": 131,
   "id": "1b4c8afd-b42d-4346-b044-b821285b8491",
   "metadata": {},
   "outputs": [],
   "source": [
    "from torchtyping import TensorType\n",
    "\n",
    "def cube_to_simplex_project(x: TensorType['batch', -1]):\n",
    "    assert torch.all(x >= 0) and torch.all(x <= 1)\n",
    "    lambda_0 = torch.mean(1 - x, dim=1)\n",
    "    x_0 = \n",
    "    # black magic\n",
    "    # more seriously, example, goes from tensor with shape (batch, dim) such as\n",
    "    # the 3x2 tensor [[.19, .61], [.61, .65], [.8, .05]] to  (batch, dim, dim) 3x2x2\n",
    "    # [[[0.1900, 0.6100],\n",
    "    #   [0.1900, 0.6100]],\n",
    "    #  [[0.6100, 0.6500],\n",
    "    #   [0.6100, 0.6500]],\n",
    "    #  [[0.8000, 0.0500],\n",
    "    #   [0.8000, 0.0500]]]\n",
    "    many_xs = torch.tile(x[:, None], (1, x.shape[1], 1))\n",
    "    dist_diags = torch.cat([torch.eye(x.shape[-1])[None] * d for d in dist_to_simplex])\n",
    "    return torch.mean(dist_diags + many_xs, dim=1)"
   ]
  },
  {
   "cell_type": "code",
   "execution_count": 123,
   "id": "8573904e-07c0-4ed5-9f46-a5f10e5bdaf0",
   "metadata": {},
   "outputs": [
    {
     "data": {
      "text/plain": [
       "tensor([[[0.1900, 0.6100],\n",
       "         [0.1900, 0.6100]],\n",
       "\n",
       "        [[0.6100, 0.6500],\n",
       "         [0.6100, 0.6500]],\n",
       "\n",
       "        [[0.8000, 0.0500],\n",
       "         [0.8000, 0.0500]]])"
      ]
     },
     "execution_count": 123,
     "metadata": {},
     "output_type": "execute_result"
    }
   ],
   "source": [
    "torch.tile(x[:,None], (1, 2, 1))"
   ]
  },
  {
   "cell_type": "code",
   "execution_count": 119,
   "id": "b3ab45f0-c50c-4814-9ae9-77d3b60b1ba4",
   "metadata": {},
   "outputs": [
    {
     "data": {
      "text/plain": [
       "tensor([[0.1900, 0.6100, 0.1900, 0.6100],\n",
       "        [0.6100, 0.6500, 0.6100, 0.6500],\n",
       "        [0.8000, 0.0500, 0.8000, 0.0500]])"
      ]
     },
     "execution_count": 119,
     "metadata": {},
     "output_type": "execute_result"
    }
   ],
   "source": [
    "torch.tile(x, (1, x.shape[-1]))"
   ]
  },
  {
   "cell_type": "code",
   "execution_count": 125,
   "id": "2454b480-0d21-4bb8-9f3f-b282fad5507d",
   "metadata": {},
   "outputs": [
    {
     "data": {
      "text/plain": [
       "[0.19999998807907104, -0.25999999046325684, 0.1499999761581421]"
      ]
     },
     "execution_count": 125,
     "metadata": {},
     "output_type": "execute_result"
    }
   ],
   "source": [
    "(1 - x.sum(1)).tolist()"
   ]
  },
  {
   "cell_type": "code",
   "execution_count": 141,
   "id": "40f17c6e-3758-47e8-a3bc-76e59ad5a263",
   "metadata": {},
   "outputs": [
    {
     "data": {
      "text/plain": [
       "tensor([[-0.2162,  0.6114,  0.6048]])"
      ]
     },
     "execution_count": 141,
     "metadata": {},
     "output_type": "execute_result"
    }
   ],
   "source": [
    "x = torch.rand((1, 3))\n",
    "cube_to_simplex_project(x)"
   ]
  },
  {
   "cell_type": "code",
   "execution_count": 142,
   "id": "7a2bb547-c5d5-4d19-ab61-988f9b484857",
   "metadata": {},
   "outputs": [
    {
     "data": {
      "text/plain": [
       "tensor([[0.0474, 0.8751, 0.8684]])"
      ]
     },
     "execution_count": 142,
     "metadata": {},
     "output_type": "execute_result"
    }
   ],
   "source": [
    "x"
   ]
  },
  {
   "cell_type": "code",
   "execution_count": 143,
   "id": "754a2507-5881-4540-accd-0b863b01fc5b",
   "metadata": {},
   "outputs": [
    {
     "data": {
      "text/plain": [
       "tensor([-0.7909])"
      ]
     },
     "execution_count": 143,
     "metadata": {},
     "output_type": "execute_result"
    }
   ],
   "source": [
    "d = 1 - torch.sum(x, 1)\n",
    "d"
   ]
  },
  {
   "cell_type": "code",
   "execution_count": null,
   "id": "672c8294-7021-4177-ba83-6fb6be5a0d26",
   "metadata": {},
   "outputs": [],
   "source": []
  }
 ],
 "metadata": {
  "kernelspec": {
   "display_name": "Python [conda env:ssm]",
   "language": "python",
   "name": "conda-env-ssm-py"
  },
  "language_info": {
   "codemirror_mode": {
    "name": "ipython",
    "version": 3
   },
   "file_extension": ".py",
   "mimetype": "text/x-python",
   "name": "python",
   "nbconvert_exporter": "python",
   "pygments_lexer": "ipython3",
   "version": "3.9.13"
  }
 },
 "nbformat": 4,
 "nbformat_minor": 5
}
