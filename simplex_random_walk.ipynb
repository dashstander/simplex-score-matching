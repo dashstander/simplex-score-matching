{
 "cells": [
  {
   "cell_type": "code",
   "execution_count": 1,
   "id": "148f4196-bf70-4923-b045-1cba020a7825",
   "metadata": {},
   "outputs": [
    {
     "name": "stderr",
     "output_type": "stream",
     "text": [
      "/Users/dashiell/miniconda3/envs/ssm/lib/python3.9/site-packages/jax/_src/lib/__init__.py:34: UserWarning: JAX on Mac ARM machines is experimental and minimally tested. Please see https://github.com/google/jax/issues/5501 in the event of problems.\n",
      "  warnings.warn(\"JAX on Mac ARM machines is experimental and minimally tested. \"\n",
      "WARNING:absl:No GPU/TPU found, falling back to CPU. (Set TF_CPP_MIN_LOG_LEVEL=0 and rerun for more info.)\n"
     ]
    }
   ],
   "source": [
    "import jax\n",
    "import jax.numpy as jnp\n",
    "import sys\n",
    "from jax import random\n",
    "\n",
    "sys.path.append('/Users/dashiell/workspace/simplex-score-matching/src')\n",
    "\n",
    "from ssm.simplex_proj import vector_simplex_proj\n",
    "from ssm.visualize_simplex import rotate_simplex_to_xy\n",
    "\n",
    "\n",
    "key = random.PRNGKey(42)\n",
    "\n",
    "data = jnp.array([\n",
    "    \n",
    "    [79.07, 12.83, 8.10],\n",
    "    [31.74, 56.69, 11.57],\n",
    "    [18.61, 72.05, 9.34 ],\n",
    "    [49.51, 15.11, 35.38],\n",
    "    [29.22, 52.36, 18.42],\n",
    "    [21.99, 59.91, 18.10],\n",
    "    [11.74, 65.04, 23.22],\n",
    "    [24.47, 52.53, 23.00],\n",
    "    [5.14,  38.39, 56.47],\n",
    "    [15.54, 57.34, 27.11],\n",
    "    [57.17, 3.81,  39.02],\n",
    "    [52.25, 23.73, 24.02],\n",
    "    [77.40, 9.13,  13.47],\n",
    "    [10.54, 20.34, 69.12],\n",
    "    [46.14, 15.97, 37.89],\n",
    "    [16.29, 69.18, 14.53],\n",
    "    [32.27, 36.20, 31.53],\n",
    "    [40.73, 47.41, 11.86],\n",
    "    [49.29, 42.74,  7.97],\n",
    "    [61.39, 7.63,  30.88]\n",
    " ])\n"
   ]
  },
  {
   "cell_type": "code",
   "execution_count": 18,
   "id": "cb4b0605-d425-4171-8e97-a91fb929196b",
   "metadata": {},
   "outputs": [],
   "source": [
    "import numpy as np\n",
    "import matplotlib.pyplot as plt\n",
    "import chex\n",
    "\n",
    "def perturb(a: chex.Array, b: chex.Array) -> chex.Array:\n",
    "    \"\"\" Vector addition on the simplex with the Aitchison geometry\n",
    "    \"\"\"\n",
    "    x = jnp.multiply(a, b)\n",
    "    return x / jnp.sum(x)\n",
    "\n",
    "\n",
    "def apow(a, alpha) -> chex.Array:\n",
    "    \"\"\" Scalar multiplication on the simplex with the Aitchison geometry\n",
    "    \"\"\"\n",
    "    x =  a ** alpha\n",
    "    return x / jnp.sum(x)\n",
    "\n",
    "\n",
    "@jax.jit\n",
    "def _index_pairs(dim: int)-> chex.Array:\n",
    "    return jnp.array(list(itertools.combinations(range(dim), 2)))\n",
    "\n",
    "\n",
    "def circulant(x: chex.Array) -> chex.Array:\n",
    "    \"\"\" Takes a vector (i.e. shape \"(k,)\") and returns the circulant k x k matrix\n",
    "    # TODO: Can I use this to cleverly calculate the Aitchison inner product?\n",
    "    \"\"\"\n",
    "    chex.assert_rank()\n",
    "    size = x.size\n",
    "    circ = jnp.concatenate(\n",
    "        [jnp.roll(x, i)[None] for i in range(size)]\n",
    "    )\n",
    "    return circ.T\n",
    "\n",
    "\n",
    "@jax.jit\n",
    "def aitch_dot(a: chex.Array, b: chex.Array) -> chex.Scalar:\n",
    "    \"\"\" Inner product between two elements of the simplex with the Aitchison geometry\n",
    "    \"\"\"\n",
    "    d = a.size[-1]\n",
    "    indices =  jnp.array(_index_pairs(d))\n",
    "    def pairwise(val, pair):\n",
    "        i, j = pair[0], pair[1]\n",
    "        sum1 = jnp.log(a[i])/jnp.log(a[j]) * jnp.log(b[i])/jnp.log(b[j])\n",
    "        sum2 = jnp.log(a[j])/jnp.log(a[i]) * jnp.log(b[j])/jnp.log(b[i])\n",
    "        return val + sum1 + sum2\n",
    "    return jax.lax.scan(pairwise, 0., indices)\n",
    "\n",
    "\n",
    "\n",
    "def aitch_basis(dim: int):\n",
    "    total = dim - 1. + jnp.e\n",
    "    basis = jnp.ones((dim, dim))\n",
    "    i = jnp.diag_indices(dim)\n",
    "    return basis.at[i].set(jnp.e) / total\n",
    "\n",
    "\n",
    "\n",
    "\n",
    "def clr(x: chex.Array) -> chex.Array:\n",
    "    \"\"\" Centered log ration (clr) transform of a point on the simplex. Takes a point in the canonical basis to \n",
    "    \"\"\"\n",
    "    log_x = jnp.log(x)\n",
    "    geom_mean = jnp.exp(jnp.mean(log_x))\n",
    "    return jnp.log(x / geom_mean)\n",
    "\n",
    "def clr_inv(x: chex.Array) -> chex.Array:\n",
    "    \"\"\" The in\n",
    "    \"\"\"\n",
    "    return jax.nn.softmax(x)\n",
    "\n",
    "\n",
    "def ilr(x: chex.Array) -> chex.Array:\n",
    "    \"\"\"\n",
    "    \"\"\"\n",
    "    pass\n",
    "\n"
   ]
  },
  {
   "cell_type": "code",
   "execution_count": null,
   "id": "cdf57168-d73b-4e3a-b9e7-70d878158ad1",
   "metadata": {},
   "outputs": [],
   "source": []
  },
  {
   "cell_type": "code",
   "execution_count": 19,
   "id": "4dbb504d-08de-4b8f-996f-ec485f56c1a8",
   "metadata": {},
   "outputs": [
    {
     "data": {
      "text/plain": [
       "DeviceArray([79.07, 12.83,  8.1 ], dtype=float32)"
      ]
     },
     "execution_count": 19,
     "metadata": {},
     "output_type": "execute_result"
    }
   ],
   "source": [
    "x0 = data[0]\n",
    "x0"
   ]
  },
  {
   "cell_type": "code",
   "execution_count": 21,
   "id": "51781dda-2c28-4053-92dd-0820d9c41f8c",
   "metadata": {},
   "outputs": [
    {
     "data": {
      "text/plain": [
       "DeviceArray([4.3703337, 2.5517862, 2.091864 ], dtype=float32)"
      ]
     },
     "execution_count": 21,
     "metadata": {},
     "output_type": "execute_result"
    }
   ],
   "source": [
    "log_x = jnp.log(x0)\n",
    "log_x"
   ]
  },
  {
   "cell_type": "code",
   "execution_count": 22,
   "id": "85bf05f2-a9e3-4eee-81c2-8df5c5fcf25e",
   "metadata": {},
   "outputs": [
    {
     "data": {
      "text/plain": [
       "DeviceArray(20.179386, dtype=float32)"
      ]
     },
     "execution_count": 22,
     "metadata": {},
     "output_type": "execute_result"
    }
   ],
   "source": [
    "geom_mean = jnp.exp(jnp.mean(log_x))\n",
    "geom_mean"
   ]
  },
  {
   "cell_type": "code",
   "execution_count": 34,
   "id": "1f20d5c8-ff48-4c7d-9d74-77569d9942de",
   "metadata": {},
   "outputs": [],
   "source": [
    "ab = aitch_basis(3)\n"
   ]
  },
  {
   "cell_type": "code",
   "execution_count": 40,
   "id": "e05a78c4-666c-4488-b045-a135ad727f07",
   "metadata": {},
   "outputs": [],
   "source": [
    "coeffs = jnp.matmul(jax.vmap(clr)(ab), clr(data[0]/data[0].sum()))\n",
    "x0 = apow(ab[0], coeffs[0])\n",
    "x1 = apow(ab[1], coeffs[1])\n",
    "x2 = apow(ab[2], coeffs[2])"
   ]
  },
  {
   "cell_type": "code",
   "execution_count": 41,
   "id": "1dc5e619-f289-4671-9a35-32a2929257d0",
   "metadata": {},
   "outputs": [
    {
     "name": "stdout",
     "output_type": "stream",
     "text": [
      "[0.6620683  0.16896585 0.16896585]\n",
      "[0.37939182 0.24121639 0.37939182]\n",
      "[0.4164238  0.4164238  0.16715245]\n"
     ]
    }
   ],
   "source": [
    "print(x0)\n",
    "print(x1)\n",
    "print(x2)"
   ]
  },
  {
   "cell_type": "code",
   "execution_count": 42,
   "id": "9c5db183-48f2-463c-bad9-306c9d08f57c",
   "metadata": {},
   "outputs": [
    {
     "data": {
      "text/plain": [
       "DeviceArray([0.79069996, 0.12830003, 0.08100001], dtype=float32)"
      ]
     },
     "execution_count": 42,
     "metadata": {},
     "output_type": "execute_result"
    }
   ],
   "source": [
    "perturb(perturb(x0, x1)"
   ]
  },
  {
   "cell_type": "code",
   "execution_count": 287,
   "id": "ad51df05-9267-4425-bc88-1d1021625e48",
   "metadata": {},
   "outputs": [],
   "source": [
    "import math\n",
    "from functools import cache\n",
    "\n",
    "@cache\n",
    "def _vector(dim: int, i: int):\n",
    "    x = jnp.zeros((dim,))\n",
    "    x = x.at[0:i].set(1/i).at[i].set(-1)\n",
    "    x *= jnp.sqrt(i / (i + 1))\n",
    "    return x\n",
    "\n",
    "\n",
    "@cache\n",
    "def ortho_basis_rn(dim: int):\n",
    "    vectors = [\n",
    "        _vector(dim, i)[None] for i in range(1, dim)\n",
    "    ]\n",
    "    return jnp.concatenate(vectors)\n",
    "\n",
    "@cache\n",
    "def ortho_basis_simn(dim: int):\n",
    "    return jax.vmap(clr_inv)(ortho_basis_rn(dim))\n",
    "    \n",
    "    \n",
    "def ilr(x):\n",
    "    \"\"\" x in Sim^D, this function sends it to R^(D-1) according to an orthonormal basis\n",
    "    \"\"\"\n",
    "    d = x.shape[-1]\n",
    "    ortho = ortho_basis_rn(d)\n",
    "    return jnp.matmul(ortho, clr(x))\n",
    "    \n",
    "def ilr_inv(y):\n",
    "    \"\"\" y in R^(D-1), this function sends it to Sim^D\n",
    "    \"\"\"\n",
    "    d = y.shape[-1]\n",
    "    basis = ortho_basis_simn(d + 1)\n",
    "    vals = []\n",
    "    for i in range(d):\n",
    "        vals.append(apow(basis[i], y[i]))\n",
    "    return jax.tree_util.tree_reduce(perturb, vals)\n",
    "\n",
    "\n",
    "def ilr_inv2(y):\n",
    "    d = y.shape[-1]\n",
    "    basis = ortho_basis_rn(d + 1)\n",
    "    return clr_inv(jnp.matmul(jnp.transpose(basis), y))\n",
    "    \n",
    "    \n",
    "def riemann_inv_metric(x):\n",
    "    \"\"\" The inverse metric tensor g^(-1) of the Riemannian metric on the simplex at point `x`. Also the Jacobian of the softmax at point `x`\n",
    "    \"\"\"\n",
    "    d = x.shape[-1]\n",
    "    \n",
    "    def same_ind(i, j):\n",
    "        return x[i] * (1. - x[i])\n",
    "\n",
    "    def diff_ind(i, j):\n",
    "        return -1. * x[i] * x[j]\n",
    "    \n",
    "    def _g(i):\n",
    "        ks = jnp.arange(d)\n",
    "        return jax.lax.map(\n",
    "            lambda j: jax.lax.cond(i == j, same_ind, diff_ind, i, j),\n",
    "            ks\n",
    "        )\n",
    "    return jax.lax.map(_g, jnp.arange(d))\n",
    "    "
   ]
  },
  {
   "cell_type": "code",
   "execution_count": 288,
   "id": "752c2b03-764e-4b3e-8008-24b50d410e9e",
   "metadata": {},
   "outputs": [
    {
     "data": {
      "text/plain": [
       "DeviceArray([0.98999995, 0.005     , 0.005     ], dtype=float32)"
      ]
     },
     "execution_count": 288,
     "metadata": {},
     "output_type": "execute_result"
    }
   ],
   "source": [
    "ilr_inv2(ilr(jnp.array([.99, .005, .005])))"
   ]
  },
  {
   "cell_type": "code",
   "execution_count": 425,
   "id": "bf69b6d4-af9e-42d3-9f8a-2012ade45ada",
   "metadata": {},
   "outputs": [],
   "source": [
    "\n",
    "start = jnp.array([0.2, 0.4, 0.4])\n",
    "key = jax.random.PRNGKey(52)\n",
    "dt = 0.01\n",
    "rand_increments = jax.random.normal(key, (1_000_000, 2))*jnp.sqrt(dt)\n",
    "simp_increments = jax.vmap(ilr_inv2)(rand_increments)\n",
    "\n",
    "def make_sde(alpha, gamma, dt):\n",
    "    \n",
    "    def _sde(xt, noise):\n",
    "        g_inv = riemann_inv_metric(xt)\n",
    "        rescaled_noise = clr_inv(jnp.matmul(g_inv, noise))\n",
    "        x_ou = apow(\n",
    "            perturb(gamma, apow(xt, -1.)),\n",
    "            alpha * dt\n",
    "        )\n",
    "        new_loc = perturb(xt, perturb(x_ou, rescaled_noise))\n",
    "        return new_loc, new_loc\n",
    "    return _sde\n",
    "\n"
   ]
  },
  {
   "cell_type": "code",
   "execution_count": 447,
   "id": "b8f0d75c-4a20-4a82-a90b-84ba6e65a08a",
   "metadata": {},
   "outputs": [],
   "source": [
    "start = jnp.array([.99, .005, .005])\n",
    "sde = make_sde(0.01, jnp.array([1/3, 1/3, 1/3]), dt)\n",
    "fin, path = jax.lax.scan(sde, start, simp_increments)"
   ]
  },
  {
   "cell_type": "code",
   "execution_count": 448,
   "id": "25bb4940-2285-4e9f-8034-a5c46f309930",
   "metadata": {},
   "outputs": [
    {
     "data": {
      "text/plain": [
       "DeviceArray([[0.9899938 , 0.00500368, 0.00500243],\n",
       "             [0.9899863 , 0.0050079 , 0.00500581],\n",
       "             [0.9899768 , 0.00501157, 0.00501159],\n",
       "             ...,\n",
       "             [0.12802172, 0.1373855 , 0.7345928 ],\n",
       "             [0.12844676, 0.13786805, 0.7336852 ],\n",
       "             [0.12905017, 0.13799065, 0.7329593 ]], dtype=float32)"
      ]
     },
     "execution_count": 448,
     "metadata": {},
     "output_type": "execute_result"
    }
   ],
   "source": [
    "path"
   ]
  },
  {
   "cell_type": "code",
   "execution_count": 461,
   "id": "c3bde0db-c418-48e1-a807-e1f472bc28c2",
   "metadata": {},
   "outputs": [
    {
     "data": {
      "image/png": "[encoded data removed]",
      "text/plain": [
       "<Figure size 432x288 with 1 Axes>"
      ]
     },
     "metadata": {
      "needs_background": "light"
     },
     "output_type": "display_data"
    },
    {
     "data": {
      "text/plain": [
       "<Figure size 720x720 with 0 Axes>"
      ]
     },
     "metadata": {},
     "output_type": "display_data"
    }
   ],
   "source": [
    "sq32 = np.sqrt(3/2)\n",
    "sq22 = np.sqrt(2)/2\n",
    "triangle = np.array([[0, sq32], [-sq22, 0], [sq22, 0]])\n",
    "\n",
    "plt.figure()\n",
    "\n",
    "X = jax.vmap(rotate_simplex_to_xy)(path)\n",
    "plt.scatter(X[0:200000,0], X[0:200000,1], alpha=.2, s=.1)\n",
    "t1 = plt.Polygon(triangle, fill=False)\n",
    "plt.gca().add_patch(t1)\n",
    "plt.gca().set_aspect('equal')\n",
    "plt.figure(figsize=(10,10))\n",
    "plt.show()"
   ]
  },
  {
   "cell_type": "code",
   "execution_count": 455,
   "id": "66a9484d-aaa9-4e92-a43d-225e1fc5994f",
   "metadata": {},
   "outputs": [
    {
     "ename": "NameError",
     "evalue": "name 'batch_rotate' is not defined",
     "output_type": "error",
     "traceback": [
      "\u001b[0;31m---------------------------------------------------------------------------\u001b[0m",
      "\u001b[0;31mNameError\u001b[0m                                 Traceback (most recent call last)",
      "Input \u001b[0;32mIn [455]\u001b[0m, in \u001b[0;36m<cell line: 11>\u001b[0;34m()\u001b[0m\n\u001b[1;32m      9\u001b[0m \u001b[38;5;66;03m#path = get_simplex_path(10_000, 2, key)\u001b[39;00m\n\u001b[1;32m     10\u001b[0m simp3_unif \u001b[38;5;241m=\u001b[39m random\u001b[38;5;241m.\u001b[39mdirichlet(key, alpha\u001b[38;5;241m=\u001b[39mjnp\u001b[38;5;241m.\u001b[39mones(\u001b[38;5;241m3\u001b[39m), shape\u001b[38;5;241m=\u001b[39m(\u001b[38;5;241m10000\u001b[39m,))\n\u001b[0;32m---> 11\u001b[0m X \u001b[38;5;241m=\u001b[39m \u001b[43mbatch_rotate\u001b[49m(simp3_unif)\n\u001b[1;32m     12\u001b[0m plt\u001b[38;5;241m.\u001b[39mscatter(X[:,\u001b[38;5;241m0\u001b[39m], X[:,\u001b[38;5;241m1\u001b[39m], s\u001b[38;5;241m=\u001b[39m\u001b[38;5;241m1\u001b[39m, alpha\u001b[38;5;241m=\u001b[39m\u001b[38;5;241m0.5\u001b[39m)\n\u001b[1;32m     13\u001b[0m t1 \u001b[38;5;241m=\u001b[39m plt\u001b[38;5;241m.\u001b[39mPolygon(triangle, fill\u001b[38;5;241m=\u001b[39m\u001b[38;5;28;01mFalse\u001b[39;00m)\n",
      "\u001b[0;31mNameError\u001b[0m: name 'batch_rotate' is not defined"
     ]
    },
    {
     "data": {
      "text/plain": [
       "<Figure size 432x288 with 0 Axes>"
      ]
     },
     "metadata": {},
     "output_type": "display_data"
    }
   ],
   "source": [
    "key, subkey = random.split(key)\n",
    "\n",
    "random.dirichlet(key, alpha=jnp.ones(3), shape=(10000,))\n",
    "sq32 = np.sqrt(3/2)\n",
    "sq22 = np.sqrt(2)/2\n",
    "triangle = np.array([[0, sq32], [-sq22, 0], [sq22, 0]])\n",
    "\n",
    "plt.figure()\n",
    "#path = get_simplex_path(10_000, 2, key)\n",
    "simp3_unif = random.dirichlet(key, alpha=jnp.ones(3), shape=(10000,))\n",
    "X = batch_rotate(simp3_unif)\n",
    "plt.scatter(X[:,0], X[:,1], s=1, alpha=0.5)\n",
    "t1 = plt.Polygon(triangle, fill=False)\n",
    "plt.gca().add_patch(t1)\n",
    "plt.gca().set_aspect('equal')\n",
    "plt.show()"
   ]
  },
  {
   "cell_type": "code",
   "execution_count": 53,
   "id": "0b00efc6-7742-4a5b-b01d-2de2e57d90da",
   "metadata": {},
   "outputs": [
    {
     "data": {
      "text/plain": [
       "DeviceArray([ 4,  9, 16, 25], dtype=int32)"
      ]
     },
     "execution_count": 53,
     "metadata": {},
     "output_type": "execute_result"
    }
   ],
   "source": [
    "jnp.array([2, 3, 4, 5])**2"
   ]
  },
  {
   "cell_type": "code",
   "execution_count": 315,
   "id": "6dcdd4a5-8831-4c0b-a2d1-303d7dee24d1",
   "metadata": {},
   "outputs": [
    {
     "data": {
      "text/plain": [
       "DeviceArray([[[ 0.07407409, -0.03703704, -0.03703704],\n",
       "              [-0.03703704, -0.03703704,  0.07407407],\n",
       "              [-0.03703704,  0.07407407, -0.03703704]],\n",
       "\n",
       "             [[-0.03703704, -0.03703704,  0.07407407],\n",
       "              [-0.03703704,  0.07407409, -0.03703704],\n",
       "              [ 0.07407407, -0.03703704, -0.03703704]],\n",
       "\n",
       "             [[-0.03703704,  0.07407407, -0.03703704],\n",
       "              [ 0.07407407, -0.03703704, -0.03703704],\n",
       "              [-0.03703704, -0.03703704,  0.07407409]]], dtype=float32)"
      ]
     },
     "execution_count": 315,
     "metadata": {},
     "output_type": "execute_result"
    }
   ],
   "source": [
    "from jax import jacfwd, jacrev\n",
    "\n",
    "sfm = jax.nn.softmax\n",
    "\n",
    "jacfwd(jacrev(sfm))(jnp.array([1., 1., 1.]))"
   ]
  },
  {
   "cell_type": "code",
   "execution_count": 330,
   "id": "25bce401-d678-4fed-863d-c095fdadb836",
   "metadata": {},
   "outputs": [],
   "source": [
    "\n",
    "\n",
    "\n",
    "    "
   ]
  },
  {
   "cell_type": "code",
   "execution_count": 371,
   "id": "1b340620-b16e-48e4-b57e-059fbb088420",
   "metadata": {},
   "outputs": [
    {
     "data": {
      "text/plain": [
       "DeviceArray([-2.9802322e-08, -2.9802322e-08, -2.9802322e-08], dtype=float32)"
      ]
     },
     "execution_count": 371,
     "metadata": {},
     "output_type": "execute_result"
    }
   ],
   "source": [
    "riemann_inv_metric(jnp.array([1/3, 1/3, 1/3])).sum(1)"
   ]
  },
  {
   "cell_type": "code",
   "execution_count": 333,
   "id": "bee443a6-a6b1-4860-a6b6-8c5463ddb61a",
   "metadata": {},
   "outputs": [
    {
     "data": {
      "text/plain": [
       "DeviceArray(-12., dtype=float32)"
      ]
     },
     "execution_count": 333,
     "metadata": {},
     "output_type": "execute_result"
    }
   ],
   "source": [
    "x = jnp.array([2., 3., 4.])\n",
    "i = 1\n",
    "j = 2\n",
    "\n",
    "def same_ind(i, j, x):\n",
    "        return x[i] * (1. - x[i])\n",
    "\n",
    "def diff_ind(i, j, x):\n",
    "    return -1. * x[i] * x[j]\n",
    "jax.lax.cond(i == j, same_ind, diff_ind, i, j, x)"
   ]
  },
  {
   "cell_type": "code",
   "execution_count": 79,
   "id": "c6b29d8c-9103-4ce4-9fe1-bd33a04eb6a1",
   "metadata": {},
   "outputs": [
    {
     "data": {
      "text/plain": [
       "tensor(0.8000)"
      ]
     },
     "execution_count": 79,
     "metadata": {},
     "output_type": "execute_result"
    }
   ],
   "source": [
    "dist = 1 - x1.sum()\n"
   ]
  },
  {
   "cell_type": "code",
   "execution_count": 80,
   "id": "24d17ccd-6d68-443b-b554-1b2f63b3ea5d",
   "metadata": {},
   "outputs": [],
   "source": [
    "z = torch.zeros((3,))"
   ]
  },
  {
   "cell_type": "code",
   "execution_count": 81,
   "id": "02ecf2fd-c9fb-4e15-88a2-a2a95e26176e",
   "metadata": {},
   "outputs": [
    {
     "data": {
      "text/plain": [
       "tensor([0., 0., 0.])"
      ]
     },
     "execution_count": 81,
     "metadata": {},
     "output_type": "execute_result"
    }
   ],
   "source": [
    "z"
   ]
  },
  {
   "cell_type": "code",
   "execution_count": 85,
   "id": "ae305987-3c12-4f76-bb2c-b63ec86616b5",
   "metadata": {},
   "outputs": [
    {
     "data": {
      "text/plain": [
       "tensor([0., 2., 2.])"
      ]
     },
     "execution_count": 85,
     "metadata": {},
     "output_type": "execute_result"
    }
   ],
   "source": [
    "z.index_add_(0, torch.tensor([1, 2]), torch.tensor([2., 2.]))\n"
   ]
  },
  {
   "cell_type": "code",
   "execution_count": 90,
   "id": "a6c10a4e-483e-422f-85b1-a5f264bb8371",
   "metadata": {},
   "outputs": [
    {
     "data": {
      "text/plain": [
       "tensor([[1., 2., 3., 4.],\n",
       "        [1., 2., 3., 4.],\n",
       "        [1., 2., 3., 4.]])"
      ]
     },
     "execution_count": 90,
     "metadata": {},
     "output_type": "execute_result"
    }
   ],
   "source": [
    "z = torch.tensor([1., 2., 3., 4.])\n",
    "torch.tile(z, (3, 1))"
   ]
  },
  {
   "cell_type": "code",
   "execution_count": 92,
   "id": "f43ccf76-5cb6-4a86-9eec-ac324267ca65",
   "metadata": {},
   "outputs": [
    {
     "data": {
      "text/plain": [
       "tensor([[1., 0., 0., 0.],\n",
       "        [0., 1., 0., 0.],\n",
       "        [0., 0., 1., 0.],\n",
       "        [0., 0., 0., 1.]])"
      ]
     },
     "execution_count": 92,
     "metadata": {},
     "output_type": "execute_result"
    }
   ],
   "source": [
    "torch.eye(4)"
   ]
  },
  {
   "cell_type": "code",
   "execution_count": 131,
   "id": "1b4c8afd-b42d-4346-b044-b821285b8491",
   "metadata": {},
   "outputs": [],
   "source": [
    "from torchtyping import TensorType\n",
    "\n",
    "def cube_to_simplex_project(x: TensorType['batch', -1]):\n",
    "    assert torch.all(x >= 0) and torch.all(x <= 1)\n",
    "    lambda_0 = torch.mean(1 - x, dim=1)\n",
    "    x_0 = \n",
    "    # black magic\n",
    "    # more seriously, example, goes from tensor with shape (batch, dim) such as\n",
    "    # the 3x2 tensor [[.19, .61], [.61, .65], [.8, .05]] to  (batch, dim, dim) 3x2x2\n",
    "    # [[[0.1900, 0.6100],\n",
    "    #   [0.1900, 0.6100]],\n",
    "    #  [[0.6100, 0.6500],\n",
    "    #   [0.6100, 0.6500]],\n",
    "    #  [[0.8000, 0.0500],\n",
    "    #   [0.8000, 0.0500]]]\n",
    "    many_xs = torch.tile(x[:, None], (1, x.shape[1], 1))\n",
    "    dist_diags = torch.cat([torch.eye(x.shape[-1])[None] * d for d in dist_to_simplex])\n",
    "    return torch.mean(dist_diags + many_xs, dim=1)"
   ]
  },
  {
   "cell_type": "code",
   "execution_count": 123,
   "id": "8573904e-07c0-4ed5-9f46-a5f10e5bdaf0",
   "metadata": {},
   "outputs": [
    {
     "data": {
      "text/plain": [
       "tensor([[[0.1900, 0.6100],\n",
       "         [0.1900, 0.6100]],\n",
       "\n",
       "        [[0.6100, 0.6500],\n",
       "         [0.6100, 0.6500]],\n",
       "\n",
       "        [[0.8000, 0.0500],\n",
       "         [0.8000, 0.0500]]])"
      ]
     },
     "execution_count": 123,
     "metadata": {},
     "output_type": "execute_result"
    }
   ],
   "source": [
    "torch.tile(x[:,None], (1, 2, 1))"
   ]
  },
  {
   "cell_type": "code",
   "execution_count": 119,
   "id": "b3ab45f0-c50c-4814-9ae9-77d3b60b1ba4",
   "metadata": {},
   "outputs": [
    {
     "data": {
      "text/plain": [
       "tensor([[0.1900, 0.6100, 0.1900, 0.6100],\n",
       "        [0.6100, 0.6500, 0.6100, 0.6500],\n",
       "        [0.8000, 0.0500, 0.8000, 0.0500]])"
      ]
     },
     "execution_count": 119,
     "metadata": {},
     "output_type": "execute_result"
    }
   ],
   "source": [
    "torch.tile(x, (1, x.shape[-1]))"
   ]
  },
  {
   "cell_type": "code",
   "execution_count": 125,
   "id": "2454b480-0d21-4bb8-9f3f-b282fad5507d",
   "metadata": {},
   "outputs": [
    {
     "data": {
      "text/plain": [
       "[0.19999998807907104, -0.25999999046325684, 0.1499999761581421]"
      ]
     },
     "execution_count": 125,
     "metadata": {},
     "output_type": "execute_result"
    }
   ],
   "source": [
    "(1 - x.sum(1)).tolist()"
   ]
  },
  {
   "cell_type": "code",
   "execution_count": 141,
   "id": "40f17c6e-3758-47e8-a3bc-76e59ad5a263",
   "metadata": {},
   "outputs": [
    {
     "data": {
      "text/plain": [
       "tensor([[-0.2162,  0.6114,  0.6048]])"
      ]
     },
     "execution_count": 141,
     "metadata": {},
     "output_type": "execute_result"
    }
   ],
   "source": [
    "x = torch.rand((1, 3))\n",
    "cube_to_simplex_project(x)"
   ]
  },
  {
   "cell_type": "code",
   "execution_count": 142,
   "id": "7a2bb547-c5d5-4d19-ab61-988f9b484857",
   "metadata": {},
   "outputs": [
    {
     "data": {
      "text/plain": [
       "tensor([[0.0474, 0.8751, 0.8684]])"
      ]
     },
     "execution_count": 142,
     "metadata": {},
     "output_type": "execute_result"
    }
   ],
   "source": [
    "x"
   ]
  },
  {
   "cell_type": "code",
   "execution_count": 143,
   "id": "754a2507-5881-4540-accd-0b863b01fc5b",
   "metadata": {},
   "outputs": [
    {
     "data": {
      "text/plain": [
       "tensor([-0.7909])"
      ]
     },
     "execution_count": 143,
     "metadata": {},
     "output_type": "execute_result"
    }
   ],
   "source": [
    "d = 1 - torch.sum(x, 1)\n",
    "d"
   ]
  },
  {
   "cell_type": "code",
   "execution_count": null,
   "id": "672c8294-7021-4177-ba83-6fb6be5a0d26",
   "metadata": {},
   "outputs": [],
   "source": []
  }
 ],
 "metadata": {
  "kernelspec": {
   "display_name": "Python [conda env:ssm]",
   "language": "python",
   "name": "conda-env-ssm-py"
  },
  "language_info": {
   "codemirror_mode": {
    "name": "ipython",
    "version": 3
   },
   "file_extension": ".py",
   "mimetype": "text/x-python",
   "name": "python",
   "nbconvert_exporter": "python",
   "pygments_lexer": "ipython3",
   "version": "3.9.13"
  }
 },
 "nbformat": 4,
 "nbformat_minor": 5
}
