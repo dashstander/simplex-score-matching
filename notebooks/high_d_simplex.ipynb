{
 "cells": [
  {
   "cell_type": "code",
   "execution_count": 1,
   "id": "3b1d7308-e837-41c7-b2e1-058f90559457",
   "metadata": {},
   "outputs": [
    {
     "name": "stderr",
     "output_type": "stream",
     "text": [
      "/Users/dashiell/miniconda3/envs/ssm/lib/python3.9/site-packages/jax/_src/lib/__init__.py:34: UserWarning: JAX on Mac ARM machines is experimental and minimally tested. Please see https://github.com/google/jax/issues/5501 in the event of problems.\n",
      "  warnings.warn(\"JAX on Mac ARM machines is experimental and minimally tested. \"\n",
      "WARNING:absl:No GPU/TPU found, falling back to CPU. (Set TF_CPP_MIN_LOG_LEVEL=0 and rerun for more info.)\n"
     ]
    }
   ],
   "source": [
    "import numpy as np\n",
    "import jax\n",
    "import jax.numpy as jnp\n",
    "\n",
    "key = jax.random.PRNGKey(12345)\n"
   ]
  },
  {
   "cell_type": "code",
   "execution_count": 2,
   "id": "f43dd23f-9089-4151-a1e8-cdcd1d3e2b41",
   "metadata": {},
   "outputs": [],
   "source": [
    "key, subkey = jax.random.split(key)\n",
    "rand_x = jax.random.dirichlet(subkey, jnp.ones(8192)) * 8192"
   ]
  },
  {
   "cell_type": "code",
   "execution_count": 3,
   "id": "5e6bca08-d58c-4878-b37f-664ce19e39fd",
   "metadata": {},
   "outputs": [
    {
     "data": {
      "text/plain": [
       "DeviceArray([0.05504057, 0.6655421 , 0.5469234 , ..., 0.6863714 ,\n",
       "             0.09639082, 2.7146723 ], dtype=float32)"
      ]
     },
     "execution_count": 3,
     "metadata": {},
     "output_type": "execute_result"
    }
   ],
   "source": [
    "rand_x"
   ]
  },
  {
   "cell_type": "code",
   "execution_count": 5,
   "id": "7b0dc100-8806-4db9-8dcc-3e37d382d366",
   "metadata": {},
   "outputs": [
    {
     "data": {
      "text/plain": [
       "DeviceArray([2.1468803e-05, 1.5872649e-04, 3.1376994e-04, ...,\n",
       "             7.7768397e+00, 7.8746023e+00, 8.2197037e+00], dtype=float32)"
      ]
     },
     "execution_count": 5,
     "metadata": {},
     "output_type": "execute_result"
    }
   ],
   "source": [
    "jnp.sort(rand_x)"
   ]
  },
  {
   "cell_type": "code",
   "execution_count": 68,
   "id": "1f3a4f64-f377-4ae4-a9f1-cc585b21391c",
   "metadata": {},
   "outputs": [],
   "source": [
    "key, *subkeys = jax.random.split(key, 9)\n",
    "\n",
    "\n",
    "def make_array(rng):\n",
    "    rand_x = jax.random.dirichlet(rng, jnp.ones(8191), shape=(120,))* 3\n",
    "    x = jnp.concatenate([jnp.full((120, 1), 15.), rand_x], axis=1)\n",
    "    return x[None]\n",
    "\n",
    "\n",
    "batch = jnp.concatenate([make_array(k) for k in subkeys])"
   ]
  },
  {
   "cell_type": "code",
   "execution_count": 77,
   "id": "7deed8d8-3d95-4947-aadb-8a4cd9cba712",
   "metadata": {},
   "outputs": [],
   "source": [
    "batch_mean0 = batch - jnp.mean(batch, axis=-1)[..., None]\n",
    "batch_normalized = batch_mean0 / jnp.var(batch_mean0, axis=-1)[..., None]"
   ]
  },
  {
   "cell_type": "code",
   "execution_count": 54,
   "id": "927e7f00-c08e-4c0e-8948-2f552d060908",
   "metadata": {},
   "outputs": [],
   "source": [
    "x_mean0 = x - jnp.mean(x)\n",
    "x_normal = x_mean0 / jnp.var(x_mean0)"
   ]
  },
  {
   "cell_type": "code",
   "execution_count": 55,
   "id": "21bd4a36-4289-4308-ae56-3ac2356869b2",
   "metadata": {},
   "outputs": [
    {
     "data": {
      "text/plain": [
       "DeviceArray([ 5.4614417e+02, -7.2135024e-02, -7.5568900e-02, ...,\n",
       "             -7.1706735e-02, -7.9752386e-02, -7.1247280e-02],            dtype=float32)"
      ]
     },
     "execution_count": 55,
     "metadata": {},
     "output_type": "execute_result"
    }
   ],
   "source": [
    "x_normal"
   ]
  },
  {
   "cell_type": "code",
   "execution_count": 85,
   "id": "095678d7-4fbb-4d8b-a3e6-67ac31888d58",
   "metadata": {},
   "outputs": [
    {
     "data": {
      "text/plain": [
       "DeviceArray(655.46893, dtype=float32)"
      ]
     },
     "execution_count": 85,
     "metadata": {},
     "output_type": "execute_result"
    }
   ],
   "source": [
    "(batch[0, 0, :] / jnp.var(batch[0, 0, :])).sum()\n"
   ]
  },
  {
   "cell_type": "code",
   "execution_count": null,
   "id": "38b6d085-2b2f-47a4-9417-45dfff7d9045",
   "metadata": {},
   "outputs": [],
   "source": []
  }
 ],
 "metadata": {
  "kernelspec": {
   "display_name": "Python 3 (ipykernel)",
   "language": "python",
   "name": "python3"
  },
  "language_info": {
   "codemirror_mode": {
    "name": "ipython",
    "version": 3
   },
   "file_extension": ".py",
   "mimetype": "text/x-python",
   "name": "python",
   "nbconvert_exporter": "python",
   "pygments_lexer": "ipython3",
   "version": "3.8.11"
  }
 },
 "nbformat": 4,
 "nbformat_minor": 5
}
