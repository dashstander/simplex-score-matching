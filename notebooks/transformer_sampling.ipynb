{
 "cells": [
  {
   "cell_type": "code",
   "execution_count": 1,
   "id": "c307c52f-3db1-49f8-ae8a-7e7c7d17f9d8",
   "metadata": {},
   "outputs": [
    {
     "name": "stderr",
     "output_type": "stream",
     "text": [
      "None of PyTorch, TensorFlow >= 2.0, or Flax have been found. Models won't be available and only tokenizers, configuration and file/data utilities can be used.\n",
      "/Users/dashiell/miniconda3/envs/ssm/lib/python3.9/site-packages/jax/_src/lib/__init__.py:34: UserWarning: JAX on Mac ARM machines is experimental and minimally tested. Please see https://github.com/google/jax/issues/5501 in the event of problems.\n",
      "  warnings.warn(\"JAX on Mac ARM machines is experimental and minimally tested. \"\n"
     ]
    },
    {
     "data": {
      "application/vnd.jupyter.widget-view+json": {
       "model_id": "873999d42a08438981838d78c084407c",
       "version_major": 2,
       "version_minor": 0
      },
      "text/plain": [
       "Downloading:   0%|          | 0.00/29.0 [00:00<?, ?B/s]"
      ]
     },
     "metadata": {},
     "output_type": "display_data"
    },
    {
     "data": {
      "application/vnd.jupyter.widget-view+json": {
       "model_id": "fb5364c89075456ca01c6d5db95f14b4",
       "version_major": 2,
       "version_minor": 0
      },
      "text/plain": [
       "Downloading:   0%|          | 0.00/570 [00:00<?, ?B/s]"
      ]
     },
     "metadata": {},
     "output_type": "display_data"
    },
    {
     "data": {
      "application/vnd.jupyter.widget-view+json": {
       "model_id": "3b0bc505c44e467996793f8449a031ea",
       "version_major": 2,
       "version_minor": 0
      },
      "text/plain": [
       "Downloading:   0%|          | 0.00/208k [00:00<?, ?B/s]"
      ]
     },
     "metadata": {},
     "output_type": "display_data"
    },
    {
     "data": {
      "application/vnd.jupyter.widget-view+json": {
       "model_id": "2a3ed80e4a15419c8c09ed8f0f53f6c2",
       "version_major": 2,
       "version_minor": 0
      },
      "text/plain": [
       "Downloading:   0%|          | 0.00/426k [00:00<?, ?B/s]"
      ]
     },
     "metadata": {},
     "output_type": "display_data"
    },
    {
     "data": {
      "application/vnd.jupyter.widget-view+json": {
       "model_id": "b2179b9f48a943f28341fd5d67473bc1",
       "version_major": 2,
       "version_minor": 0
      },
      "text/plain": [
       "Downloading:   0%|          | 0.00/481 [00:00<?, ?B/s]"
      ]
     },
     "metadata": {},
     "output_type": "display_data"
    },
    {
     "data": {
      "application/vnd.jupyter.widget-view+json": {
       "model_id": "b3f1d524604b412192c3289611f126a5",
       "version_major": 2,
       "version_minor": 0
      },
      "text/plain": [
       "Downloading:   0%|          | 0.00/878k [00:00<?, ?B/s]"
      ]
     },
     "metadata": {},
     "output_type": "display_data"
    },
    {
     "data": {
      "application/vnd.jupyter.widget-view+json": {
       "model_id": "9bd9689ec8ce40f182e5142ca25a94b9",
       "version_major": 2,
       "version_minor": 0
      },
      "text/plain": [
       "Downloading:   0%|          | 0.00/446k [00:00<?, ?B/s]"
      ]
     },
     "metadata": {},
     "output_type": "display_data"
    },
    {
     "data": {
      "application/vnd.jupyter.widget-view+json": {
       "model_id": "5e94b9db994c45dab11b6bfc301a0657",
       "version_major": 2,
       "version_minor": 0
      },
      "text/plain": [
       "Downloading:   0%|          | 0.00/1.29M [00:00<?, ?B/s]"
      ]
     },
     "metadata": {},
     "output_type": "display_data"
    }
   ],
   "source": [
    "from transformers import AutoTokenizer\n",
    "import jax.random as jrand\n",
    "import jax\n",
    "import jax.numpy as jnp\n",
    "\n",
    "\n",
    "tokenizer_bert1 = AutoTokenizer.from_pretrained(\"bert-base-uncased\")\n",
    "tokenizer_bert2 = AutoTokenizer.from_pretrained(\"bert-base-cased\")\n",
    "tokenizer_roberta = AutoTokenizer.from_pretrained(\"roberta-base\")"
   ]
  },
  {
   "cell_type": "code",
   "execution_count": 2,
   "id": "8ad2e4fa-fc58-452c-8f22-a7000cd803d8",
   "metadata": {},
   "outputs": [
    {
     "name": "stdout",
     "output_type": "stream",
     "text": [
      "BERT uncased: 30522\n",
      "BERT cased: 28996\n",
      "RoBERTa : 50265\n"
     ]
    }
   ],
   "source": [
    "print(f'BERT uncased: {tokenizer_bert1.vocab_size}')\n",
    "print(f'BERT cased: {tokenizer_bert2.vocab_size}')\n",
    "print(f'RoBERTa : {tokenizer_roberta.vocab_size}')"
   ]
  },
  {
   "cell_type": "code",
   "execution_count": 12,
   "id": "1eaf14fa-bcd3-4968-9412-c63c551bccc1",
   "metadata": {},
   "outputs": [
    {
     "data": {
      "text/plain": [
       "{'input_ids': array([[  101,  2026,  2171,  2003, 11472, 17906,  9032,  2015,  1010,\n",
       "         2332,  1997,  5465,   102]]), 'token_type_ids': array([[0, 0, 0, 0, 0, 0, 0, 0, 0, 0, 0, 0, 0]]), 'attention_mask': array([[1, 1, 1, 1, 1, 1, 1, 1, 1, 1, 1, 1, 1]])}"
      ]
     },
     "execution_count": 12,
     "metadata": {},
     "output_type": "execute_result"
    }
   ],
   "source": [
    "tokenizer('My name is Ozymandias, king of kings', return_tensors='np')"
   ]
  },
  {
   "cell_type": "code",
   "execution_count": 13,
   "id": "5eeb8c6a-ef56-49eb-aac1-ce61317a75db",
   "metadata": {},
   "outputs": [
    {
     "name": "stderr",
     "output_type": "stream",
     "text": [
      "INFO:absl:Unable to initialize backend 'tpu_driver': NOT_FOUND: Unable to find driver in registry given worker: \n",
      "INFO:absl:Unable to initialize backend 'gpu': NOT_FOUND: Could not find registered platform with name: \"cuda\". Available platform names are: Host Interpreter\n",
      "INFO:absl:Unable to initialize backend 'tpu': INVALID_ARGUMENT: TpuPlatform is not available.\n",
      "WARNING:absl:No GPU/TPU found, falling back to CPU. (Set TF_CPP_MIN_LOG_LEVEL=0 and rerun for more info.)\n"
     ]
    },
    {
     "data": {
      "text/plain": [
       "DeviceArray([0.22638896, 0.08777282, 0.04717882, 0.03416082, 0.03275571,\n",
       "             0.10174081, 0.10347045, 0.26464796, 0.09861212, 0.00327145],            dtype=float32)"
      ]
     },
     "execution_count": 13,
     "metadata": {},
     "output_type": "execute_result"
    }
   ],
   "source": [
    "key = jrand.PRNGKey(2)\n",
    "jrand.dirichlet(key, alpha=jnp.ones((10,)))"
   ]
  },
  {
   "cell_type": "code",
   "execution_count": 47,
   "id": "526c5df7-27b8-4b58-b647-0dfe2bcc11ee",
   "metadata": {},
   "outputs": [
    {
     "data": {
      "text/plain": [
       "DeviceArray([0., 1., 2., 0., 0.], dtype=float32)"
      ]
     },
     "execution_count": 47,
     "metadata": {},
     "output_type": "execute_result"
    }
   ],
   "source": [
    "x = jnp.array([0., 1., 2., 3., 4., 5., 6.])\n",
    "y = jnp.zeros((5,))\n",
    "new = jax.lax.dynamic_slice(x, (0,), (3,))\n",
    "jax.lax.dynamic_update_slice(y, new, (0,))"
   ]
  },
  {
   "cell_type": "code",
   "execution_count": 74,
   "id": "1b73a442-6d3f-45a4-9033-94b40a0a47d4",
   "metadata": {},
   "outputs": [
    {
     "data": {
      "text/plain": [
       "DeviceArray([[1.0687480e-06, 8.4908961e-06, 9.8315859e-06, ...,\n",
       "              4.2215838e-06, 4.7946633e-06, 9.2560765e-07],\n",
       "             [3.5339278e-07, 1.1123673e-06, 5.8005348e-06, ...,\n",
       "              1.6144631e-05, 9.3367481e-07, 5.6265985e-06],\n",
       "             [3.7886305e-06, 5.6568247e-06, 1.0279502e-05, ...,\n",
       "              1.4628033e-06, 1.7675428e-07, 3.0388173e-06],\n",
       "             ...,\n",
       "             [7.8678022e-06, 5.9860863e-06, 1.5539873e-06, ...,\n",
       "              2.2945899e-06, 1.5643706e-06, 3.9684437e-06],\n",
       "             [1.7250152e-06, 1.6345626e-05, 1.7823446e-05, ...,\n",
       "              1.0356162e-08, 3.9409697e-06, 1.3914089e-05],\n",
       "             [1.5761785e-05, 1.1107145e-05, 1.7765348e-06, ...,\n",
       "              1.0689306e-05, 1.5254598e-05, 1.3654142e-05]],            dtype=float32)"
      ]
     },
     "execution_count": 74,
     "metadata": {},
     "output_type": "execute_result"
    }
   ],
   "source": [
    "\n",
    "\n",
    "\n",
    "\n",
    "def tok2simp(key, token_ids, concentration=0.9, vocab_size=30_522):\n",
    "    \"\"\" For time t=0, defines a point on the simplex for each token of the sequence.\n",
    "    \n",
    "    The true token is set to `concentration` and the remaining tokens are randomly assigned the remain probability sampled from the `vocab_size - 1` simplex \n",
    "    \"\"\"\n",
    "    seq_len = token_ids.shape[-1]\n",
    "    key, subkey = jrand.split(key)\n",
    "    concentrations = jnp.full((seq_len, 1), concentration)\n",
    "    other_probs = jrand.dirichlet(key, alpha=jnp.ones(vocab_size - 1,), shape=(seq_len,)) * (1 - concentration)\n",
    "    probs = jnp.concatenate([concentrations, other_probs], axis=1)\n",
    "    return jax.vmap(jnp.roll)(probs, token_ids)\n",
    "    \n",
    "                                   \n",
    "key, subkey = jrand.split(key)\n",
    "\n",
    "tokens = tokenizer('My name is Ozymandias, king of kings', return_tensors='np')['input_ids'][0]\n",
    "\n",
    "tok2simp(jrand.split(key, 2), tokens, concentration=0.75)"
   ]
  },
  {
   "cell_type": "code",
   "execution_count": 78,
   "id": "01595934-98a3-4195-a6dd-237dc1e3b70e",
   "metadata": {},
   "outputs": [
    {
     "data": {
      "text/plain": [
       "DeviceArray([[[4.9601061e-07, 7.0883284e-06, 5.0080885e-06, ...,\n",
       "               4.8108497e-08, 2.4784588e-06, 3.2537268e-06],\n",
       "              [1.9356710e-06, 8.4702734e-08, 2.5933771e-06, ...,\n",
       "               9.3110002e-06, 1.5264789e-06, 1.6829944e-06],\n",
       "              [2.8916584e-06, 2.0917669e-06, 7.3057572e-06, ...,\n",
       "               1.2578334e-06, 2.4394202e-08, 1.3356006e-06],\n",
       "              ...,\n",
       "              [1.0777827e-07, 1.1772730e-07, 6.5805011e-08, ...,\n",
       "               3.9340111e-06, 5.2198848e-06, 8.4783878e-06],\n",
       "              [3.7900188e-06, 4.7797096e-07, 2.9140389e-07, ...,\n",
       "               1.3466755e-06, 8.6511272e-07, 6.1717919e-06],\n",
       "              [3.9615497e-07, 2.8244549e-06, 1.4466606e-05, ...,\n",
       "               1.1659594e-05, 2.5676010e-07, 1.0340481e-05]],\n",
       "\n",
       "             [[7.9156571e-08, 6.4688656e-06, 2.4391076e-05, ...,\n",
       "               6.2400659e-06, 4.0468990e-08, 1.8201349e-07],\n",
       "              [4.8308953e-06, 2.4992153e-06, 1.9477952e-06, ...,\n",
       "               3.8142978e-06, 5.3882167e-07, 2.8904954e-06],\n",
       "              [3.8203356e-07, 1.4069988e-06, 1.0097162e-06, ...,\n",
       "               4.3391124e-06, 1.7929133e-06, 5.2638093e-06],\n",
       "              ...,\n",
       "              [4.0657173e-06, 1.0573041e-06, 5.9794324e-06, ...,\n",
       "               3.5987098e-06, 3.2698110e-06, 5.3120657e-06],\n",
       "              [4.2330830e-06, 4.7828858e-06, 3.1474294e-06, ...,\n",
       "               7.0331868e-07, 8.0792306e-06, 1.1888866e-06],\n",
       "              [8.9999998e-01, 8.0299233e-06, 3.6180566e-06, ...,\n",
       "               3.2190626e-06, 1.3864795e-05, 1.6509211e-06]]],            dtype=float32)"
      ]
     },
     "execution_count": 78,
     "metadata": {},
     "output_type": "execute_result"
    }
   ],
   "source": [
    "from functools import partial\n",
    "tokens2 = tokenizer(\n",
    "    ['My name is Ozymandias, king of kings',\n",
    "     'Look on my works, ye mighty, and despair'\n",
    "    ], return_tensors='np', padding=True)['input_ids']\n",
    "tok_fn = partial(tok2simp, concentration=0.9)\n",
    "jax.vmap(tok_fn)(jrand.split(key, 2), tokens2)"
   ]
  },
  {
   "cell_type": "code",
   "execution_count": 65,
   "id": "089202b7-8388-46d8-852b-b7cb5c6543bc",
   "metadata": {},
   "outputs": [
    {
     "data": {
      "text/plain": [
       "DeviceArray([[8.9999998e-01, 4.1741308e-02, 3.5531104e-03, 1.9258678e-02,\n",
       "              1.0263417e-02, 2.0375280e-03, 2.2614503e-03, 2.9235105e-03,\n",
       "              2.0785143e-03, 1.5882496e-02],\n",
       "             [8.9999998e-01, 2.3812694e-03, 8.2627041e-03, 2.9006688e-02,\n",
       "              3.9507765e-03, 8.1967050e-04, 3.7214272e-03, 1.4443065e-02,\n",
       "              3.0938467e-02, 6.4759413e-03],\n",
       "             [8.9999998e-01, 1.3912891e-02, 5.7322169e-03, 1.2617664e-02,\n",
       "              1.3692746e-02, 1.7116426e-03, 2.5537631e-02, 1.1670019e-02,\n",
       "              8.1467014e-03, 6.9784946e-03]], dtype=float32)"
      ]
     },
     "execution_count": 65,
     "metadata": {},
     "output_type": "execute_result"
    }
   ],
   "source": [
    "r = jrand.dirichlet(subkey, jnp.ones((9,)), (3,)) * .1\n",
    "x = jnp.concatenate([jnp.full((3, 1), .9), r], axis=1)\n",
    "x"
   ]
  },
  {
   "cell_type": "code",
   "execution_count": 69,
   "id": "a05cdb48-0cdf-40a2-8883-cbb7b794f0d7",
   "metadata": {},
   "outputs": [
    {
     "data": {
      "text/plain": [
       "DeviceArray([[1.5882496e-02, 8.9999998e-01, 4.1741308e-02, 3.5531104e-03,\n",
       "              1.9258678e-02, 1.0263417e-02, 2.0375280e-03, 2.2614503e-03,\n",
       "              2.9235105e-03, 2.0785143e-03],\n",
       "             [3.0938467e-02, 6.4759413e-03, 8.9999998e-01, 2.3812694e-03,\n",
       "              8.2627041e-03, 2.9006688e-02, 3.9507765e-03, 8.1967050e-04,\n",
       "              3.7214272e-03, 1.4443065e-02],\n",
       "             [1.1670019e-02, 8.1467014e-03, 6.9784946e-03, 8.9999998e-01,\n",
       "              1.3912891e-02, 5.7322169e-03, 1.2617664e-02, 1.3692746e-02,\n",
       "              1.7116426e-03, 2.5537631e-02]], dtype=float32)"
      ]
     },
     "execution_count": 69,
     "metadata": {},
     "output_type": "execute_result"
    }
   ],
   "source": [
    "z = jnp.array([1, 2, 3])\n",
    "jax.vmap(jnp.roll)(x, z)"
   ]
  },
  {
   "cell_type": "code",
   "execution_count": 79,
   "id": "79a5f889-277a-4655-857a-0d3bb6f387d6",
   "metadata": {},
   "outputs": [
    {
     "data": {
      "text/plain": [
       "(DeviceArray([ 1.0000000e+00,  9.9948621e-01,  9.9794537e-01,\n",
       "               9.9537909e-01,  9.9179000e-01,  9.8718178e-01,\n",
       "               9.8155916e-01,  9.7492790e-01,  9.6729487e-01,\n",
       "               9.5866787e-01,  9.4905573e-01,  9.3846840e-01,\n",
       "               9.2691678e-01,  9.1441262e-01,  9.0096885e-01,\n",
       "               8.8659930e-01,  8.7131870e-01,  8.5514277e-01,\n",
       "               8.3808810e-01,  8.2017225e-01,  8.0141360e-01,\n",
       "               7.8183144e-01,  7.6144594e-01,  7.4027801e-01,\n",
       "               7.1834934e-01,  6.9568253e-01,  6.7230088e-01,\n",
       "               6.4822841e-01,  6.2348986e-01,  5.9811050e-01,\n",
       "               5.7211661e-01,  5.4553491e-01,  5.1839256e-01,\n",
       "               4.9071753e-01,  4.6253830e-01,  4.3388376e-01,\n",
       "               4.0478328e-01,  3.7526694e-01,  3.4536502e-01,\n",
       "               3.1510821e-01,  2.8452760e-01,  2.5365460e-01,\n",
       "               2.2252086e-01,  1.9115858e-01,  1.5959987e-01,\n",
       "               1.2787715e-01,  9.6023038e-02,  6.4070255e-02,\n",
       "               3.2051511e-02, -4.3711388e-08], dtype=float32),\n",
       " DeviceArray([0.        , 0.03205158, 0.06407022, 0.09602303, 0.12787716,\n",
       "              0.1595999 , 0.19115864, 0.22252092, 0.2536546 , 0.2845276 ,\n",
       "              0.3151082 , 0.34536505, 0.37526703, 0.40478334, 0.43388373,\n",
       "              0.4625383 , 0.49071756, 0.51839256, 0.5455349 , 0.5721167 ,\n",
       "              0.5981105 , 0.62348986, 0.6482284 , 0.6723009 , 0.6956826 ,\n",
       "              0.7183494 , 0.740278  , 0.76144594, 0.78183144, 0.80141366,\n",
       "              0.82017225, 0.8380881 , 0.8551428 , 0.8713187 , 0.8865993 ,\n",
       "              0.90096885, 0.9144127 , 0.9269168 , 0.93846846, 0.94905573,\n",
       "              0.9586679 , 0.9672949 , 0.9749279 , 0.98155916, 0.9871818 ,\n",
       "              0.99179   , 0.9953791 , 0.99794537, 0.9994862 , 1.        ],            dtype=float32))"
      ]
     },
     "execution_count": 79,
     "metadata": {},
     "output_type": "execute_result"
    }
   ],
   "source": [
    "def t_to_alpha_sigma(t):\n",
    "    \"\"\"Returns the scaling factors for the clean image and for the noise, given\n",
    "    a timestep.\"\"\"\n",
    "    return jnp.cos(t * jnp.pi / 2), jnp.sin(t * jnp.pi / 2)\n",
    "\n",
    "t_to_alpha_sigma(jnp.linspace(0, 1))"
   ]
  },
  {
   "cell_type": "code",
   "execution_count": 2,
   "id": "bedae647-d36c-4297-b7c2-0c386d00d2d2",
   "metadata": {},
   "outputs": [],
   "source": [
    "import haiku as hk\n",
    "\n",
    "def _forward_fn_linear1(x):\n",
    "    m = hk.Linear(10)\n",
    "    return m(x)\n",
    "\n",
    "linear = hk.transform(_forward_fn_linear1)\n"
   ]
  },
  {
   "cell_type": "code",
   "execution_count": 11,
   "id": "86a74935-920e-4d49-9cf5-2be6f468c402",
   "metadata": {},
   "outputs": [],
   "source": [
    "import jax.random\n",
    "key = jax.random.PRNGKey(32)\n",
    "key, subkey = jax.random.split(key)\n",
    "dummy_x = jax.random.normal(key, (128, 512, 100))\n",
    "key, subkey = jax.random.split(key)\n",
    "params = linear.init(subkey, dummy_x)"
   ]
  },
  {
   "cell_type": "code",
   "execution_count": 12,
   "id": "5ee0ac61-cf1c-4417-9d7e-94b279777043",
   "metadata": {},
   "outputs": [
    {
     "data": {
      "text/plain": [
       "(1, 256, 10)"
      ]
     },
     "execution_count": 12,
     "metadata": {},
     "output_type": "execute_result"
    }
   ],
   "source": [
    "import jax.numpy as jnp\n",
    "\n",
    "key, subkey = jax.random.split(key)\n",
    "x_test = jnp.ones((1, 256, 100))\n",
    "linear.apply(params, subkey, x_test).shape"
   ]
  },
  {
   "cell_type": "code",
   "execution_count": null,
   "id": "83dfc0fc-71a0-421c-aef9-a3e2404088e6",
   "metadata": {},
   "outputs": [],
   "source": []
  }
 ],
 "metadata": {
  "kernelspec": {
   "display_name": "Python 3 (ipykernel)",
   "language": "python",
   "name": "python3"
  },
  "language_info": {
   "codemirror_mode": {
    "name": "ipython",
    "version": 3
   },
   "file_extension": ".py",
   "mimetype": "text/x-python",
   "name": "python",
   "nbconvert_exporter": "python",
   "pygments_lexer": "ipython3",
   "version": "3.8.11"
  }
 },
 "nbformat": 4,
 "nbformat_minor": 5
}
