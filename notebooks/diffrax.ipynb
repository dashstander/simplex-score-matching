{
 "cells": [
  {
   "cell_type": "code",
   "execution_count": 1,
   "id": "adf38700-a3fe-498f-b984-136f2beeb12d",
   "metadata": {},
   "outputs": [
    {
     "name": "stderr",
     "output_type": "stream",
     "text": [
      "/Users/dashiell/miniconda3/envs/ssm/lib/python3.9/site-packages/jax/_src/lib/__init__.py:34: UserWarning: JAX on Mac ARM machines is experimental and minimally tested. Please see https://github.com/google/jax/issues/5501 in the event of problems.\n",
      "  warnings.warn(\"JAX on Mac ARM machines is experimental and minimally tested. \"\n",
      "WARNING:absl:No GPU/TPU found, falling back to CPU. (Set TF_CPP_MIN_LOG_LEVEL=0 and rerun for more info.)\n"
     ]
    }
   ],
   "source": [
    "import sys\n",
    "\n",
    "sys.path.append('/Users/dashiell/workspace/simplex-score-matching/src')\n",
    "\n",
    "from ssm.simplex_proj import vector_simplex_proj\n",
    "from ssm.visualize_simplex import rotate_simplex_to_xy\n",
    "import ssm.aitchison as aitch\n",
    "\n",
    "from sympy import symbols, exp, ln\n",
    "from sympy.matrices import Matrix\n",
    "\n",
    "import jax\n",
    "import jax.numpy as jnp\n",
    "import numpy as np\n",
    "import matplotlib.pyplot as plt\n",
    "\n",
    "key = jax.random.PRNGKey(45)\n"
   ]
  },
  {
   "cell_type": "code",
   "execution_count": 8,
   "id": "f9a6fa43-c99d-48fc-a5b1-d2aa5833082a",
   "metadata": {},
   "outputs": [
    {
     "name": "stdout",
     "output_type": "stream",
     "text": [
      "[[ 0.01078423  0.00387306 -0.01465728]\n",
      " [ 0.00387306  0.06115492 -0.06502797]\n",
      " [-0.01465728 -0.06502797  0.07968525]]\n",
      "[[ 0.01078423  0.00387306 -0.01465728]\n",
      " [ 0.00387306  0.06115492 -0.06502797]\n",
      " [-0.01465728 -0.06502797  0.07968525]]\n"
     ]
    }
   ],
   "source": [
    "def softmax_jac2(x):\n",
    "    _jvp = lambda s: jax.jvp(jax.nn.softmax, (x,), (s,))[1]\n",
    "    return jax.vmap(_jvp)(jax.jacrev(jax.nn.softmax)(x))\n",
    "x = jnp.array([2., 3., 4.])\n",
    "jac = jax.jacobian(jax.nn.softmax)(x)\n",
    "a1 = softmax_jac2(x)\n",
    "a2 = jnp.matmul(jac, jac)\n",
    "print(a1)\n",
    "print(a2)"
   ]
  },
  {
   "cell_type": "code",
   "execution_count": 21,
   "id": "9f8170fd-e940-453f-9718-3932f89cb9f2",
   "metadata": {},
   "outputs": [],
   "source": [
    "key, subkey = jax.random.split(key)\n",
    "a3, grad_jac_sfm = jax.jvp(softmax_jac2, (jax.random.normal(subkey, (10,)),), (jnp.ones(10),))"
   ]
  },
  {
   "cell_type": "code",
   "execution_count": 22,
   "id": "bd23be9f-1862-4bda-ba3d-c501e71a4153",
   "metadata": {},
   "outputs": [
    {
     "data": {
      "text/plain": [
       "DeviceArray([[-2.07498729e-09, -2.69043711e-11,  4.05697420e-11,\n",
       "               1.07231513e-09, -8.47024395e-11,  1.67336034e-10,\n",
       "               1.04305176e-10,  1.66722636e-09, -1.32668071e-10,\n",
       "              -2.59473831e-11],\n",
       "             [ 3.11890513e-11,  8.01678168e-13,  5.27077470e-12,\n",
       "              -3.69157135e-11,  1.11684577e-11,  6.94590982e-11,\n",
       "               3.17332827e-11, -5.50882950e-11,  9.74569904e-12,\n",
       "              -1.86148926e-12],\n",
       "             [ 1.54048607e-10,  3.34498900e-12, -9.41810865e-12,\n",
       "              -5.50490209e-12,  3.25097501e-12,  2.20947843e-11,\n",
       "               7.78195043e-12,  7.09942938e-11,  3.01942152e-12,\n",
       "              -1.48825017e-13],\n",
       "             [ 5.00354425e-10, -3.71497347e-11, -3.72819102e-11,\n",
       "              -3.02228909e-10, -6.69434785e-11, -3.70746100e-10,\n",
       "              -1.71717793e-10, -1.63279168e-10, -1.27034203e-10,\n",
       "              -3.12435078e-11],\n",
       "             [ 4.20247170e-11, -7.28356438e-12, -1.70177555e-12,\n",
       "              -8.86729301e-11, -1.56924057e-11,  2.95254099e-11,\n",
       "              -4.63265398e-11,  5.63651348e-11,  6.08384263e-12,\n",
       "               2.66835902e-12],\n",
       "             [ 1.10070042e-09, -2.83326487e-12,  3.06958061e-12,\n",
       "              -4.12825329e-12,  5.28832360e-12,  1.30058853e-10,\n",
       "               2.57518867e-11, -9.58870761e-11,  4.76903794e-11,\n",
       "               5.27381958e-12],\n",
       "             [ 3.42292195e-10,  5.21917882e-12, -1.01090078e-12,\n",
       "               3.62601615e-11,  3.02482865e-12,  7.36139760e-11,\n",
       "              -2.74318845e-10,  1.24491306e-10, -6.38930922e-12,\n",
       "               2.21358565e-12],\n",
       "             [-2.41291154e-11,  2.45901910e-12,  1.96926416e-12,\n",
       "               2.01973535e-10,  2.31170985e-13, -5.99784458e-11,\n",
       "               1.84013221e-12, -1.61392844e-09,  3.12963544e-12,\n",
       "              -2.43629769e-13],\n",
       "             [-1.39229739e-10, -2.24396647e-11, -2.03429218e-11,\n",
       "              -1.14539461e-10, -9.97176126e-12, -7.51114310e-11,\n",
       "              -6.49019588e-11,  2.89641422e-10, -1.89264715e-11,\n",
       "              -1.02030381e-11],\n",
       "             [ 3.22727678e-11,  5.70869415e-13, -1.04766044e-12,\n",
       "               2.50896005e-11,  2.67734337e-12,  3.00770520e-11,\n",
       "               1.91735898e-11,  1.15514959e-11, -4.41071311e-12,\n",
       "               1.88243518e-12]], dtype=float32)"
      ]
     },
     "execution_count": 22,
     "metadata": {},
     "output_type": "execute_result"
    }
   ],
   "source": [
    "grad_jac_sfm"
   ]
  },
  {
   "cell_type": "code",
   "execution_count": 25,
   "id": "65b244af-9d71-4d53-8dd2-f1efeb8e9a5d",
   "metadata": {},
   "outputs": [],
   "source": [
    "import jax.random as jrandom\n",
    "from diffrax import diffeqsolve, ControlTerm, Euler, MultiTerm, ODETerm, SaveAt, VirtualBrownianTree\n",
    "\n",
    "def v(p):\n",
    "    alpha = jnp.ones((p.shape[-1],))\n",
    "    return -1. * (alpha * jnp.log(p)).sum()\n",
    "\n",
    "\n",
    "def drift_potential(t, x, args):\n",
    "    x = x / jnp.var(x, axis=-1, keepdims=True)\n",
    "    p = jax.nn.softmax(x)\n",
    "    alphas = jnp.ones((p.shape[-1],))\n",
    "    num_alphas = alphas.sum()\n",
    "    return -1 * aitch.simplex_metric_tensor_inv(\n",
    "        p,\n",
    "        (num_alphas * p) - alphas\n",
    "    )\n",
    "\n",
    "\n",
    "def diffusion(t, x, args):\n",
    "    p = jax.nn.softmax(x)\n",
    "    jac = jax.jacobian(jax.nn.softmax)(p)\n",
    "    return 2 * jac\n",
    "    \n",
    "    \n",
    "\n",
    "\n",
    "\n",
    "def do_sde(x0, num_steps, key):\n",
    "    #ilr, ilr_inv = aitch.make_isometric_transforms(x.shape[-1])\n",
    "    #x0 = ilr(x)\n",
    "    min_noise, max_noise = 0.5, 5\n",
    "    #key, *subkeys1 = jax.random.split(key, num_steps + 1)\n",
    "    #key, *subkeys2 = jax.random.split(key, num_steps + 1)\n",
    "    noise = jax.random.normal(key, (num_steps, x0.shape[-1]))\n",
    "    # schedule = get_noise_schedule(min_noise, max_noise, num_steps)\n",
    "    #noise = noise * schedule[...,None]\n",
    "    alphas = jnp.ones((x0.shape[-1],))\n",
    "    alpha_total = alphas.sum()\n",
    "    payoff = make_payoff_matrix(alphas)\n",
    "    delta_t = 1 / num_steps\n",
    "    def sde_step(x, noise):\n",
    "        # noise, sigma = noise_things\n",
    "        g_inv = partial(aitch.simplex_metric_tensor_inv, jax.nn.softmax(x))\n",
    "        scaled_noise = g_inv(noise)\n",
    "        # new_inds = maybe_permute(key1, key2, x.shape[-1])\n",
    "        drift = g_inv(jnp.matmul(payoff, alpha_total * x - alphas))\n",
    "        #full_sigma = jnp.sqrt(delta_t) * noise\n",
    "        new_x = x - (drift * delta_t) + (2 * jnp.sqrt(delta_t) * noise)\n",
    "        return new_x, new_x\n",
    "    final_loc, path = jax.lax.scan(\n",
    "        sde_step,\n",
    "        x0,\n",
    "        noise\n",
    "    )\n"
   ]
  },
  {
   "cell_type": "code",
   "execution_count": 3,
   "id": "753ca1e6-1074-4640-8432-53a3b141d99f",
   "metadata": {},
   "outputs": [],
   "source": [
    "from diffrax.term import _ControlTerm\n",
    "\n",
    "class SimplexControlTerm(_ControlTerm):\n",
    "\n",
    "    \n",
    "    @staticmethod\n",
    "    def prod(vf, control):\n",
    "        _, g_inv = jax.jvp(\n",
    "            jax.nn.softmax,\n",
    "            (vf, ),\n",
    "            (control, )\n",
    "        )\n",
    "        return g_inv\n",
    "    "
   ]
  },
  {
   "cell_type": "code",
   "execution_count": 4,
   "id": "ba6adbec-6a6d-4f06-8e8a-0b7d7e213c0c",
   "metadata": {},
   "outputs": [],
   "source": [
    "t0, t1 = 0, 6\n",
    "#drift = lambda t, y, args: -y\n",
    "diffusion = lambda t, y, args: y\n",
    "brownian_motion = VirtualBrownianTree(t0, t1, tol=1e-4, shape=(3,), key=jax.random.PRNGKey(0))\n",
    "terms = MultiTerm(ODETerm(drift_potential), SimplexControlTerm(diffusion, brownian_motion))\n",
    "solver = Euler()\n",
    "saveat = SaveAt(dense=True)\n",
    "\n",
    "sol = diffeqsolve(terms, solver, t0, t1, dt0=0.01, y0=aitch.clr(jnp.array([0.9, 0.3, 0.07])), saveat=saveat)\n"
   ]
  },
  {
   "cell_type": "code",
   "execution_count": 230,
   "id": "6256e655-49ad-4126-9cd6-b769d9dc7eb7",
   "metadata": {},
   "outputs": [
    {
     "data": {
      "text/plain": [
       "DeviceArray([-4.185115 ,  1.917137 ,  2.2679775], dtype=float32, weak_type=True)"
      ]
     },
     "execution_count": 230,
     "metadata": {},
     "output_type": "execute_result"
    }
   ],
   "source": [
    "sol.evaluate(7.5)"
   ]
  },
  {
   "cell_type": "code",
   "execution_count": 26,
   "id": "1a9a4012-53c0-4ade-b9ce-3dda3f78514f",
   "metadata": {},
   "outputs": [],
   "source": [
    "from diffrax import Heun\n",
    "\n",
    "def run_sde(x0, t1, key):\n",
    "    t0 = 0\n",
    "    #diffusion = lambda t, y, args: y\n",
    "    brownian_motion = VirtualBrownianTree(t0, t1, tol=1e-4, shape=(3,), key=key)\n",
    "    terms = MultiTerm(ODETerm(drift_potential), ControlTerm(diffusion, brownian_motion))\n",
    "    solver = Heun()\n",
    "    #saveat = SaveAt(ts=jnp.linspace(t0, t1, 50))\n",
    "    sol = diffeqsolve(terms, solver, t0, t1, dt0=0.1, y0=aitch.clr(x0))\n",
    "    return sol.ys[0]\n",
    "\n",
    "\n",
    "\n",
    "keys = jnp.s tack(jax.random.split(key, 1000))\n",
    "t1 = jnp.ones((1000,)) * 25\n",
    "\n",
    "outs = jax.vmap(run_sde, in_axes=(None, 0, 0))(jnp.array([0.98, 0.013, 0.007]), t1, keys)\n"
   ]
  },
  {
   "cell_type": "code",
   "execution_count": 163,
   "id": "a777b45b-254e-4573-beb1-cbeb6cb36c02",
   "metadata": {},
   "outputs": [
    {
     "data": {
      "text/plain": [
       "DeviceArray([0.829989 , 1.0401773], dtype=float32)"
      ]
     },
     "execution_count": 163,
     "metadata": {},
     "output_type": "execute_result"
    }
   ],
   "source": [
    "from functools import partial\n",
    "\n",
    "a = jnp.array([ [[2., 3., 4.], [5., 6., 7.]], [[1., 2., 3.], [4., 5., 6.]]])\n",
    "#a = jnp.array([[2., 3., 4.], [5., 6., 7.]])\n",
    "v = jax.random.normal(key, a.shape)\n",
    "sfm_a, partial_prod = jax.jvp(partial(jax.nn.softmax, axis=-1), (a,), (v,))\n",
    "jax.vmap(jnp.tensordot)(v, partial_prod)"
   ]
  },
  {
   "cell_type": "code",
   "execution_count": 160,
   "id": "ef5e484a-9359-4a72-bd07-e4b27784dace",
   "metadata": {},
   "outputs": [
    {
     "data": {
      "text/plain": [
       "DeviceArray([0.829989 , 1.0401773], dtype=float32)"
      ]
     },
     "execution_count": 160,
     "metadata": {},
     "output_type": "execute_result"
    }
   ],
   "source": [
    "@jax.vmap\n",
    "def hutch(x, v):\n",
    "    _, partial_prod = jax.jvp(partial(jax.nn.softmax, axis=-1), (x,), (v,))\n",
    "    return jnp.tensordot(v, partial_prod)\n",
    "\n",
    "hutch(a, v)"
   ]
  },
  {
   "cell_type": "code",
   "execution_count": 130,
   "id": "b3789dd1-5127-4808-a6b2-f55bcb304a10",
   "metadata": {},
   "outputs": [
    {
     "data": {
      "text/plain": [
       "DeviceArray([ 0.07571796,  0.13010478, -0.20582278], dtype=float32)"
      ]
     },
     "execution_count": 130,
     "metadata": {},
     "output_type": "execute_result"
    }
   ],
   "source": []
  },
  {
   "cell_type": "code",
   "execution_count": 27,
   "id": "42cc01f2-3cc9-481f-a307-536f753b1fd3",
   "metadata": {},
   "outputs": [
    {
     "data": {
      "image/png": "[encoded data removed]",
      "text/plain": [
       "<Figure size 432x288 with 1 Axes>"
      ]
     },
     "metadata": {
      "needs_background": "light"
     },
     "output_type": "display_data"
    },
    {
     "data": {
      "text/plain": [
       "<Figure size 720x720 with 0 Axes>"
      ]
     },
     "metadata": {},
     "output_type": "display_data"
    }
   ],
   "source": [
    "sq32 = np.sqrt(3/2)\n",
    "sq22 = np.sqrt(2)/2\n",
    "triangle = np.array([[0, sq32], [-sq22, 0], [sq22, 0]])\n",
    "#noised_samples = add_noise(0.8, 0.9, 3, 100_000, subkey) \n",
    "\n",
    "#samples = jax.random.dirichlet(subkey, jnp.array([0.1, 0.1, 0.1]), (100_000,))\n",
    "\n",
    "plt.figure()\n",
    "\n",
    "X = jax.vmap(rotate_simplex_to_xy)(jax.nn.softmax(outs))\n",
    "plt.scatter(X[:,0], X[:,1], alpha=.2, s=.3)\n",
    "t1 = plt.Polygon(triangle, fill=False)\n",
    "plt.gca().add_patch(t1)\n",
    "plt.gca().set_aspect('equal')\n",
    "plt.figure(figsize=(10,10))\n",
    "plt.show()"
   ]
  },
  {
   "cell_type": "code",
   "execution_count": 108,
   "id": "e9b69500-8b6f-4c98-8e05-8f18525d4b5d",
   "metadata": {},
   "outputs": [],
   "source": [
    "def hutch_estimator(x, key):\n",
    "    v = jax.random.normal(key, (x.shape[0], ))\n",
    "    return jnp.dot(jnp.matmul(v, x), v)"
   ]
  },
  {
   "cell_type": "code",
   "execution_count": 109,
   "id": "9e8878a4-052b-430e-a2f1-7336348be187",
   "metadata": {},
   "outputs": [
    {
     "data": {
      "text/plain": [
       "DeviceArray(16.369148, dtype=float32)"
      ]
     },
     "execution_count": 109,
     "metadata": {},
     "output_type": "execute_result"
    }
   ],
   "source": [
    "key, subkey = jax.random.split(key)\n",
    "h = jnp.arange(10000).reshape((100,100)) / 10000\n",
    "hutch_estimator(h, subkey)"
   ]
  },
  {
   "cell_type": "code",
   "execution_count": 106,
   "id": "cb842d9b-60cc-42cf-a87d-0e1d07180902",
   "metadata": {},
   "outputs": [
    {
     "data": {
      "text/plain": [
       "DeviceArray(7.7647214, dtype=float32)"
      ]
     },
     "execution_count": 106,
     "metadata": {},
     "output_type": "execute_result"
    }
   ],
   "source": [
    "jnp.dot(jnp.matmul(v, h), v)"
   ]
  },
  {
   "cell_type": "code",
   "execution_count": 23,
   "id": "59cc4664-0c6e-46cd-81e7-63af341b48d6",
   "metadata": {},
   "outputs": [
    {
     "name": "stdout",
     "output_type": "stream",
     "text": [
      "[0.0242889  0.48785555 0.48785555]\n",
      "[0.13533528 2.7182817  2.7182817 ]\n",
      "[0.0242889  0.48785558 0.48785558]\n",
      "[-3.717736  -0.7177359 -0.7177359]\n",
      "[-3.7177358  -0.71773577 -0.71773577]\n",
      "5.153208\n",
      "5.1532073\n"
     ]
    }
   ],
   "source": [
    "s = jnp.exp(b).sum()\n",
    "print(jax.nn.softmax(b))\n",
    "print(jnp.exp(b))\n",
    "print(jnp.exp(b) / s)\n",
    "print(jnp.log(jax.nn.softmax(b)))\n",
    "print(b - jnp.log(s))\n",
    "print(v(jax.nn.softmax(b)))\n",
    "print(3 * jnp.log(jnp.exp(b).sum()))"
   ]
  },
  {
   "cell_type": "code",
   "execution_count": 8,
   "id": "c3bf87b4-bc87-4054-aa06-79b79de3ffe9",
   "metadata": {},
   "outputs": [
    {
     "data": {
      "image/png": "[encoded data removed]",
      "text/plain": [
       "<Figure size 432x288 with 1 Axes>"
      ]
     },
     "metadata": {
      "needs_background": "light"
     },
     "output_type": "display_data"
    },
    {
     "data": {
      "text/plain": [
       "<Figure size 720x720 with 0 Axes>"
      ]
     },
     "metadata": {},
     "output_type": "display_data"
    }
   ],
   "source": [
    "key, subkey = jax.random.split(key)\n",
    "\n",
    "sq32 = np.sqrt(3/2)\n",
    "sq22 = np.sqrt(2)/2\n",
    "triangle = np.array([[0, sq32], [-sq22, 0], [sq22, 0]])\n",
    "#noised_samples = add_noise(0.8, 0.9, 3, 100_000, subkey) \n",
    "\n",
    "samples = jax.random.dirichlet(subkey, jnp.array([0.1, 0.1, 0.1]), (100_000,))\n",
    "\n",
    "plt.figure()\n",
    "\n",
    "X = jax.vmap(rotate_simplex_to_xy)(samples)\n",
    "plt.scatter(X[:,0], X[:,1], alpha=.2, s=.1)\n",
    "t1 = plt.Polygon(triangle, fill=False)\n",
    "plt.gca().add_patch(t1)\n",
    "plt.gca().set_aspect('equal')\n",
    "plt.figure(figsize=(10,10))\n",
    "plt.show()"
   ]
  },
  {
   "cell_type": "code",
   "execution_count": null,
   "id": "25234880-ca17-45f5-b637-2cc3ef63e8c0",
   "metadata": {},
   "outputs": [],
   "source": []
  }
 ],
 "metadata": {
  "kernelspec": {
   "display_name": "Python [conda env:ssm]",
   "language": "python",
   "name": "conda-env-ssm-py"
  },
  "language_info": {
   "codemirror_mode": {
    "name": "ipython",
    "version": 3
   },
   "file_extension": ".py",
   "mimetype": "text/x-python",
   "name": "python",
   "nbconvert_exporter": "python",
   "pygments_lexer": "ipython3",
   "version": "3.9.13"
  }
 },
 "nbformat": 4,
 "nbformat_minor": 5
}
