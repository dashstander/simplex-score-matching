{
 "cells": [
  {
   "cell_type": "code",
   "execution_count": 1,
   "id": "cc35ba87-4f70-47b9-9fd8-d2663dabc1ea",
   "metadata": {},
   "outputs": [],
   "source": [
    "from fractions import Fraction\n",
    "from random import choice, choices"
   ]
  },
  {
   "cell_type": "code",
   "execution_count": 24,
   "id": "ee58e7b4-81fb-4635-af65-fd9bbd8c7d2e",
   "metadata": {},
   "outputs": [],
   "source": [
    "def rand_frac(decimal_places=15, max_denom=10000):\n",
    "    digits = ['0', '1', '2', '3', '4', '5', '6', '7', '8', '9']\n",
    "    leading_digit = choices(digits, weights=[4, 1, 1, 1, 1, 1, 1, 1, 1, 1])[0]\n",
    "    remaining = ''.join(choices(digits, k=decimal_places))\n",
    "    number = f'{leading_digit}.{remaining}'\n",
    "    return number, Fraction(number).limit_denominator(max_denom)"
   ]
  },
  {
   "cell_type": "code",
   "execution_count": 20,
   "id": "012fb89f-eb07-44d8-957f-698ef4f5b6ef",
   "metadata": {},
   "outputs": [
    {
     "data": {
      "text/plain": [
       "'7.4105147075197163464153167'"
      ]
     },
     "execution_count": 20,
     "metadata": {},
     "output_type": "execute_result"
    }
   ],
   "source": [
    "number, frac = rand_frac()\n",
    "number"
   ]
  },
  {
   "cell_type": "code",
   "execution_count": 21,
   "id": "df4ce346-a2d6-44e5-ae7e-2765c49b6807",
   "metadata": {},
   "outputs": [
    {
     "data": {
      "text/plain": [
       "Fraction(704, 95)"
      ]
     },
     "execution_count": 21,
     "metadata": {},
     "output_type": "execute_result"
    }
   ],
   "source": [
    "frac.limit_denominator(256)"
   ]
  },
  {
   "cell_type": "code",
   "execution_count": 8,
   "id": "4fc9a702-f9d2-4b87-b74d-cf000c0040c1",
   "metadata": {},
   "outputs": [
    {
     "data": {
      "text/plain": [
       "Fraction(209, 49)"
      ]
     },
     "execution_count": 8,
     "metadata": {},
     "output_type": "execute_result"
    }
   ],
   "source": [
    "rand_frac().limit_denominator(127)"
   ]
  },
  {
   "cell_type": "code",
   "execution_count": 23,
   "id": "71b12978-b225-4657-a372-5e0de34a8dd4",
   "metadata": {},
   "outputs": [
    {
     "data": {
      "text/plain": [
       "Fraction(415, 56)"
      ]
     },
     "execution_count": 23,
     "metadata": {},
     "output_type": "execute_result"
    }
   ],
   "source": [
    "frac.limit_denominator(65)"
   ]
  },
  {
   "cell_type": "code",
   "execution_count": 25,
   "id": "b1a4831a-b76b-43e0-adec-97485606ad5e",
   "metadata": {},
   "outputs": [],
   "source": [
    "def make_batch(batch_size=128):\n",
    "    denominators = [8, 16, 32, 64, 128, 256, 512, 1024]\n",
    "    numbers = [rand_frac(max_denom=choice(denominators)) for _ in range(batch_size)]\n",
    "    dec_strings, fractions = zip(*numbers)\n",
    "    return dec_strings, fractions\n",
    "                         "
   ]
  },
  {
   "cell_type": "code",
   "execution_count": 26,
   "id": "845b109e-3113-4409-91d8-979e869ea332",
   "metadata": {},
   "outputs": [
    {
     "data": {
      "text/plain": [
       "(('0.211764829583093',\n",
       "  '8.671006727487658',\n",
       "  '3.865847341964844',\n",
       "  '1.929690394154238',\n",
       "  '0.806709712182665',\n",
       "  '7.272239873120233',\n",
       "  '2.925854658812270',\n",
       "  '6.131229992580180',\n",
       "  '5.599389844720487',\n",
       "  '1.148512913251604'),\n",
       " (Fraction(18, 85),\n",
       "  Fraction(2662, 307),\n",
       "  Fraction(3746, 969),\n",
       "  Fraction(110, 57),\n",
       "  Fraction(96, 119),\n",
       "  Fraction(80, 11),\n",
       "  Fraction(23, 8),\n",
       "  Fraction(3691, 602),\n",
       "  Fraction(1831, 327),\n",
       "  Fraction(116, 101)))"
      ]
     },
     "execution_count": 26,
     "metadata": {},
     "output_type": "execute_result"
    }
   ],
   "source": [
    "make_batch(10)"
   ]
  },
  {
   "cell_type": "code",
   "execution_count": null,
   "id": "48eef9b0-b69a-48e0-ac17-0547badc9df7",
   "metadata": {},
   "outputs": [],
   "source": []
  }
 ],
 "metadata": {
  "kernelspec": {
   "display_name": "Python [conda env:root] *",
   "language": "python",
   "name": "conda-root-py"
  },
  "language_info": {
   "codemirror_mode": {
    "name": "ipython",
    "version": 3
   },
   "file_extension": ".py",
   "mimetype": "text/x-python",
   "name": "python",
   "nbconvert_exporter": "python",
   "pygments_lexer": "ipython3",
   "version": "3.8.11"
  }
 },
 "nbformat": 4,
 "nbformat_minor": 5
}
