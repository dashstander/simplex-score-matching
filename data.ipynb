{
 "cells": [
  {
   "cell_type": "code",
   "execution_count": 2,
   "id": "de78f462-06ed-48b1-9bbe-b1d7cbcf9c74",
   "metadata": {},
   "outputs": [],
   "source": [
    "import numpy as np\n",
    "import ray\n",
    "from tokenizers import Tokenizer\n",
    "from functools import partial\n",
    "from pathlib import Path\n",
    "from ray.data.impl.compute import ActorPoolStrategy"
   ]
  },
  {
   "cell_type": "code",
   "execution_count": 3,
   "id": "b998c300-febc-4a2b-b4e1-85295f3bb3d2",
   "metadata": {},
   "outputs": [
    {
     "data": {
      "text/plain": [
       "'/Users/dashiell/workspace/simplex-score-matching/data/train'"
      ]
     },
     "execution_count": 3,
     "metadata": {},
     "output_type": "execute_result"
    }
   ],
   "source": [
    "data_fp = Path('data/train')\n",
    "str(data_fp.resolve())"
   ]
  },
  {
   "cell_type": "code",
   "execution_count": null,
   "id": "bf65e17f-e3ac-4f5f-bdf6-caa2fd9742db",
   "metadata": {},
   "outputs": [
    {
     "name": "stderr",
     "output_type": "stream",
     "text": [
      "Read:   6%|██████                                                                                                        | 11/200 [00:05<00:47,  4.02it/s]\u001b[2m\u001b[36m(raylet)\u001b[0m Spilled 2374 MiB, 16 objects, write throughput 963 MiB/s. Set RAY_verbose_spill_logs=0 to disable this message.\n",
      "Read:   8%|█████████▎                                                                                                    | 17/200 [00:07<00:56,  3.22it/s]\u001b[2m\u001b[36m(raylet)\u001b[0m Spilled 4135 MiB, 24 objects, write throughput 1138 MiB/s.\n",
      "Read:  19%|████████████████████▉                                                                                         | 38/200 [00:15<00:49,  3.26it/s]\u001b[2m\u001b[36m(raylet)\u001b[0m Spilled 8817 MiB, 45 objects, write throughput 903 MiB/s.\n",
      "Read:  40%|████████████████████████████████████████████                                                                  | 80/200 [00:36<01:22,  1.46it/s]\u001b[2m\u001b[36m(raylet)\u001b[0m Spilled 16586 MiB, 277 objects, write throughput 639 MiB/s.\n",
      "Read:  90%|█████████████████████████████████████████████████████████████████████████████████████████████████▌           | 179/200 [01:10<00:15,  1.35it/s]\u001b[2m\u001b[36m(raylet)\u001b[0m Spilled 33151 MiB, 378 objects, write throughput 573 MiB/s.\n",
      "Read: 100%|█████████████████████████████████████████████████████████████████████████████████████████████████████████████| 200/200 [01:21<00:00,  2.46it/s]\n",
      "Repartition:   0%|                                                                                                                  | 0/8 [00:16<?, ?it/s]"
     ]
    }
   ],
   "source": [
    "data_fp = Path('data/train')\n",
    "dataset = ray.data.read_numpy('data/train').repartition(8).experimental_lazy()"
   ]
  },
  {
   "cell_type": "code",
   "execution_count": 28,
   "id": "633ed01b-ca69-4119-a50c-9822d2afe6ba",
   "metadata": {},
   "outputs": [],
   "source": [
    "\n",
    "class TokenToProbsProcessor:\n",
    "\n",
    "    def __init__(self, rng, concentration: float, vocab_size: int):\n",
    "        self.rng = rng\n",
    "        self.concentration = concentration\n",
    "        self.vocab_size = vocab_size\n",
    "\n",
    "    def __call__(self, tokens):\n",
    "        batch, seq_len, = tokens.shape\n",
    "\n",
    "        def _tokens_to_probs(token_ids):\n",
    "            x = self.rng.random((seq_len, self.vocab_size), dtype=np.float32) / self.vocab_size\n",
    "            # At this point E(x.sum()) == 0.5 \n",
    "            # What we want is for new_val / (x.sum() + new_val) ~ concentration\n",
    "            # --> new_val == (concentration * x.sum())/(1 - concentration)\n",
    "            # Then, in the normalized vector, the appropriate token will have ~ concentration weight,\n",
    "            # and the others will have the rest\n",
    "            x_sum = x.sum(axis=1)\n",
    "            conc_val = np.mean((self.concentration * x_sum) / (1 - self.concentration))\n",
    "            np.put_along_axis(x, token_ids[:, None], conc_val, axis=1)\n",
    "            return x / x.sum(axis=1)[:, None]\n",
    "            \n",
    "        return np.apply_along_axis(_tokens_to_probs, axis=1, arr=tokens)\n",
    "    \n",
    "    \n",
    "t2p = TokenToProbsProcessor(np.random.default_rng(332), 0.85, 8192)\n",
    "\n",
    "        "
   ]
  },
  {
   "cell_type": "code",
   "execution_count": 29,
   "id": "207f4c67-ae06-49f1-b3d6-eaf914c18dd5",
   "metadata": {},
   "outputs": [],
   "source": [
    "pipe = dataset.map_batches(t2p, batch_size=4).iter_rows()"
   ]
  },
  {
   "cell_type": "code",
   "execution_count": 30,
   "id": "7401513c-7db9-4a86-9b1e-9485f2e228f8",
   "metadata": {},
   "outputs": [
    {
     "name": "stderr",
     "output_type": "stream",
     "text": [
      "Map_Batches:   0%|                                                                                                                | 0/100 [00:33<?, ?it/s]"
     ]
    },
    {
     "ename": "KeyboardInterrupt",
     "evalue": "",
     "output_type": "error",
     "traceback": [
      "\u001b[0;31m---------------------------------------------------------------------------\u001b[0m",
      "\u001b[0;31mKeyboardInterrupt\u001b[0m                         Traceback (most recent call last)",
      "File \u001b[0;32m~/miniconda3/envs/ssm/lib/python3.9/site-packages/ray/data/impl/compute.py:72\u001b[0m, in \u001b[0;36mTaskPoolStrategy._apply\u001b[0;34m(self, fn, remote_args, block_list, clear_input_blocks, name)\u001b[0m\n\u001b[1;32m     71\u001b[0m \u001b[38;5;28;01mtry\u001b[39;00m:\n\u001b[0;32m---> 72\u001b[0m     results \u001b[38;5;241m=\u001b[39m \u001b[43mmap_bar\u001b[49m\u001b[38;5;241;43m.\u001b[39;49m\u001b[43mfetch_until_complete\u001b[49m\u001b[43m(\u001b[49m\u001b[43mrefs\u001b[49m\u001b[43m)\u001b[49m\n\u001b[1;32m     73\u001b[0m \u001b[38;5;28;01mexcept\u001b[39;00m (ray\u001b[38;5;241m.\u001b[39mexceptions\u001b[38;5;241m.\u001b[39mRayTaskError, \u001b[38;5;167;01mKeyboardInterrupt\u001b[39;00m) \u001b[38;5;28;01mas\u001b[39;00m e:\n\u001b[1;32m     74\u001b[0m     \u001b[38;5;66;03m# One or more mapper tasks failed, or we received a SIGINT signal\u001b[39;00m\n\u001b[1;32m     75\u001b[0m     \u001b[38;5;66;03m# while waiting; either way, we cancel all map tasks.\u001b[39;00m\n",
      "File \u001b[0;32m~/miniconda3/envs/ssm/lib/python3.9/site-packages/ray/data/impl/progress_bar.py:74\u001b[0m, in \u001b[0;36mProgressBar.fetch_until_complete\u001b[0;34m(self, refs)\u001b[0m\n\u001b[1;32m     73\u001b[0m \u001b[38;5;28;01mwhile\u001b[39;00m remaining:\n\u001b[0;32m---> 74\u001b[0m     done, remaining \u001b[38;5;241m=\u001b[39m \u001b[43mray\u001b[49m\u001b[38;5;241;43m.\u001b[39;49m\u001b[43mwait\u001b[49m\u001b[43m(\u001b[49m\u001b[43mremaining\u001b[49m\u001b[43m,\u001b[49m\u001b[43m \u001b[49m\u001b[43mfetch_local\u001b[49m\u001b[38;5;241;43m=\u001b[39;49m\u001b[38;5;28;43;01mTrue\u001b[39;49;00m\u001b[43m,\u001b[49m\u001b[43m \u001b[49m\u001b[43mtimeout\u001b[49m\u001b[38;5;241;43m=\u001b[39;49m\u001b[38;5;241;43m0.1\u001b[39;49m\u001b[43m)\u001b[49m\n\u001b[1;32m     75\u001b[0m     \u001b[38;5;28;01mfor\u001b[39;00m ref, result \u001b[38;5;129;01min\u001b[39;00m \u001b[38;5;28mzip\u001b[39m(done, ray\u001b[38;5;241m.\u001b[39mget(done)):\n",
      "File \u001b[0;32m~/miniconda3/envs/ssm/lib/python3.9/site-packages/ray/_private/client_mode_hook.py:105\u001b[0m, in \u001b[0;36mclient_mode_hook.<locals>.wrapper\u001b[0;34m(*args, **kwargs)\u001b[0m\n\u001b[1;32m    104\u001b[0m         \u001b[38;5;28;01mreturn\u001b[39;00m \u001b[38;5;28mgetattr\u001b[39m(ray, func\u001b[38;5;241m.\u001b[39m\u001b[38;5;18m__name__\u001b[39m)(\u001b[38;5;241m*\u001b[39margs, \u001b[38;5;241m*\u001b[39m\u001b[38;5;241m*\u001b[39mkwargs)\n\u001b[0;32m--> 105\u001b[0m \u001b[38;5;28;01mreturn\u001b[39;00m \u001b[43mfunc\u001b[49m\u001b[43m(\u001b[49m\u001b[38;5;241;43m*\u001b[39;49m\u001b[43margs\u001b[49m\u001b[43m,\u001b[49m\u001b[43m \u001b[49m\u001b[38;5;241;43m*\u001b[39;49m\u001b[38;5;241;43m*\u001b[39;49m\u001b[43mkwargs\u001b[49m\u001b[43m)\u001b[49m\n",
      "File \u001b[0;32m~/miniconda3/envs/ssm/lib/python3.9/site-packages/ray/worker.py:2015\u001b[0m, in \u001b[0;36mwait\u001b[0;34m(object_refs, num_returns, timeout, fetch_local)\u001b[0m\n\u001b[1;32m   2014\u001b[0m timeout_milliseconds \u001b[38;5;241m=\u001b[39m \u001b[38;5;28mint\u001b[39m(timeout \u001b[38;5;241m*\u001b[39m \u001b[38;5;241m1000\u001b[39m)\n\u001b[0;32m-> 2015\u001b[0m ready_ids, remaining_ids \u001b[38;5;241m=\u001b[39m \u001b[43mworker\u001b[49m\u001b[38;5;241;43m.\u001b[39;49m\u001b[43mcore_worker\u001b[49m\u001b[38;5;241;43m.\u001b[39;49m\u001b[43mwait\u001b[49m\u001b[43m(\u001b[49m\n\u001b[1;32m   2016\u001b[0m \u001b[43m    \u001b[49m\u001b[43mobject_refs\u001b[49m\u001b[43m,\u001b[49m\n\u001b[1;32m   2017\u001b[0m \u001b[43m    \u001b[49m\u001b[43mnum_returns\u001b[49m\u001b[43m,\u001b[49m\n\u001b[1;32m   2018\u001b[0m \u001b[43m    \u001b[49m\u001b[43mtimeout_milliseconds\u001b[49m\u001b[43m,\u001b[49m\n\u001b[1;32m   2019\u001b[0m \u001b[43m    \u001b[49m\u001b[43mworker\u001b[49m\u001b[38;5;241;43m.\u001b[39;49m\u001b[43mcurrent_task_id\u001b[49m\u001b[43m,\u001b[49m\n\u001b[1;32m   2020\u001b[0m \u001b[43m    \u001b[49m\u001b[43mfetch_local\u001b[49m\u001b[43m,\u001b[49m\n\u001b[1;32m   2021\u001b[0m \u001b[43m\u001b[49m\u001b[43m)\u001b[49m\n\u001b[1;32m   2022\u001b[0m \u001b[38;5;28;01mreturn\u001b[39;00m ready_ids, remaining_ids\n",
      "File \u001b[0;32mpython/ray/_raylet.pyx:1403\u001b[0m, in \u001b[0;36mray._raylet.CoreWorker.wait\u001b[0;34m()\u001b[0m\n",
      "File \u001b[0;32mpython/ray/_raylet.pyx:169\u001b[0m, in \u001b[0;36mray._raylet.check_status\u001b[0;34m()\u001b[0m\n",
      "\u001b[0;31mKeyboardInterrupt\u001b[0m: ",
      "\nDuring handling of the above exception, another exception occurred:\n",
      "\u001b[0;31mKeyboardInterrupt\u001b[0m                         Traceback (most recent call last)",
      "Input \u001b[0;32mIn [30]\u001b[0m, in \u001b[0;36m<cell line: 1>\u001b[0;34m()\u001b[0m\n\u001b[0;32m----> 1\u001b[0m t2p(\u001b[38;5;28;43mnext\u001b[39;49m\u001b[43m(\u001b[49m\u001b[43mpipe\u001b[49m\u001b[43m)\u001b[49m)\n",
      "File \u001b[0;32m~/miniconda3/envs/ssm/lib/python3.9/site-packages/ray/data/dataset.py:2147\u001b[0m, in \u001b[0;36mDataset.iter_rows\u001b[0;34m(self, prefetch_blocks)\u001b[0m\n\u001b[1;32m   2143\u001b[0m \u001b[38;5;66;03m# During row-based ops, we also choose a batch format that lines up with the\u001b[39;00m\n\u001b[1;32m   2144\u001b[0m \u001b[38;5;66;03m# current dataset format in order to eliminate unnecessary copies and type\u001b[39;00m\n\u001b[1;32m   2145\u001b[0m \u001b[38;5;66;03m# conversions.\u001b[39;00m\n\u001b[1;32m   2146\u001b[0m \u001b[38;5;28;01mtry\u001b[39;00m:\n\u001b[0;32m-> 2147\u001b[0m     dataset_format \u001b[38;5;241m=\u001b[39m \u001b[38;5;28;43mself\u001b[39;49m\u001b[38;5;241;43m.\u001b[39;49m\u001b[43m_dataset_format\u001b[49m\u001b[43m(\u001b[49m\u001b[43m)\u001b[49m\n\u001b[1;32m   2148\u001b[0m \u001b[38;5;28;01mexcept\u001b[39;00m \u001b[38;5;167;01mValueError\u001b[39;00m:\n\u001b[1;32m   2149\u001b[0m     \u001b[38;5;66;03m# Dataset is empty or cleared, so fall back to \"native\".\u001b[39;00m\n\u001b[1;32m   2150\u001b[0m     batch_format \u001b[38;5;241m=\u001b[39m \u001b[38;5;124m\"\u001b[39m\u001b[38;5;124mnative\u001b[39m\u001b[38;5;124m\"\u001b[39m\n",
      "File \u001b[0;32m~/miniconda3/envs/ssm/lib/python3.9/site-packages/ray/data/dataset.py:3261\u001b[0m, in \u001b[0;36mDataset._dataset_format\u001b[0;34m(self)\u001b[0m\n\u001b[1;32m   3253\u001b[0m \u001b[38;5;124;03m\"\"\"Determine the format of the dataset. Possible values are: \"arrow\",\u001b[39;00m\n\u001b[1;32m   3254\u001b[0m \u001b[38;5;124;03m\"pandas\", \"simple\".\u001b[39;00m\n\u001b[1;32m   3255\u001b[0m \n\u001b[1;32m   3256\u001b[0m \u001b[38;5;124;03mThis may block; if the schema is unknown, this will synchronously fetch\u001b[39;00m\n\u001b[1;32m   3257\u001b[0m \u001b[38;5;124;03mthe schema for the first block.\u001b[39;00m\n\u001b[1;32m   3258\u001b[0m \u001b[38;5;124;03m\"\"\"\u001b[39;00m\n\u001b[1;32m   3259\u001b[0m \u001b[38;5;66;03m# We need schema to properly validate, so synchronously\u001b[39;00m\n\u001b[1;32m   3260\u001b[0m \u001b[38;5;66;03m# fetch it if necessary.\u001b[39;00m\n\u001b[0;32m-> 3261\u001b[0m schema \u001b[38;5;241m=\u001b[39m \u001b[38;5;28;43mself\u001b[39;49m\u001b[38;5;241;43m.\u001b[39;49m\u001b[43mschema\u001b[49m\u001b[43m(\u001b[49m\u001b[43mfetch_if_missing\u001b[49m\u001b[38;5;241;43m=\u001b[39;49m\u001b[38;5;28;43;01mTrue\u001b[39;49;00m\u001b[43m)\u001b[49m\n\u001b[1;32m   3262\u001b[0m \u001b[38;5;28;01mif\u001b[39;00m schema \u001b[38;5;129;01mis\u001b[39;00m \u001b[38;5;28;01mNone\u001b[39;00m:\n\u001b[1;32m   3263\u001b[0m     \u001b[38;5;28;01mraise\u001b[39;00m \u001b[38;5;167;01mValueError\u001b[39;00m(\n\u001b[1;32m   3264\u001b[0m         \u001b[38;5;124m\"\u001b[39m\u001b[38;5;124mDataset is empty or cleared, can\u001b[39m\u001b[38;5;124m'\u001b[39m\u001b[38;5;124mt determine the format of \u001b[39m\u001b[38;5;124m\"\u001b[39m\n\u001b[1;32m   3265\u001b[0m         \u001b[38;5;124m\"\u001b[39m\u001b[38;5;124mthe dataset.\u001b[39m\u001b[38;5;124m\"\u001b[39m\n\u001b[1;32m   3266\u001b[0m     )\n",
      "File \u001b[0;32m~/miniconda3/envs/ssm/lib/python3.9/site-packages/ray/data/dataset.py:1777\u001b[0m, in \u001b[0;36mDataset.schema\u001b[0;34m(self, fetch_if_missing)\u001b[0m\n\u001b[1;32m   1758\u001b[0m \u001b[38;5;28;01mdef\u001b[39;00m \u001b[38;5;21mschema\u001b[39m(\n\u001b[1;32m   1759\u001b[0m     \u001b[38;5;28mself\u001b[39m, fetch_if_missing: \u001b[38;5;28mbool\u001b[39m \u001b[38;5;241m=\u001b[39m \u001b[38;5;28;01mFalse\u001b[39;00m\n\u001b[1;32m   1760\u001b[0m ) \u001b[38;5;241m-\u001b[39m\u001b[38;5;241m>\u001b[39m Union[\u001b[38;5;28mtype\u001b[39m, \u001b[38;5;124m\"\u001b[39m\u001b[38;5;124mpyarrow.lib.Schema\u001b[39m\u001b[38;5;124m\"\u001b[39m]:\n\u001b[1;32m   1761\u001b[0m     \u001b[38;5;124;03m\"\"\"Return the schema of the dataset.\u001b[39;00m\n\u001b[1;32m   1762\u001b[0m \n\u001b[1;32m   1763\u001b[0m \u001b[38;5;124;03m    For datasets of Arrow records, this will return the Arrow schema.\u001b[39;00m\n\u001b[0;32m   (...)\u001b[0m\n\u001b[1;32m   1775\u001b[0m \u001b[38;5;124;03m        schema is not known and fetch_if_missing is False.\u001b[39;00m\n\u001b[1;32m   1776\u001b[0m \u001b[38;5;124;03m    \"\"\"\u001b[39;00m\n\u001b[0;32m-> 1777\u001b[0m     \u001b[38;5;28;01mreturn\u001b[39;00m \u001b[38;5;28;43mself\u001b[39;49m\u001b[38;5;241;43m.\u001b[39;49m\u001b[43m_plan\u001b[49m\u001b[38;5;241;43m.\u001b[39;49m\u001b[43mschema\u001b[49m\u001b[43m(\u001b[49m\u001b[43mfetch_if_missing\u001b[49m\u001b[38;5;241;43m=\u001b[39;49m\u001b[43mfetch_if_missing\u001b[49m\u001b[43m)\u001b[49m\n",
      "File \u001b[0;32m~/miniconda3/envs/ssm/lib/python3.9/site-packages/ray/data/impl/plan.py:187\u001b[0m, in \u001b[0;36mExecutionPlan.schema\u001b[0;34m(self, fetch_if_missing)\u001b[0m\n\u001b[1;32m    185\u001b[0m \u001b[38;5;28;01mif\u001b[39;00m \u001b[38;5;28mself\u001b[39m\u001b[38;5;241m.\u001b[39m_stages_after_snapshot:\n\u001b[1;32m    186\u001b[0m     \u001b[38;5;28;01mif\u001b[39;00m fetch_if_missing:\n\u001b[0;32m--> 187\u001b[0m         \u001b[38;5;28;43mself\u001b[39;49m\u001b[38;5;241;43m.\u001b[39;49m\u001b[43mexecute\u001b[49m\u001b[43m(\u001b[49m\u001b[43m)\u001b[49m\n\u001b[1;32m    188\u001b[0m     \u001b[38;5;28;01melse\u001b[39;00m:\n\u001b[1;32m    189\u001b[0m         \u001b[38;5;28;01mreturn\u001b[39;00m \u001b[38;5;28;01mNone\u001b[39;00m\n",
      "File \u001b[0;32m~/miniconda3/envs/ssm/lib/python3.9/site-packages/ray/data/impl/plan.py:257\u001b[0m, in \u001b[0;36mExecutionPlan.execute\u001b[0;34m(self, allow_clear_input_blocks, force_read)\u001b[0m\n\u001b[1;32m    255\u001b[0m     clear_input_blocks \u001b[38;5;241m=\u001b[39m \u001b[38;5;28;01mFalse\u001b[39;00m\n\u001b[1;32m    256\u001b[0m stats_builder \u001b[38;5;241m=\u001b[39m stats\u001b[38;5;241m.\u001b[39mchild_builder(stage\u001b[38;5;241m.\u001b[39mname)\n\u001b[0;32m--> 257\u001b[0m blocks, stage_info \u001b[38;5;241m=\u001b[39m \u001b[43mstage\u001b[49m\u001b[43m(\u001b[49m\u001b[43mblocks\u001b[49m\u001b[43m,\u001b[49m\u001b[43m \u001b[49m\u001b[43mclear_input_blocks\u001b[49m\u001b[43m)\u001b[49m\n\u001b[1;32m    258\u001b[0m \u001b[38;5;28;01mif\u001b[39;00m stage_info:\n\u001b[1;32m    259\u001b[0m     stats \u001b[38;5;241m=\u001b[39m stats_builder\u001b[38;5;241m.\u001b[39mbuild_multistage(stage_info)\n",
      "File \u001b[0;32m~/miniconda3/envs/ssm/lib/python3.9/site-packages/ray/data/impl/plan.py:436\u001b[0m, in \u001b[0;36mOneToOneStage.__call__\u001b[0;34m(self, blocks, clear_input_blocks)\u001b[0m\n\u001b[1;32m    432\u001b[0m \u001b[38;5;28;01mdef\u001b[39;00m \u001b[38;5;21m__call__\u001b[39m(\n\u001b[1;32m    433\u001b[0m     \u001b[38;5;28mself\u001b[39m, blocks: BlockList, clear_input_blocks: \u001b[38;5;28mbool\u001b[39m\n\u001b[1;32m    434\u001b[0m ) \u001b[38;5;241m-\u001b[39m\u001b[38;5;241m>\u001b[39m Tuple[BlockList, \u001b[38;5;28mdict\u001b[39m]:\n\u001b[1;32m    435\u001b[0m     compute \u001b[38;5;241m=\u001b[39m get_compute(\u001b[38;5;28mself\u001b[39m\u001b[38;5;241m.\u001b[39mcompute)\n\u001b[0;32m--> 436\u001b[0m     blocks \u001b[38;5;241m=\u001b[39m \u001b[43mcompute\u001b[49m\u001b[38;5;241;43m.\u001b[39;49m\u001b[43m_apply\u001b[49m\u001b[43m(\u001b[49m\n\u001b[1;32m    437\u001b[0m \u001b[43m        \u001b[49m\u001b[38;5;28;43mself\u001b[39;49m\u001b[38;5;241;43m.\u001b[39;49m\u001b[43mblock_fn\u001b[49m\u001b[43m,\u001b[49m\u001b[43m \u001b[49m\u001b[38;5;28;43mself\u001b[39;49m\u001b[38;5;241;43m.\u001b[39;49m\u001b[43mray_remote_args\u001b[49m\u001b[43m,\u001b[49m\u001b[43m \u001b[49m\u001b[43mblocks\u001b[49m\u001b[43m,\u001b[49m\u001b[43m \u001b[49m\u001b[43mclear_input_blocks\u001b[49m\u001b[43m,\u001b[49m\u001b[43m \u001b[49m\u001b[38;5;28;43mself\u001b[39;49m\u001b[38;5;241;43m.\u001b[39;49m\u001b[43mname\u001b[49m\n\u001b[1;32m    438\u001b[0m \u001b[43m    \u001b[49m\u001b[43m)\u001b[49m\n\u001b[1;32m    439\u001b[0m     \u001b[38;5;28;01massert\u001b[39;00m \u001b[38;5;28misinstance\u001b[39m(blocks, BlockList), blocks\n\u001b[1;32m    440\u001b[0m     \u001b[38;5;28;01mreturn\u001b[39;00m blocks, {}\n",
      "File \u001b[0;32m~/miniconda3/envs/ssm/lib/python3.9/site-packages/ray/data/impl/compute.py:81\u001b[0m, in \u001b[0;36mTaskPoolStrategy._apply\u001b[0;34m(self, fn, remote_args, block_list, clear_input_blocks, name)\u001b[0m\n\u001b[1;32m     79\u001b[0m \u001b[38;5;28;01mfor\u001b[39;00m ref \u001b[38;5;129;01min\u001b[39;00m refs:\n\u001b[1;32m     80\u001b[0m     \u001b[38;5;28;01mtry\u001b[39;00m:\n\u001b[0;32m---> 81\u001b[0m         \u001b[43mray\u001b[49m\u001b[38;5;241;43m.\u001b[39;49m\u001b[43mget\u001b[49m\u001b[43m(\u001b[49m\u001b[43mref\u001b[49m\u001b[43m)\u001b[49m\n\u001b[1;32m     82\u001b[0m     \u001b[38;5;28;01mexcept\u001b[39;00m (ray\u001b[38;5;241m.\u001b[39mexceptions\u001b[38;5;241m.\u001b[39mRayTaskError, ray\u001b[38;5;241m.\u001b[39mexceptions\u001b[38;5;241m.\u001b[39mTaskCancelledError):\n\u001b[1;32m     83\u001b[0m         \u001b[38;5;28;01mpass\u001b[39;00m\n",
      "File \u001b[0;32m~/miniconda3/envs/ssm/lib/python3.9/site-packages/ray/_private/client_mode_hook.py:105\u001b[0m, in \u001b[0;36mclient_mode_hook.<locals>.wrapper\u001b[0;34m(*args, **kwargs)\u001b[0m\n\u001b[1;32m    103\u001b[0m     \u001b[38;5;28;01mif\u001b[39;00m func\u001b[38;5;241m.\u001b[39m\u001b[38;5;18m__name__\u001b[39m \u001b[38;5;241m!=\u001b[39m \u001b[38;5;124m\"\u001b[39m\u001b[38;5;124minit\u001b[39m\u001b[38;5;124m\"\u001b[39m \u001b[38;5;129;01mor\u001b[39;00m is_client_mode_enabled_by_default:\n\u001b[1;32m    104\u001b[0m         \u001b[38;5;28;01mreturn\u001b[39;00m \u001b[38;5;28mgetattr\u001b[39m(ray, func\u001b[38;5;241m.\u001b[39m\u001b[38;5;18m__name__\u001b[39m)(\u001b[38;5;241m*\u001b[39margs, \u001b[38;5;241m*\u001b[39m\u001b[38;5;241m*\u001b[39mkwargs)\n\u001b[0;32m--> 105\u001b[0m \u001b[38;5;28;01mreturn\u001b[39;00m \u001b[43mfunc\u001b[49m\u001b[43m(\u001b[49m\u001b[38;5;241;43m*\u001b[39;49m\u001b[43margs\u001b[49m\u001b[43m,\u001b[49m\u001b[43m \u001b[49m\u001b[38;5;241;43m*\u001b[39;49m\u001b[38;5;241;43m*\u001b[39;49m\u001b[43mkwargs\u001b[49m\u001b[43m)\u001b[49m\n",
      "File \u001b[0;32m~/miniconda3/envs/ssm/lib/python3.9/site-packages/ray/worker.py:1825\u001b[0m, in \u001b[0;36mget\u001b[0;34m(object_refs, timeout)\u001b[0m\n\u001b[1;32m   1819\u001b[0m     \u001b[38;5;28;01mraise\u001b[39;00m \u001b[38;5;167;01mValueError\u001b[39;00m(\n\u001b[1;32m   1820\u001b[0m         \u001b[38;5;124m\"\u001b[39m\u001b[38;5;124m'\u001b[39m\u001b[38;5;124mobject_refs\u001b[39m\u001b[38;5;124m'\u001b[39m\u001b[38;5;124m must either be an object ref \u001b[39m\u001b[38;5;124m\"\u001b[39m\n\u001b[1;32m   1821\u001b[0m         \u001b[38;5;124m\"\u001b[39m\u001b[38;5;124mor a list of object refs.\u001b[39m\u001b[38;5;124m\"\u001b[39m\n\u001b[1;32m   1822\u001b[0m     )\n\u001b[1;32m   1824\u001b[0m \u001b[38;5;66;03m# TODO(ujvl): Consider how to allow user to retrieve the ready objects.\u001b[39;00m\n\u001b[0;32m-> 1825\u001b[0m values, debugger_breakpoint \u001b[38;5;241m=\u001b[39m \u001b[43mworker\u001b[49m\u001b[38;5;241;43m.\u001b[39;49m\u001b[43mget_objects\u001b[49m\u001b[43m(\u001b[49m\u001b[43mobject_refs\u001b[49m\u001b[43m,\u001b[49m\u001b[43m \u001b[49m\u001b[43mtimeout\u001b[49m\u001b[38;5;241;43m=\u001b[39;49m\u001b[43mtimeout\u001b[49m\u001b[43m)\u001b[49m\n\u001b[1;32m   1826\u001b[0m \u001b[38;5;28;01mfor\u001b[39;00m i, value \u001b[38;5;129;01min\u001b[39;00m \u001b[38;5;28menumerate\u001b[39m(values):\n\u001b[1;32m   1827\u001b[0m     \u001b[38;5;28;01mif\u001b[39;00m \u001b[38;5;28misinstance\u001b[39m(value, RayError):\n",
      "File \u001b[0;32m~/miniconda3/envs/ssm/lib/python3.9/site-packages/ray/worker.py:364\u001b[0m, in \u001b[0;36mWorker.get_objects\u001b[0;34m(self, object_refs, timeout)\u001b[0m\n\u001b[1;32m    358\u001b[0m         \u001b[38;5;28;01mraise\u001b[39;00m \u001b[38;5;167;01mTypeError\u001b[39;00m(\n\u001b[1;32m    359\u001b[0m             \u001b[38;5;124mf\u001b[39m\u001b[38;5;124m\"\u001b[39m\u001b[38;5;124mAttempting to call `get` on the value \u001b[39m\u001b[38;5;132;01m{\u001b[39;00mobject_ref\u001b[38;5;132;01m}\u001b[39;00m\u001b[38;5;124m, \u001b[39m\u001b[38;5;124m\"\u001b[39m\n\u001b[1;32m    360\u001b[0m             \u001b[38;5;124m\"\u001b[39m\u001b[38;5;124mwhich is not an ray.ObjectRef.\u001b[39m\u001b[38;5;124m\"\u001b[39m\n\u001b[1;32m    361\u001b[0m         )\n\u001b[1;32m    363\u001b[0m timeout_ms \u001b[38;5;241m=\u001b[39m \u001b[38;5;28mint\u001b[39m(timeout \u001b[38;5;241m*\u001b[39m \u001b[38;5;241m1000\u001b[39m) \u001b[38;5;28;01mif\u001b[39;00m timeout \u001b[38;5;28;01melse\u001b[39;00m \u001b[38;5;241m-\u001b[39m\u001b[38;5;241m1\u001b[39m\n\u001b[0;32m--> 364\u001b[0m data_metadata_pairs \u001b[38;5;241m=\u001b[39m \u001b[38;5;28;43mself\u001b[39;49m\u001b[38;5;241;43m.\u001b[39;49m\u001b[43mcore_worker\u001b[49m\u001b[38;5;241;43m.\u001b[39;49m\u001b[43mget_objects\u001b[49m\u001b[43m(\u001b[49m\n\u001b[1;32m    365\u001b[0m \u001b[43m    \u001b[49m\u001b[43mobject_refs\u001b[49m\u001b[43m,\u001b[49m\u001b[43m \u001b[49m\u001b[38;5;28;43mself\u001b[39;49m\u001b[38;5;241;43m.\u001b[39;49m\u001b[43mcurrent_task_id\u001b[49m\u001b[43m,\u001b[49m\u001b[43m \u001b[49m\u001b[43mtimeout_ms\u001b[49m\n\u001b[1;32m    366\u001b[0m \u001b[43m\u001b[49m\u001b[43m)\u001b[49m\n\u001b[1;32m    367\u001b[0m debugger_breakpoint \u001b[38;5;241m=\u001b[39m \u001b[38;5;124mb\u001b[39m\u001b[38;5;124m\"\u001b[39m\u001b[38;5;124m\"\u001b[39m\n\u001b[1;32m    368\u001b[0m \u001b[38;5;28;01mfor\u001b[39;00m (data, metadata) \u001b[38;5;129;01min\u001b[39;00m data_metadata_pairs:\n",
      "\u001b[0;31mKeyboardInterrupt\u001b[0m: "
     ]
    },
    {
     "name": "stderr",
     "output_type": "stream",
     "text": [
      "2022-06-19 15:14:29,264\tERROR worker.py:94 -- Unhandled error (suppress with 'RAY_IGNORE_UNHANDLED_ERRORS=1'): \u001b[36mray::_map_block_nosplit()\u001b[39m (pid=15205, ip=127.0.0.1)\n",
      "  File \"/Users/dashiell/miniconda3/envs/ssm/lib/python3.9/site-packages/ray/data/impl/compute.py\", line 341, in _map_block_nosplit\n",
      "    for new_block in fn(block):\n",
      "  File \"/Users/dashiell/miniconda3/envs/ssm/lib/python3.9/site-packages/ray/data/dataset.py\", line 355, in transform\n",
      "    applied = fn(view)\n",
      "  File \"/var/folders/6s/zv4ygprx6jvg4d7jsgbjfc1r0000gn/T/ipykernel_15145/3303511151.py\", line 23, in __call__\n",
      "  File \"<__array_function__ internals>\", line 180, in apply_along_axis\n",
      "  File \"/Users/dashiell/miniconda3/envs/ssm/lib/python3.9/site-packages/numpy/lib/shape_base.py\", line 402, in apply_along_axis\n",
      "    buff[ind] = asanyarray(func1d(inarr_view[ind], *args, **kwargs))\n",
      "  File \"/var/folders/6s/zv4ygprx6jvg4d7jsgbjfc1r0000gn/T/ipykernel_15145/3303511151.py\", line 21, in _tokens_to_probs\n",
      "  File \"/Users/dashiell/miniconda3/envs/ssm/lib/python3.9/site-packages/numpy/core/_methods.py\", line 48, in _sum\n",
      "    return umr_sum(a, axis, dtype, out, keepdims, initial, where)\n",
      "KeyboardInterrupt\n",
      "\n",
      "During handling of the above exception, another exception occurred:\n",
      "\n",
      "\u001b[36mray::_map_block_nosplit()\u001b[39m (pid=15205, ip=127.0.0.1)\n",
      "ray.exceptions.TaskCancelledError: Task: TaskID(59dcf5fbd1ca57ffffffffffffffffffffffffff01000000) was cancelled\n",
      "2022-06-19 15:14:29,280\tERROR worker.py:94 -- Unhandled error (suppress with 'RAY_IGNORE_UNHANDLED_ERRORS=1'): \u001b[36mray::_map_block_nosplit()\u001b[39m (pid=15205, ip=127.0.0.1)\n",
      "  File \"/Users/dashiell/miniconda3/envs/ssm/lib/python3.9/site-packages/ray/data/impl/compute.py\", line 341, in _map_block_nosplit\n",
      "    for new_block in fn(block):\n",
      "  File \"/Users/dashiell/miniconda3/envs/ssm/lib/python3.9/site-packages/ray/data/dataset.py\", line 355, in transform\n",
      "    applied = fn(view)\n",
      "  File \"/var/folders/6s/zv4ygprx6jvg4d7jsgbjfc1r0000gn/T/ipykernel_15145/3303511151.py\", line 23, in __call__\n",
      "  File \"<__array_function__ internals>\", line 180, in apply_along_axis\n",
      "  File \"/Users/dashiell/miniconda3/envs/ssm/lib/python3.9/site-packages/numpy/lib/shape_base.py\", line 402, in apply_along_axis\n",
      "    buff[ind] = asanyarray(func1d(inarr_view[ind], *args, **kwargs))\n",
      "  File \"/var/folders/6s/zv4ygprx6jvg4d7jsgbjfc1r0000gn/T/ipykernel_15145/3303511151.py\", line 21, in _tokens_to_probs\n",
      "  File \"/Users/dashiell/miniconda3/envs/ssm/lib/python3.9/site-packages/numpy/core/_methods.py\", line 48, in _sum\n",
      "    return umr_sum(a, axis, dtype, out, keepdims, initial, where)\n",
      "KeyboardInterrupt\n",
      "\n",
      "During handling of the above exception, another exception occurred:\n",
      "\n",
      "\u001b[36mray::_map_block_nosplit()\u001b[39m (pid=15205, ip=127.0.0.1)\n",
      "ray.exceptions.TaskCancelledError: Task: TaskID(59dcf5fbd1ca57ffffffffffffffffffffffffff01000000) was cancelled\n",
      "2022-06-19 15:14:29,281\tERROR worker.py:94 -- Unhandled error (suppress with 'RAY_IGNORE_UNHANDLED_ERRORS=1'): \u001b[36mray::_map_block_nosplit()\u001b[39m (pid=15342, ip=127.0.0.1)\n",
      "  File \"/Users/dashiell/miniconda3/envs/ssm/lib/python3.9/site-packages/ray/data/impl/compute.py\", line 341, in _map_block_nosplit\n",
      "    for new_block in fn(block):\n",
      "  File \"/Users/dashiell/miniconda3/envs/ssm/lib/python3.9/site-packages/ray/data/dataset.py\", line 355, in transform\n",
      "    applied = fn(view)\n",
      "  File \"/var/folders/6s/zv4ygprx6jvg4d7jsgbjfc1r0000gn/T/ipykernel_15145/3303511151.py\", line 23, in __call__\n",
      "  File \"<__array_function__ internals>\", line 180, in apply_along_axis\n",
      "  File \"/Users/dashiell/miniconda3/envs/ssm/lib/python3.9/site-packages/numpy/lib/shape_base.py\", line 402, in apply_along_axis\n",
      "    buff[ind] = asanyarray(func1d(inarr_view[ind], *args, **kwargs))\n",
      "  File \"/var/folders/6s/zv4ygprx6jvg4d7jsgbjfc1r0000gn/T/ipykernel_15145/3303511151.py\", line 12, in _tokens_to_probs\n",
      "KeyboardInterrupt\n",
      "\n",
      "During handling of the above exception, another exception occurred:\n",
      "\n",
      "\u001b[36mray::_map_block_nosplit()\u001b[39m (pid=15342, ip=127.0.0.1)\n",
      "ray.exceptions.TaskCancelledError: Task: TaskID(c1c70641ce92b495ffffffffffffffffffffffff01000000) was cancelled\n"
     ]
    }
   ],
   "source": [
    "t2p(next(pipe))"
   ]
  },
  {
   "cell_type": "code",
   "execution_count": null,
   "id": "828548d3-d535-40e7-8561-1666055be9dc",
   "metadata": {},
   "outputs": [],
   "source": []
  }
 ],
 "metadata": {
  "kernelspec": {
   "display_name": "Python [conda env:ssm]",
   "language": "python",
   "name": "conda-env-ssm-py"
  },
  "language_info": {
   "codemirror_mode": {
    "name": "ipython",
    "version": 3
   },
   "file_extension": ".py",
   "mimetype": "text/x-python",
   "name": "python",
   "nbconvert_exporter": "python",
   "pygments_lexer": "ipython3",
   "version": "3.9.13"
  }
 },
 "nbformat": 4,
 "nbformat_minor": 5
}
