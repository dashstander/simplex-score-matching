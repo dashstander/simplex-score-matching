{
 "cells": [
  {
   "cell_type": "code",
   "execution_count": 1,
   "id": "de78f462-06ed-48b1-9bbe-b1d7cbcf9c74",
   "metadata": {},
   "outputs": [],
   "source": [
    "import numpy as np\n",
    "import ray\n",
    "from tokenizers import Tokenizer\n",
    "from functools import partial"
   ]
  },
  {
   "cell_type": "code",
   "execution_count": 2,
   "id": "bf65e17f-e3ac-4f5f-bdf6-caa2fd9742db",
   "metadata": {},
   "outputs": [],
   "source": [
    "dataset = ray.data.read_numpy('data/train', parallelism=1000)\n"
   ]
  },
  {
   "cell_type": "code",
   "execution_count": 3,
   "id": "633ed01b-ca69-4119-a50c-9822d2afe6ba",
   "metadata": {},
   "outputs": [],
   "source": [
    "\n",
    "class TokenToProbsProcessor:\n",
    "\n",
    "    def __init__(self, rng, concentration: float, vocab_size: int):\n",
    "        self.rng = rng\n",
    "        self.concentration = concentration\n",
    "        self.vocab_size = vocab_size\n",
    "\n",
    "    def __call__(self, tokens):\n",
    "        batch, seq_len, = tokens.shape\n",
    "\n",
    "        def _tokens_to_probs(token_ids):\n",
    "            x = self.rng.random((seq_len, self.vocab_size)) / self.vocab_size\n",
    "            # At this point E(x.sum()) == 0.5 \n",
    "            # What we want is for new_val / (x.sum() + new_val) ~ concentration\n",
    "            # --> new_val == (concentration * x.sum())/(1 - concentration)\n",
    "            # Then, in the normalized vector, the appropriate token will have ~ concentration weight,\n",
    "            # and the others will have the rest\n",
    "            x_sum = x.sum(axis=1)\n",
    "            conc_val = np.mean((self.concentration * x_sum) / (1 - self.concentration))\n",
    "            np.put_along_axis(x, token_ids[:, None], conc_val, axis=1)\n",
    "            return x / x.sum(axis=1)[:, None]\n",
    "            \n",
    "        return np.apply_along_axis(_tokens_to_probs, axis=1, arr=tokens)\n",
    "    \n",
    "    \n",
    "t2p = TokenToProbsProcessor(np.random.default_rng(332), 0.85, 8192)\n",
    "\n",
    "        "
   ]
  },
  {
   "cell_type": "code",
   "execution_count": 6,
   "id": "207f4c67-ae06-49f1-b3d6-eaf914c18dd5",
   "metadata": {},
   "outputs": [
    {
     "name": "stderr",
     "output_type": "stream",
     "text": [
      "2022-06-18 23:41:33,998\tINFO dataset.py:2969 -- Created DatasetPipeline with 1000 windows: 13.98MiB min, 194.57MiB max, 39.06MiB mean\n"
     ]
    }
   ],
   "source": [
    "pipe = dataset.window(blocks_per_window=1).map_batches(t2p, batch_size=16).iter_rows()"
   ]
  },
  {
   "cell_type": "code",
   "execution_count": 7,
   "id": "7401513c-7db9-4a86-9b1e-9485f2e228f8",
   "metadata": {},
   "outputs": [
    {
     "name": "stderr",
     "output_type": "stream",
     "text": [
      "Stage 0:   0%|                                                                                                                   | 0/1000 [00:00<?, ?it/s]\n",
      "  0%|                                                                                                                            | 0/1000 [00:00<?, ?it/s]\u001b[A\n",
      "Stage 0:   0%|▏                                                                                                          | 2/1000 [00:20<01:15, 13.18it/s]\u001b[A2022-06-18 23:42:34,767\tWARNING worker.py:1404 -- A worker died or was killed while executing a task by an unexpected system error. To troubleshoot the problem, check the logs for the dead worker. RayTask ID: a6824775cbbba84902bb1aa7be32574e82fedf8d01000000 Worker ID: 4283450ddc1fc665bfa836497840991671016e5469507e4386c5e496 Node ID: ae89dc9bc9190f86b6e0c86077cd4599a988915babcdf12411e0ca7e Worker IP address: 127.0.0.1 Worker port: 55456 Worker PID: 10582\n",
      "Stage 2:   0%|                                                                                                                   | 0/1000 [01:20<?, ?it/s]\n",
      "Stage 1:   0%|                                                                                                        | 1/1000 [01:20<22:16:41, 80.28s/it]\n",
      "Stage 0:   0%|▏                                                                                                       | 2/1000 [01:20<11:07:42, 40.14s/it]\n"
     ]
    },
    {
     "ename": "KeyboardInterrupt",
     "evalue": "",
     "output_type": "error",
     "traceback": [
      "\u001b[0;31m---------------------------------------------------------------------------\u001b[0m",
      "\u001b[0;31mKeyboardInterrupt\u001b[0m                         Traceback (most recent call last)",
      "Input \u001b[0;32mIn [7]\u001b[0m, in \u001b[0;36m<cell line: 1>\u001b[0;34m()\u001b[0m\n\u001b[0;32m----> 1\u001b[0m \u001b[38;5;28;43mnext\u001b[39;49m\u001b[43m(\u001b[49m\u001b[43mpipe\u001b[49m\u001b[43m)\u001b[49m\n",
      "File \u001b[0;32m~/miniconda3/envs/ssm/lib/python3.9/site-packages/ray/data/dataset_pipeline.py:127\u001b[0m, in \u001b[0;36mDatasetPipeline.iter_rows.<locals>.gen_rows\u001b[0;34m()\u001b[0m\n\u001b[1;32m    124\u001b[0m \u001b[38;5;28;01mdef\u001b[39;00m \u001b[38;5;21mgen_rows\u001b[39m() \u001b[38;5;241m-\u001b[39m\u001b[38;5;241m>\u001b[39m Iterator[Union[T, TableRow]]:\n\u001b[1;32m    125\u001b[0m     time_start \u001b[38;5;241m=\u001b[39m time\u001b[38;5;241m.\u001b[39mperf_counter()\n\u001b[0;32m--> 127\u001b[0m     \u001b[38;5;28;01mfor\u001b[39;00m ds \u001b[38;5;129;01min\u001b[39;00m \u001b[38;5;28;43mself\u001b[39;49m\u001b[38;5;241;43m.\u001b[39;49m\u001b[43miter_datasets\u001b[49m\u001b[43m(\u001b[49m\u001b[43m)\u001b[49m:\n\u001b[1;32m    128\u001b[0m         wait_start \u001b[38;5;241m=\u001b[39m time\u001b[38;5;241m.\u001b[39mperf_counter()\n\u001b[1;32m    129\u001b[0m         \u001b[38;5;28;01mfor\u001b[39;00m row \u001b[38;5;129;01min\u001b[39;00m ds\u001b[38;5;241m.\u001b[39miter_rows(prefetch_blocks\u001b[38;5;241m=\u001b[39mprefetch_blocks):\n",
      "File \u001b[0;32m~/miniconda3/envs/ssm/lib/python3.9/site-packages/ray/data/dataset_pipeline.py:679\u001b[0m, in \u001b[0;36mDatasetPipeline.iter_datasets\u001b[0;34m(self)\u001b[0m\n\u001b[1;32m    677\u001b[0m \u001b[38;5;28mself\u001b[39m\u001b[38;5;241m.\u001b[39m_executed[\u001b[38;5;241m0\u001b[39m] \u001b[38;5;241m=\u001b[39m \u001b[38;5;28;01mTrue\u001b[39;00m\n\u001b[1;32m    678\u001b[0m \u001b[38;5;28;01mif\u001b[39;00m \u001b[38;5;28mself\u001b[39m\u001b[38;5;241m.\u001b[39m_first_dataset \u001b[38;5;129;01mis\u001b[39;00m \u001b[38;5;28;01mNone\u001b[39;00m:\n\u001b[0;32m--> 679\u001b[0m     \u001b[38;5;28;43mself\u001b[39;49m\u001b[38;5;241;43m.\u001b[39;49m\u001b[43m_peek\u001b[49m\u001b[43m(\u001b[49m\u001b[43m)\u001b[49m\n\u001b[1;32m    680\u001b[0m \u001b[38;5;28miter\u001b[39m \u001b[38;5;241m=\u001b[39m itertools\u001b[38;5;241m.\u001b[39mchain([\u001b[38;5;28mself\u001b[39m\u001b[38;5;241m.\u001b[39m_first_dataset], \u001b[38;5;28mself\u001b[39m\u001b[38;5;241m.\u001b[39m_dataset_iter)\n\u001b[1;32m    681\u001b[0m \u001b[38;5;28mself\u001b[39m\u001b[38;5;241m.\u001b[39m_first_dataset \u001b[38;5;241m=\u001b[39m \u001b[38;5;28;01mNone\u001b[39;00m\n",
      "File \u001b[0;32m~/miniconda3/envs/ssm/lib/python3.9/site-packages/ray/data/dataset_pipeline.py:782\u001b[0m, in \u001b[0;36mDatasetPipeline._peek\u001b[0;34m(self)\u001b[0m\n\u001b[1;32m    780\u001b[0m     \u001b[38;5;28mself\u001b[39m\u001b[38;5;241m.\u001b[39m_optimize_stages()\n\u001b[1;32m    781\u001b[0m     \u001b[38;5;28mself\u001b[39m\u001b[38;5;241m.\u001b[39m_dataset_iter \u001b[38;5;241m=\u001b[39m PipelineExecutor(\u001b[38;5;28mself\u001b[39m)\n\u001b[0;32m--> 782\u001b[0m     \u001b[38;5;28mself\u001b[39m\u001b[38;5;241m.\u001b[39m_first_dataset \u001b[38;5;241m=\u001b[39m \u001b[38;5;28;43mnext\u001b[39;49m\u001b[43m(\u001b[49m\u001b[38;5;28;43mself\u001b[39;49m\u001b[38;5;241;43m.\u001b[39;49m\u001b[43m_dataset_iter\u001b[49m\u001b[43m)\u001b[49m\n\u001b[1;32m    783\u001b[0m \u001b[38;5;28;01mreturn\u001b[39;00m \u001b[38;5;28mself\u001b[39m\u001b[38;5;241m.\u001b[39m_first_dataset\n",
      "File \u001b[0;32m~/miniconda3/envs/ssm/lib/python3.9/site-packages/ray/data/impl/pipeline_executor.py:91\u001b[0m, in \u001b[0;36mPipelineExecutor.__next__\u001b[0;34m(self)\u001b[0m\n\u001b[1;32m     89\u001b[0m \u001b[38;5;66;03m# Wait for any completed stages.\u001b[39;00m\n\u001b[1;32m     90\u001b[0m pending \u001b[38;5;241m=\u001b[39m [f \u001b[38;5;28;01mfor\u001b[39;00m f \u001b[38;5;129;01min\u001b[39;00m \u001b[38;5;28mself\u001b[39m\u001b[38;5;241m.\u001b[39m_stages \u001b[38;5;28;01mif\u001b[39;00m f \u001b[38;5;129;01mis\u001b[39;00m \u001b[38;5;129;01mnot\u001b[39;00m \u001b[38;5;28;01mNone\u001b[39;00m]\n\u001b[0;32m---> 91\u001b[0m ready, _ \u001b[38;5;241m=\u001b[39m \u001b[43mconcurrent\u001b[49m\u001b[38;5;241;43m.\u001b[39;49m\u001b[43mfutures\u001b[49m\u001b[38;5;241;43m.\u001b[39;49m\u001b[43mwait\u001b[49m\u001b[43m(\u001b[49m\u001b[43mpending\u001b[49m\u001b[43m,\u001b[49m\u001b[43m \u001b[49m\u001b[43mtimeout\u001b[49m\u001b[38;5;241;43m=\u001b[39;49m\u001b[38;5;241;43m0.1\u001b[39;49m\u001b[43m)\u001b[49m\n\u001b[1;32m     93\u001b[0m \u001b[38;5;66;03m# Bubble elements down the pipeline as they become ready.\u001b[39;00m\n\u001b[1;32m     94\u001b[0m \u001b[38;5;28;01mfor\u001b[39;00m i \u001b[38;5;129;01min\u001b[39;00m \u001b[38;5;28mrange\u001b[39m(\u001b[38;5;28mlen\u001b[39m(\u001b[38;5;28mself\u001b[39m\u001b[38;5;241m.\u001b[39m_stages))[::\u001b[38;5;241m-\u001b[39m\u001b[38;5;241m1\u001b[39m]:\n",
      "File \u001b[0;32m~/miniconda3/envs/ssm/lib/python3.9/concurrent/futures/_base.py:307\u001b[0m, in \u001b[0;36mwait\u001b[0;34m(fs, timeout, return_when)\u001b[0m\n\u001b[1;32m    303\u001b[0m         \u001b[38;5;28;01mreturn\u001b[39;00m DoneAndNotDoneFutures(done, not_done)\n\u001b[1;32m    305\u001b[0m     waiter \u001b[38;5;241m=\u001b[39m _create_and_install_waiters(fs, return_when)\n\u001b[0;32m--> 307\u001b[0m \u001b[43mwaiter\u001b[49m\u001b[38;5;241;43m.\u001b[39;49m\u001b[43mevent\u001b[49m\u001b[38;5;241;43m.\u001b[39;49m\u001b[43mwait\u001b[49m\u001b[43m(\u001b[49m\u001b[43mtimeout\u001b[49m\u001b[43m)\u001b[49m\n\u001b[1;32m    308\u001b[0m \u001b[38;5;28;01mfor\u001b[39;00m f \u001b[38;5;129;01min\u001b[39;00m fs:\n\u001b[1;32m    309\u001b[0m     \u001b[38;5;28;01mwith\u001b[39;00m f\u001b[38;5;241m.\u001b[39m_condition:\n",
      "File \u001b[0;32m~/miniconda3/envs/ssm/lib/python3.9/threading.py:581\u001b[0m, in \u001b[0;36mEvent.wait\u001b[0;34m(self, timeout)\u001b[0m\n\u001b[1;32m    579\u001b[0m signaled \u001b[38;5;241m=\u001b[39m \u001b[38;5;28mself\u001b[39m\u001b[38;5;241m.\u001b[39m_flag\n\u001b[1;32m    580\u001b[0m \u001b[38;5;28;01mif\u001b[39;00m \u001b[38;5;129;01mnot\u001b[39;00m signaled:\n\u001b[0;32m--> 581\u001b[0m     signaled \u001b[38;5;241m=\u001b[39m \u001b[38;5;28;43mself\u001b[39;49m\u001b[38;5;241;43m.\u001b[39;49m\u001b[43m_cond\u001b[49m\u001b[38;5;241;43m.\u001b[39;49m\u001b[43mwait\u001b[49m\u001b[43m(\u001b[49m\u001b[43mtimeout\u001b[49m\u001b[43m)\u001b[49m\n\u001b[1;32m    582\u001b[0m \u001b[38;5;28;01mreturn\u001b[39;00m signaled\n",
      "File \u001b[0;32m~/miniconda3/envs/ssm/lib/python3.9/threading.py:316\u001b[0m, in \u001b[0;36mCondition.wait\u001b[0;34m(self, timeout)\u001b[0m\n\u001b[1;32m    314\u001b[0m \u001b[38;5;28;01melse\u001b[39;00m:\n\u001b[1;32m    315\u001b[0m     \u001b[38;5;28;01mif\u001b[39;00m timeout \u001b[38;5;241m>\u001b[39m \u001b[38;5;241m0\u001b[39m:\n\u001b[0;32m--> 316\u001b[0m         gotit \u001b[38;5;241m=\u001b[39m \u001b[43mwaiter\u001b[49m\u001b[38;5;241;43m.\u001b[39;49m\u001b[43macquire\u001b[49m\u001b[43m(\u001b[49m\u001b[38;5;28;43;01mTrue\u001b[39;49;00m\u001b[43m,\u001b[49m\u001b[43m \u001b[49m\u001b[43mtimeout\u001b[49m\u001b[43m)\u001b[49m\n\u001b[1;32m    317\u001b[0m     \u001b[38;5;28;01melse\u001b[39;00m:\n\u001b[1;32m    318\u001b[0m         gotit \u001b[38;5;241m=\u001b[39m waiter\u001b[38;5;241m.\u001b[39macquire(\u001b[38;5;28;01mFalse\u001b[39;00m)\n",
      "\u001b[0;31mKeyboardInterrupt\u001b[0m: "
     ]
    },
    {
     "name": "stderr",
     "output_type": "stream",
     "text": [
      "2022-06-18 23:43:34,556\tWARNING worker.py:1404 -- A worker died or was killed while executing a task by an unexpected system error. To troubleshoot the problem, check the logs for the dead worker. RayTask ID: ea9cf015c0bb94e2aa47ce19332c93abe827ed5601000000 Worker ID: 8e26079f9864f2d47452dee493e5f899af700938af39476eb9b61902 Node ID: ae89dc9bc9190f86b6e0c86077cd4599a988915babcdf12411e0ca7e Worker IP address: 127.0.0.1 Worker port: 55462 Worker PID: 10581\n",
      "2022-06-18 23:44:33,541\tWARNING worker.py:1404 -- A worker died or was killed while executing a task by an unexpected system error. To troubleshoot the problem, check the logs for the dead worker. RayTask ID: b800d2eb7a21cc0f3e51352daeb55696aaf603e001000000 Worker ID: 865e75ecf6fca5814415ec3de30eeb585cd1ccd1fc74146f1bc6faf7 Node ID: ae89dc9bc9190f86b6e0c86077cd4599a988915babcdf12411e0ca7e Worker IP address: 127.0.0.1 Worker port: 55466 Worker PID: 10583\n",
      "2022-06-18 23:45:30,568\tWARNING worker.py:1404 -- A worker died or was killed while executing a task by an unexpected system error. To troubleshoot the problem, check the logs for the dead worker. RayTask ID: 3f41609ca92f880132edeab80798d229ee3b028001000000 Worker ID: 2380ebb4b89d692cc65d66b0a5c4d70fd63d3ab615f14373289097c6 Node ID: ae89dc9bc9190f86b6e0c86077cd4599a988915babcdf12411e0ca7e Worker IP address: 127.0.0.1 Worker port: 55450 Worker PID: 10579\n",
      "2022-06-18 23:45:35,995\tERROR worker.py:94 -- Unhandled error (suppress with 'RAY_IGNORE_UNHANDLED_ERRORS=1'): The worker died unexpectedly while executing this task. Check python-core-worker-*.log files for more information.\n"
     ]
    }
   ],
   "source": [
    "next(pipe)"
   ]
  },
  {
   "cell_type": "code",
   "execution_count": null,
   "id": "828548d3-d535-40e7-8561-1666055be9dc",
   "metadata": {},
   "outputs": [],
   "source": []
  }
 ],
 "metadata": {
  "kernelspec": {
   "display_name": "Python [conda env:ssm]",
   "language": "python",
   "name": "conda-env-ssm-py"
  },
  "language_info": {
   "codemirror_mode": {
    "name": "ipython",
    "version": 3
   },
   "file_extension": ".py",
   "mimetype": "text/x-python",
   "name": "python",
   "nbconvert_exporter": "python",
   "pygments_lexer": "ipython3",
   "version": "3.9.13"
  }
 },
 "nbformat": 4,
 "nbformat_minor": 5
}
