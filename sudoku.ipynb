{
 "cells": [
  {
   "cell_type": "code",
   "execution_count": 1,
   "id": "84335697-9c45-4dd3-9a32-edd64fa83230",
   "metadata": {},
   "outputs": [],
   "source": [
    "from sudoku import Sudoku"
   ]
  },
  {
   "cell_type": "code",
   "execution_count": 2,
   "id": "75ee0f86-9fe8-477e-b34d-597bb1b9dcfb",
   "metadata": {},
   "outputs": [
    {
     "name": "stdout",
     "output_type": "stream",
     "text": [
      "+-------+-------+-------+\n",
      "| 7 5   |   6 3 | 4   2 |\n",
      "| 1   6 | 2 7   |       |\n",
      "| 2   4 |   5   |   7   |\n",
      "+-------+-------+-------+\n",
      "|       |   8   | 3 6   |\n",
      "| 6     | 3   9 |   1   |\n",
      "| 8 9 3 | 6 1 5 | 2   7 |\n",
      "+-------+-------+-------+\n",
      "| 3     |   2   |   9 4 |\n",
      "| 9   2 | 8     |   5   |\n",
      "| 5   8 | 4 9   |       |\n",
      "+-------+-------+-------+\n",
      "\n"
     ]
    }
   ],
   "source": [
    "puzzle = Sudoku(3).difficulty(0.5)\n",
    "puzzle.show()"
   ]
  },
  {
   "cell_type": "code",
   "execution_count": 3,
   "id": "9110b62d-f283-44ab-a6cc-0bf162e1b08b",
   "metadata": {},
   "outputs": [
    {
     "name": "stdout",
     "output_type": "stream",
     "text": [
      "+-------+-------+-------+\n",
      "| 7 5   |   6   | 4     |\n",
      "|       |       |       |\n",
      "| 2   4 |       |   7   |\n",
      "+-------+-------+-------+\n",
      "|       |   8   |       |\n",
      "|       | 3   9 |   1   |\n",
      "|       |       | 2     |\n",
      "+-------+-------+-------+\n",
      "|       |       |   9 4 |\n",
      "|     2 |       |   5   |\n",
      "| 5     |       |       |\n",
      "+-------+-------+-------+\n",
      "\n"
     ]
    }
   ],
   "source": [
    "puzzle2 = Sudoku(3).difficulty(0.8)\n",
    "puzzle2.show()"
   ]
  },
  {
   "cell_type": "code",
   "execution_count": 4,
   "id": "2e4ce3a4-1d22-4bb6-acfd-31d0dc2a7cbe",
   "metadata": {},
   "outputs": [
    {
     "name": "stdout",
     "output_type": "stream",
     "text": [
      "+-------+-------+-------+\n",
      "| 7 5 8 | 1 6 3 | 4 2 9 |\n",
      "| 6 1 9 | 2 4 7 | 5 3 8 |\n",
      "| 2 3 4 | 9 5 8 | 1 7 6 |\n",
      "+-------+-------+-------+\n",
      "| 1 2 7 | 6 8 5 | 9 4 3 |\n",
      "| 4 8 5 | 3 2 9 | 6 1 7 |\n",
      "| 3 9 6 | 7 1 4 | 2 8 5 |\n",
      "+-------+-------+-------+\n",
      "| 8 6 1 | 5 3 2 | 7 9 4 |\n",
      "| 9 4 2 | 8 7 6 | 3 5 1 |\n",
      "| 5 7 3 | 4 9 1 | 8 6 2 |\n",
      "+-------+-------+-------+\n",
      "\n"
     ]
    }
   ],
   "source": [
    "solution = puzzle2.solve()\n",
    "solution.show()"
   ]
  },
  {
   "cell_type": "code",
   "execution_count": 5,
   "id": "22df2f6e-3dce-4db2-b58d-579f8f82d2a9",
   "metadata": {},
   "outputs": [
    {
     "data": {
      "text/plain": [
       "[[7, 5, 8, 1, 6, 3, 4, 2, 9],\n",
       " [6, 1, 9, 2, 4, 7, 5, 3, 8],\n",
       " [2, 3, 4, 9, 5, 8, 1, 7, 6],\n",
       " [1, 2, 7, 6, 8, 5, 9, 4, 3],\n",
       " [4, 8, 5, 3, 2, 9, 6, 1, 7],\n",
       " [3, 9, 6, 7, 1, 4, 2, 8, 5],\n",
       " [8, 6, 1, 5, 3, 2, 7, 9, 4],\n",
       " [9, 4, 2, 8, 7, 6, 3, 5, 1],\n",
       " [5, 7, 3, 4, 9, 1, 8, 6, 2]]"
      ]
     },
     "execution_count": 5,
     "metadata": {},
     "output_type": "execute_result"
    }
   ],
   "source": [
    "solution.board"
   ]
  },
  {
   "cell_type": "code",
   "execution_count": 6,
   "id": "869923dc-94cb-497c-8dd6-6e7bde2cb708",
   "metadata": {},
   "outputs": [
    {
     "data": {
      "text/plain": [
       "[[7, 5, None, None, 6, None, 4, None, None],\n",
       " [None, None, None, None, None, None, None, None, None],\n",
       " [2, None, 4, None, None, None, None, 7, None],\n",
       " [None, None, None, None, 8, None, None, None, None],\n",
       " [None, None, None, 3, None, 9, None, 1, None],\n",
       " [None, None, None, None, None, None, 2, None, None],\n",
       " [None, None, None, None, None, None, None, 9, 4],\n",
       " [None, None, 2, None, None, None, None, 5, None],\n",
       " [5, None, None, None, None, None, None, None, None]]"
      ]
     },
     "execution_count": 6,
     "metadata": {},
     "output_type": "execute_result"
    }
   ],
   "source": [
    "puzzle2.board"
   ]
  },
  {
   "cell_type": "code",
   "execution_count": 8,
   "id": "e0edb4f5-5da7-4a88-9654-72a7984963dd",
   "metadata": {},
   "outputs": [
    {
     "ename": "NameError",
     "evalue": "name 'puzzle3' is not defined",
     "output_type": "error",
     "traceback": [
      "\u001b[0;31m---------------------------------------------------------------------------\u001b[0m",
      "\u001b[0;31mNameError\u001b[0m                                 Traceback (most recent call last)",
      "Cell \u001b[0;32mIn [8], line 1\u001b[0m\n\u001b[0;32m----> 1\u001b[0m \u001b[43mpuzzle3\u001b[49m\u001b[38;5;241m.\u001b[39msolve()\u001b[38;5;241m.\u001b[39mshow()\n",
      "\u001b[0;31mNameError\u001b[0m: name 'puzzle3' is not defined"
     ]
    }
   ],
   "source": [
    "puzzle3.solve().show()"
   ]
  },
  {
   "cell_type": "code",
   "execution_count": 16,
   "id": "d039bc05-0c6d-41fa-8d67-dbbfc105b8d6",
   "metadata": {},
   "outputs": [
    {
     "data": {
      "text/plain": [
       "DeviceArray([[1., 0., 0., 0., 0., 0., 0., 0., 0.],\n",
       "             [0., 1., 0., 0., 0., 0., 0., 0., 0.],\n",
       "             [0., 0., 1., 0., 0., 0., 0., 0., 0.],\n",
       "             [0., 0., 0., 1., 0., 0., 0., 0., 0.],\n",
       "             [0., 0., 0., 0., 1., 0., 0., 0., 0.],\n",
       "             [0., 0., 0., 0., 0., 1., 0., 0., 0.],\n",
       "             [0., 0., 0., 0., 0., 0., 1., 0., 0.],\n",
       "             [0., 0., 0., 0., 0., 0., 0., 1., 0.],\n",
       "             [0., 0., 0., 0., 0., 0., 0., 0., 1.]], dtype=float32)"
      ]
     },
     "execution_count": 16,
     "metadata": {},
     "output_type": "execute_result"
    }
   ],
   "source": [
    "import jax\n",
    "import jax.numpy as jnp\n",
    "\n",
    "jnp.eye(9)"
   ]
  },
  {
   "cell_type": "code",
   "execution_count": 21,
   "id": "4a8631da-8315-4d2e-b4f0-721df8948694",
   "metadata": {},
   "outputs": [
    {
     "data": {
      "text/plain": [
       "3"
      ]
     },
     "execution_count": 21,
     "metadata": {},
     "output_type": "execute_result"
    }
   ],
   "source": [
    "puzzle.width"
   ]
  },
  {
   "cell_type": "code",
   "execution_count": 12,
   "id": "2bdadeb7-873a-487c-9c38-18c0734ffe2c",
   "metadata": {},
   "outputs": [],
   "source": [
    "from copy import deepcopy\n",
    "from flax import struct\n",
    "import jax.numpy as jnp\n",
    "\n",
    "\n",
    "class Sudoku:\n",
    "    \n",
    "    def __init__(self, puzzle):\n",
    "        self.width = puzzle.width\n",
    "        self.size = self.width ** 2\n",
    "        self.zeros = [0] * self.size\n",
    "        self.map = self._make_map(self.size)\n",
    "        self.puzzle = puzzle\n",
    "        self.solution = puzzle.solve()\n",
    "        self.solution_tensor = self.to_tensor()\n",
    "        self.mask = self.make_mask()\n",
    "        \n",
    "    def _make_map(self, size):\n",
    "        kvs = {}\n",
    "        for i in range(size):\n",
    "            l = deepcopy(self.zeros)\n",
    "            l[i] = 1\n",
    "            kvs[i+1] = l\n",
    "        return kvs\n",
    "\n",
    "    def make_mask(self):\n",
    "        board = []\n",
    "        for row in self.puzzle.board:\n",
    "            for value in row:\n",
    "                if value is not None:\n",
    "                    board.append([0])\n",
    "                else:\n",
    "                    board.append([1])\n",
    "        return jnp.array(board)\n",
    "                \n",
    "    def to_tensor(self):\n",
    "        board = []\n",
    "        for row in self.solution.board:\n",
    "            for value in row:\n",
    "                board.append(self.map[value])\n",
    "        return jnp.array(board)\n",
    "    \n",
    "    @classmethod\n",
    "    def from_jax(cls, flat_board):\n",
    "        pass\n",
    "\n",
    "\n",
    "\n",
    "\n"
   ]
  },
  {
   "cell_type": "code",
   "execution_count": 13,
   "id": "486efbd3-8063-4a84-aa40-1a0c308b1256",
   "metadata": {},
   "outputs": [],
   "source": [
    "sud = Sudoku(puzzle2)"
   ]
  },
  {
   "cell_type": "code",
   "execution_count": 16,
   "id": "4422f867-2b55-4ba9-a55d-cdd835c20e0c",
   "metadata": {},
   "outputs": [],
   "source": [
    "p2 = sud.to_tensor()"
   ]
  },
  {
   "cell_type": "code",
   "execution_count": 20,
   "id": "cc6594a7-8668-4ffb-a39c-6e8803081862",
   "metadata": {},
   "outputs": [
    {
     "data": {
      "text/plain": [
       "DeviceArray([[[0, 0, 0, 0, 0, 0, 1, 0, 0],\n",
       "              [0, 0, 0, 0, 1, 0, 0, 0, 0],\n",
       "              [0, 0, 0, 0, 0, 0, 0, 1, 0],\n",
       "              [1, 0, 0, 0, 0, 0, 0, 0, 0],\n",
       "              [0, 0, 0, 0, 0, 1, 0, 0, 0],\n",
       "              [0, 0, 1, 0, 0, 0, 0, 0, 0],\n",
       "              [0, 0, 0, 1, 0, 0, 0, 0, 0],\n",
       "              [0, 1, 0, 0, 0, 0, 0, 0, 0],\n",
       "              [0, 0, 0, 0, 0, 0, 0, 0, 1]],\n",
       "\n",
       "             [[0, 0, 0, 0, 0, 1, 0, 0, 0],\n",
       "              [1, 0, 0, 0, 0, 0, 0, 0, 0],\n",
       "              [0, 0, 0, 0, 0, 0, 0, 0, 1],\n",
       "              [0, 1, 0, 0, 0, 0, 0, 0, 0],\n",
       "              [0, 0, 0, 1, 0, 0, 0, 0, 0],\n",
       "              [0, 0, 0, 0, 0, 0, 1, 0, 0],\n",
       "              [0, 0, 0, 0, 1, 0, 0, 0, 0],\n",
       "              [0, 0, 1, 0, 0, 0, 0, 0, 0],\n",
       "              [0, 0, 0, 0, 0, 0, 0, 1, 0]],\n",
       "\n",
       "             [[0, 1, 0, 0, 0, 0, 0, 0, 0],\n",
       "              [0, 0, 1, 0, 0, 0, 0, 0, 0],\n",
       "              [0, 0, 0, 1, 0, 0, 0, 0, 0],\n",
       "              [0, 0, 0, 0, 0, 0, 0, 0, 1],\n",
       "              [0, 0, 0, 0, 1, 0, 0, 0, 0],\n",
       "              [0, 0, 0, 0, 0, 0, 0, 1, 0],\n",
       "              [1, 0, 0, 0, 0, 0, 0, 0, 0],\n",
       "              [0, 0, 0, 0, 0, 0, 1, 0, 0],\n",
       "              [0, 0, 0, 0, 0, 1, 0, 0, 0]],\n",
       "\n",
       "             [[1, 0, 0, 0, 0, 0, 0, 0, 0],\n",
       "              [0, 1, 0, 0, 0, 0, 0, 0, 0],\n",
       "              [0, 0, 0, 0, 0, 0, 1, 0, 0],\n",
       "              [0, 0, 0, 0, 0, 1, 0, 0, 0],\n",
       "              [0, 0, 0, 0, 0, 0, 0, 1, 0],\n",
       "              [0, 0, 0, 0, 1, 0, 0, 0, 0],\n",
       "              [0, 0, 0, 0, 0, 0, 0, 0, 1],\n",
       "              [0, 0, 0, 1, 0, 0, 0, 0, 0],\n",
       "              [0, 0, 1, 0, 0, 0, 0, 0, 0]],\n",
       "\n",
       "             [[0, 0, 0, 1, 0, 0, 0, 0, 0],\n",
       "              [0, 0, 0, 0, 0, 0, 0, 1, 0],\n",
       "              [0, 0, 0, 0, 1, 0, 0, 0, 0],\n",
       "              [0, 0, 1, 0, 0, 0, 0, 0, 0],\n",
       "              [0, 1, 0, 0, 0, 0, 0, 0, 0],\n",
       "              [0, 0, 0, 0, 0, 0, 0, 0, 1],\n",
       "              [0, 0, 0, 0, 0, 1, 0, 0, 0],\n",
       "              [1, 0, 0, 0, 0, 0, 0, 0, 0],\n",
       "              [0, 0, 0, 0, 0, 0, 1, 0, 0]],\n",
       "\n",
       "             [[0, 0, 1, 0, 0, 0, 0, 0, 0],\n",
       "              [0, 0, 0, 0, 0, 0, 0, 0, 1],\n",
       "              [0, 0, 0, 0, 0, 1, 0, 0, 0],\n",
       "              [0, 0, 0, 0, 0, 0, 1, 0, 0],\n",
       "              [1, 0, 0, 0, 0, 0, 0, 0, 0],\n",
       "              [0, 0, 0, 1, 0, 0, 0, 0, 0],\n",
       "              [0, 1, 0, 0, 0, 0, 0, 0, 0],\n",
       "              [0, 0, 0, 0, 0, 0, 0, 1, 0],\n",
       "              [0, 0, 0, 0, 1, 0, 0, 0, 0]],\n",
       "\n",
       "             [[0, 0, 0, 0, 0, 0, 0, 1, 0],\n",
       "              [0, 0, 0, 0, 0, 1, 0, 0, 0],\n",
       "              [1, 0, 0, 0, 0, 0, 0, 0, 0],\n",
       "              [0, 0, 0, 0, 1, 0, 0, 0, 0],\n",
       "              [0, 0, 1, 0, 0, 0, 0, 0, 0],\n",
       "              [0, 1, 0, 0, 0, 0, 0, 0, 0],\n",
       "              [0, 0, 0, 0, 0, 0, 1, 0, 0],\n",
       "              [0, 0, 0, 0, 0, 0, 0, 0, 1],\n",
       "              [0, 0, 0, 1, 0, 0, 0, 0, 0]],\n",
       "\n",
       "             [[0, 0, 0, 0, 0, 0, 0, 0, 1],\n",
       "              [0, 0, 0, 1, 0, 0, 0, 0, 0],\n",
       "              [0, 1, 0, 0, 0, 0, 0, 0, 0],\n",
       "              [0, 0, 0, 0, 0, 0, 0, 1, 0],\n",
       "              [0, 0, 0, 0, 0, 0, 1, 0, 0],\n",
       "              [0, 0, 0, 0, 0, 1, 0, 0, 0],\n",
       "              [0, 0, 1, 0, 0, 0, 0, 0, 0],\n",
       "              [0, 0, 0, 0, 1, 0, 0, 0, 0],\n",
       "              [1, 0, 0, 0, 0, 0, 0, 0, 0]],\n",
       "\n",
       "             [[0, 0, 0, 0, 1, 0, 0, 0, 0],\n",
       "              [0, 0, 0, 0, 0, 0, 1, 0, 0],\n",
       "              [0, 0, 1, 0, 0, 0, 0, 0, 0],\n",
       "              [0, 0, 0, 1, 0, 0, 0, 0, 0],\n",
       "              [0, 0, 0, 0, 0, 0, 0, 0, 1],\n",
       "              [1, 0, 0, 0, 0, 0, 0, 0, 0],\n",
       "              [0, 0, 0, 0, 0, 0, 0, 1, 0],\n",
       "              [0, 0, 0, 0, 0, 1, 0, 0, 0],\n",
       "              [0, 1, 0, 0, 0, 0, 0, 0, 0]]], dtype=int32)"
      ]
     },
     "execution_count": 20,
     "metadata": {},
     "output_type": "execute_result"
    }
   ],
   "source": [
    "p2.reshape((9,9,9))"
   ]
  },
  {
   "cell_type": "code",
   "execution_count": 23,
   "id": "6b3863c6-370d-4ab6-8366-8b926195b92f",
   "metadata": {},
   "outputs": [
    {
     "data": {
      "text/plain": [
       "DeviceArray([[0],\n",
       "             [0],\n",
       "             [1],\n",
       "             [1],\n",
       "             [0],\n",
       "             [1],\n",
       "             [0],\n",
       "             [1],\n",
       "             [1],\n",
       "             [1],\n",
       "             [1],\n",
       "             [1],\n",
       "             [1],\n",
       "             [1],\n",
       "             [1],\n",
       "             [1],\n",
       "             [1],\n",
       "             [1],\n",
       "             [0],\n",
       "             [1],\n",
       "             [0],\n",
       "             [1],\n",
       "             [1],\n",
       "             [1],\n",
       "             [1],\n",
       "             [0],\n",
       "             [1],\n",
       "             [1],\n",
       "             [1],\n",
       "             [1],\n",
       "             [1],\n",
       "             [0],\n",
       "             [1],\n",
       "             [1],\n",
       "             [1],\n",
       "             [1],\n",
       "             [1],\n",
       "             [1],\n",
       "             [1],\n",
       "             [0],\n",
       "             [1],\n",
       "             [0],\n",
       "             [1],\n",
       "             [0],\n",
       "             [1],\n",
       "             [1],\n",
       "             [1],\n",
       "             [1],\n",
       "             [1],\n",
       "             [1],\n",
       "             [1],\n",
       "             [0],\n",
       "             [1],\n",
       "             [1],\n",
       "             [1],\n",
       "             [1],\n",
       "             [1],\n",
       "             [1],\n",
       "             [1],\n",
       "             [1],\n",
       "             [1],\n",
       "             [0],\n",
       "             [0],\n",
       "             [1],\n",
       "             [1],\n",
       "             [0],\n",
       "             [1],\n",
       "             [1],\n",
       "             [1],\n",
       "             [1],\n",
       "             [0],\n",
       "             [1],\n",
       "             [0],\n",
       "             [1],\n",
       "             [1],\n",
       "             [1],\n",
       "             [1],\n",
       "             [1],\n",
       "             [1],\n",
       "             [1],\n",
       "             [1]], dtype=int32)"
      ]
     },
     "execution_count": 23,
     "metadata": {},
     "output_type": "execute_result"
    }
   ],
   "source": [
    "sud.make_mask()[..., None]"
   ]
  },
  {
   "cell_type": "code",
   "execution_count": null,
   "id": "63136cd2-3b2d-4af9-9242-314b485ee6b5",
   "metadata": {},
   "outputs": [],
   "source": []
  }
 ],
 "metadata": {
  "kernelspec": {
   "display_name": "Python [conda env:ssm]",
   "language": "python",
   "name": "conda-env-ssm-py"
  },
  "language_info": {
   "codemirror_mode": {
    "name": "ipython",
    "version": 3
   },
   "file_extension": ".py",
   "mimetype": "text/x-python",
   "name": "python",
   "nbconvert_exporter": "python",
   "pygments_lexer": "ipython3",
   "version": "3.10.6"
  }
 },
 "nbformat": 4,
 "nbformat_minor": 5
}
